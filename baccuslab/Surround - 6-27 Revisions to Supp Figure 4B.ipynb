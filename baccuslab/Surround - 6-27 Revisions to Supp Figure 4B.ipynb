{
 "cells": [
  {
   "cell_type": "markdown",
   "metadata": {},
   "source": [
    "# Using new numbers from Steve 5-18 2017  \n",
    "(e.g. horizontal and amacrine space constants)  \n",
    "Amacrine cell 80 ± 18 µm (mean ± sd)  \n",
    "Horizontal cell 116  ±  35  \n",
    "Bipolar cell SNR 7.1 ± 5"
   ]
  },
  {
   "cell_type": "code",
   "execution_count": 1,
   "metadata": {},
   "outputs": [],
   "source": [
    "import matplotlib\n",
    "matplotlib.use('Agg')\n",
    "\n",
    "import numpy as np\n",
    "import collections\n",
    "from functools import partial\n",
    "from os.path import expanduser\n",
    "from tqdm import tqdm\n",
    "import h5py\n",
    "\n",
    "from surround.image_processing import *\n",
    "from surround.data_handling import *\n",
    "from surround.efficient_coding import *\n",
    "from aesthetics.plotting import *\n",
    "from surround.modeling import gaussian, difference_of_gaussians\n",
    "\n",
    "import pyret.filtertools as ft\n",
    "from sklearn.decomposition import PCA\n",
    "from scipy.stats import sem\n",
    "from scipy.optimize import curve_fit, minimize\n",
    "from scipy.interpolate import interp1d\n",
    "from scipy.stats import pearsonr\n",
    "\n",
    "from mpl_toolkits.axes_grid1 import make_axes_locatable\n",
    "from scipy.signal import convolve2d\n",
    "import datetime\n",
    "\n",
    "# This is a bit of magic to make matplotlib figures appear inline in the\n",
    "# notebook rather than in a new window.\n",
    "%matplotlib inline\n",
    "import matplotlib.pyplot as plt\n",
    "from matplotlib.ticker import MultipleLocator, FormatStrFormatter\n",
    "\n",
    "plt.style.use('deepretina')\n",
    "\n",
    "# Some more magic so that the notebook will reload external python modules;\n",
    "# see http://stackoverflow.com/questions/1907993/autoreload-of-modules-in-ipython\n",
    "%load_ext autoreload\n",
    "%autoreload 2"
   ]
  },
  {
   "cell_type": "code",
   "execution_count": 2,
   "metadata": {},
   "outputs": [
    {
     "name": "stdout",
     "output_type": "stream",
     "text": [
      "2017-06-27\n"
     ]
    }
   ],
   "source": [
    "todays_date = str(datetime.date.today())\n",
    "print(todays_date)"
   ]
  },
  {
   "cell_type": "code",
   "execution_count": 3,
   "metadata": {},
   "outputs": [],
   "source": [
    "microns_per_degree = 50.0 # depends on species; this is for salamander\n",
    "photoreceptor_width = 10.0/microns_per_degree # salamander photoreceptors have width of 10-20 microns\n",
    "retina_width = 4000.0/microns_per_degree # salamander retina is about 4 mm\n",
    "frequency_spacing = 1./retina_width # this is the lowest non-DC frequency we can estimate\n",
    "highest_frequency = 0.5/photoreceptor_width # this is the highest frequency we can estimate (Nyquist freq.)\n",
    "\n",
    "N = int(retina_width//photoreceptor_width)\n",
    "freqs = np.linspace(0, highest_frequency, N//2 + 1)\n",
    "space = np.concatenate([np.linspace(-0.5*retina_width, 0, N//2 + 1)[:-1], np.linspace(0, 0.5*retina_width, N//2 + 1)])"
   ]
  },
  {
   "cell_type": "markdown",
   "metadata": {},
   "source": [
    "### Load receptive fields"
   ]
  },
  {
   "cell_type": "code",
   "execution_count": 4,
   "metadata": {
    "collapsed": true
   },
   "outputs": [],
   "source": [
    "# These are loaded as (space, receptive) field tuples\n",
    "cells = {}\n",
    "cells['ganglion'] = load_ganglion_cells(space_mode='peak')\n",
    "cells['bipolar'] = load_bipolar_cells(space_mode='peak')\n",
    "cells['amacrine'] = load_amacrine_cells(space_mode='peak')\n",
    "cells['horizontal'] = load_horizontal_cells(space_mode='peak')"
   ]
  },
  {
   "cell_type": "code",
   "execution_count": 5,
   "metadata": {
    "collapsed": true
   },
   "outputs": [],
   "source": [
    "receptive_fields = collections.defaultdict(list)\n",
    "for c in cells.keys():\n",
    "    for s, rf in cells[c]:\n",
    "        this_cell_interp = interp1d(s, rf, kind='slinear', bounds_error=False, fill_value=[0])\n",
    "        receptive_fields[c].append(this_cell_interp(space))\n",
    "        \n",
    "average_ganglion_rf = np.mean(receptive_fields['ganglion'], axis=0)"
   ]
  },
  {
   "cell_type": "markdown",
   "metadata": {},
   "source": [
    "David's 1721 receptive field dataset"
   ]
  },
  {
   "cell_type": "code",
   "execution_count": 6,
   "metadata": {
    "collapsed": true
   },
   "outputs": [],
   "source": [
    "data_path = expanduser('~/data/kastner/receptive_fields/')\n",
    "spatialDelta = 0.05 # mm\n",
    "micronsPerDeg = 50.\n",
    "ganglion_rfs = {\n",
    "    'fast_on': np.loadtxt(data_path + 'linesRF1.txt').reshape((126, 101, -1)),\n",
    "    'fast_off_adapting': np.loadtxt(data_path + 'linesRF19.txt').reshape((-1, 101, 96)),\n",
    "    'fast_off_sensitizing': np.loadtxt(data_path + 'linesRF8.txt').reshape((-1, 101, 96)),\n",
    "    'medium_off_adapting': np.loadtxt(data_path + 'linesRF29.txt').reshape((-1, 101, 96)),\n",
    "    'slow_off': np.loadtxt(data_path + 'linesRF17.txt').reshape((-1, 101, 96)),\n",
    "}\n",
    "\n",
    "for celltype in ganglion_rfs.keys():\n",
    "    for rf in ganglion_rfs[celltype]:\n",
    "        # since receptive fields are noisy, use PCA\n",
    "        pca = PCA(n_components=2)\n",
    "        pca.fit(rf)\n",
    "        g_pca = pca.components_[0]\n",
    "\n",
    "        sign_of_pc = -1 * np.sign(g_pca[abs(g_pca) == np.max(abs(g_pca))])\n",
    "        this_space = get_space(g_pca, spatialDelta, micronsPerDeg, kind='peak')\n",
    "        \n",
    "        rf_interp = interp1d(this_space, sign_of_pc*g_pca, kind='slinear', bounds_error=False, fill_value=[0])\n",
    "\n",
    "        receptive_fields[celltype].append(rf_interp(space))"
   ]
  },
  {
   "cell_type": "markdown",
   "metadata": {},
   "source": [
    "### Remove duplicates"
   ]
  },
  {
   "cell_type": "code",
   "execution_count": 7,
   "metadata": {},
   "outputs": [
    {
     "name": "stderr",
     "output_type": "stream",
     "text": [
      "2it [00:00, 5053.38it/s]\n",
      "2it [00:00, 13273.11it/s]\n",
      "772it [00:19, 38.73it/s] \n",
      "249it [00:02, 121.48it/s]\n",
      "126it [00:00, 239.62it/s]\n",
      "321it [00:03, 94.47it/s] \n",
      "28it [00:00, 1098.05it/s]\n",
      "2it [00:00, 15391.94it/s]\n",
      "253it [00:02, 117.48it/s]\n"
     ]
    }
   ],
   "source": [
    "corr_map = {}\n",
    "for celltype in receptive_fields.keys():\n",
    "    corr_map[celltype] = np.zeros((len(receptive_fields[celltype]), len(receptive_fields[celltype])))\n",
    "    for idr1, rf1 in tqdm(enumerate(receptive_fields[celltype])):\n",
    "        for idr2 in range(idr1+1, len(receptive_fields[celltype])):\n",
    "            rf2 = receptive_fields[celltype][idr2]\n",
    "            corr_map[celltype][idr1, idr2] = pearsonr(rf1, rf2)[0]\n",
    "\n",
    "unduplicated_receptive_fields = collections.defaultdict(list)\n",
    "duplicates = collections.defaultdict(list)\n",
    "\n",
    "for celltype in corr_map.keys():\n",
    "    these_dups = []\n",
    "    for row in corr_map[celltype]:\n",
    "        these_dups.append([i for i in range(len(row)) if row[i] == 1.0])\n",
    "    duplicates[celltype] = np.unique(np.hstack(these_dups))\n",
    "    \n",
    "unduplicated_receptive_fields = collections.defaultdict(list)\n",
    "for celltype in receptive_fields.keys():\n",
    "    for idr, rf in enumerate(receptive_fields[celltype]):\n",
    "        if idr not in duplicates[celltype]:\n",
    "            unduplicated_receptive_fields[celltype].append(rf)\n",
    "            \n",
    "receptive_fields = unduplicated_receptive_fields.copy()\n",
    "del unduplicated_receptive_fields"
   ]
  },
  {
   "cell_type": "code",
   "execution_count": 8,
   "metadata": {},
   "outputs": [
    {
     "data": {
      "text/plain": [
       "1382"
      ]
     },
     "execution_count": 8,
     "metadata": {},
     "output_type": "execute_result"
    }
   ],
   "source": [
    "sum([len(receptive_fields[k]) for k in receptive_fields.keys()]) - sum([len(receptive_fields[k]) for k in ['horizontal',\n",
    "                                                                                                           'amacrine',\n",
    "                                                                                                          'bipolar']])"
   ]
  },
  {
   "cell_type": "markdown",
   "metadata": {},
   "source": [
    "### Compute projective fields"
   ]
  },
  {
   "cell_type": "code",
   "execution_count": 9,
   "metadata": {},
   "outputs": [],
   "source": [
    "horz_pfs_full = get_horizontal_projective_field(conv_mode='full')\n",
    "horz_pfs_same = get_horizontal_projective_field(conv_mode='same')\n",
    "ama_pfs_full = get_amacrine_projective_field(conv_mode='full')\n",
    "ama_pfs_same = get_amacrine_projective_field(conv_mode='same')\n",
    "\n",
    "space_h_full, horz_pf_full, horz_sem_full = get_mean(horz_pfs_full)\n",
    "space_h_same, horz_pf_same, horz_sem_same = get_mean(horz_pfs_same)\n",
    "space_a_full, ama_pf_full, ama_sem_full = get_mean(ama_pfs_full)\n",
    "space_a_same, ama_pf_same, ama_sem_same = get_mean(ama_pfs_same)"
   ]
  },
  {
   "cell_type": "code",
   "execution_count": 10,
   "metadata": {
    "collapsed": true
   },
   "outputs": [],
   "source": [
    "horz_pf_interp = interp1d(space_h_full, horz_pf_full, kind='slinear', bounds_error=False, fill_value=[0])\n",
    "ama_pf_interp = interp1d(space_a_full, ama_pf_full, kind='slinear', bounds_error=False, fill_value=[0])\n",
    "\n",
    "horz_pf = horz_pf_interp(space)\n",
    "ama_pf = ama_pf_interp(space)"
   ]
  },
  {
   "cell_type": "markdown",
   "metadata": {},
   "source": [
    "### Signal"
   ]
  },
  {
   "cell_type": "code",
   "execution_count": 11,
   "metadata": {},
   "outputs": [],
   "source": [
    "# choose an image path from cd13A (flood plain, water, horizon) or cd01A (baboons, trees, bushes)\n",
    "pixelsToDeg = 92./2 # or 2./92 degrees per pixel (spacing)\n",
    "spacing = 1./pixelsToDeg # number of degree spacing between pixels\n",
    "normalize = 'divisive'\n",
    "contrast = 0.35\n",
    "signal = np.array(np.load('signal_3_23.npy'))"
   ]
  },
  {
   "cell_type": "markdown",
   "metadata": {},
   "source": [
    "### Noise  \n",
    "Note that the amplitude of the average_ganglion_fft will change the SNR. As the amplitude $\\rightarrow \\infty$, we get $$\\rm{SNR} \\rightarrow \\frac{\\sum (\\rm{filter}_{1:f} \\times \\rm{signal}_{1:f})^2}{\\sum (\\rm{filter}_{1:f} \\times N_{\\rm{in}})^2}$$.  \n",
    "\n",
    "Since the scale of the ganglion fft is arbitrary, we can look at the SNR in this limit."
   ]
  },
  {
   "cell_type": "code",
   "execution_count": 12,
   "metadata": {
    "collapsed": true
   },
   "outputs": [],
   "source": [
    "input_noise = 0.0469253741641 #0.098762200628786892\n",
    "output_noise = 0.35\n",
    "target_power = 48.053365503112332 #54.131410989171826"
   ]
  },
  {
   "cell_type": "code",
   "execution_count": 13,
   "metadata": {},
   "outputs": [
    {
     "name": "stdout",
     "output_type": "stream",
     "text": [
      "8.53019238991\n"
     ]
    },
    {
     "data": {
      "text/plain": [
       "<matplotlib.collections.PathCollection at 0x7f62d9f806d8>"
      ]
     },
     "execution_count": 13,
     "metadata": {},
     "output_type": "execute_result"
    },
    {
     "data": {
      "image/png": "[encoded data removed]",
      "text/plain": [
       "<matplotlib.figure.Figure at 0x7f62d2314f60>"
      ]
     },
     "metadata": {},
     "output_type": "display_data"
    }
   ],
   "source": [
    "fig = plt.gcf()\n",
    "fig.set_size_inches((2,2))\n",
    "average_ganglion_fft = abs(np.fft.rfft(average_ganglion_rf))\n",
    "print(get_snr(input_noise, output_noise, signal, 1000*average_ganglion_fft, mode='variance'))\n",
    "snrs = [get_snr(input_noise, output_noise, signal, c*average_ganglion_fft) for c in np.linspace(0,50,100)]\n",
    "plt.plot(np.linspace(0,50,100), snrs)\n",
    "adjust_spines(plt.gca())\n",
    "plt.xlabel('Arbitrary scaling of ganglion cell filter')\n",
    "plt.ylabel('SNR')\n",
    "\n",
    "# SNR = 0.269 is total SNR from ganglion recordings of 112 repeats to 30 seconds natural scenes\n",
    "def find_filt_const(filt_const):\n",
    "    this_snr = get_snr(input_noise, output_noise, signal, filt_const*average_ganglion_fft, mode='variance')\n",
    "    return (this_snr - 0.26912469)**2\n",
    "\n",
    "filt_const_opt = scipy.optimize.minimize_scalar(find_filt_const)\n",
    "\n",
    "our_snr = get_snr(input_noise, output_noise, signal, filt_const_opt.x*average_ganglion_fft, mode='variance')\n",
    "\n",
    "plt.scatter(filt_const_opt.x, our_snr, s=20, color='k')"
   ]
  },
  {
   "cell_type": "markdown",
   "metadata": {},
   "source": [
    "### Ideal filter"
   ]
  },
  {
   "cell_type": "code",
   "execution_count": 14,
   "metadata": {},
   "outputs": [
    {
     "name": "stdout",
     "output_type": "stream",
     "text": [
      "The relative error from this choice of Lagrangian multiplier is 9.3181295214e-08.\n"
     ]
    }
   ],
   "source": [
    "ideal_filter = unique_soln(signal**2, input_noise, output_noise)"
   ]
  },
  {
   "cell_type": "markdown",
   "metadata": {},
   "source": [
    "### Model of Horizontal Projective Field + Amacrine Projective Field + Center"
   ]
  },
  {
   "cell_type": "code",
   "execution_count": 15,
   "metadata": {
    "collapsed": true
   },
   "outputs": [],
   "source": [
    "horz_pf /= np.sum(horz_pf)\n",
    "ama_pf /= np.sum(ama_pf)"
   ]
  },
  {
   "cell_type": "markdown",
   "metadata": {},
   "source": [
    "### Just a simple difference of Gaussians fit to get the initialization point for center width, and the mean center width to find the ideal fit"
   ]
  },
  {
   "cell_type": "markdown",
   "metadata": {},
   "source": [
    "Get center widths for each celltype"
   ]
  },
  {
   "cell_type": "code",
   "execution_count": 16,
   "metadata": {
    "collapsed": true
   },
   "outputs": [],
   "source": [
    "diff_of_gauss_mu0 = partial(difference_of_gaussians, mu=0)"
   ]
  },
  {
   "cell_type": "code",
   "execution_count": null,
   "metadata": {
    "collapsed": true
   },
   "outputs": [],
   "source": [
    "def center_and_surround(space, center_width, surround_width, center_strength, surround_strength):\n",
    "    return diff_of_gauss_mu0(space, abs(center_width), abs(surround_width),\n",
    "                            -abs(center_strength), abs(surround_strength))"
   ]
  },
  {
   "cell_type": "code",
   "execution_count": null,
   "metadata": {},
   "outputs": [
    {
     "name": "stderr",
     "output_type": "stream",
     "text": [
      "772it [01:36, 11.06it/s]\n",
      "46it [00:07,  4.25it/s]"
     ]
    }
   ],
   "source": [
    "center_widths = collections.defaultdict(list)\n",
    "surround_widths = collections.defaultdict(list)\n",
    "center_strengths = collections.defaultdict(list)\n",
    "surround_strengths = collections.defaultdict(list)\n",
    "fit_failures = collections.defaultdict(list)\n",
    "\n",
    "for celltype in receptive_fields.keys():\n",
    "    if celltype in ['ganglion', 'fast_on', 'fast_off_adapting', 'fast_off_sensitizing', \n",
    "                    'medium_off_adapting', 'slow_off']:\n",
    "        \n",
    "        for idg, g in tqdm(enumerate(receptive_fields[celltype])):\n",
    "            try:\n",
    "                popt_this, pcov = curve_fit(center_and_surround, space, g, p0=[1.5, 3.5, -10, 30])\n",
    "                center_id = np.argmin(abs(popt_this[:2]))\n",
    "                surround_id = 1 ^ center_id\n",
    "                center_widths[celltype].append(abs(popt_this[center_id]))\n",
    "                surround_widths[celltype].append(abs(popt_this[surround_id]))\n",
    "                center_strengths[celltype].append(popt_this[center_id+2])\n",
    "                surround_strengths[celltype].append(popt_this[surround_id+2])\n",
    "#                 plt.plot(space, diff_of_gauss_mu0(space, *popt_this), color=np.random.rand(3), alpha=0.6)\n",
    "            except:\n",
    "                fit_failures[celltype].append(idg)\n",
    "            \n",
    "                # just set params to median across cells\n",
    "                # this way the params are still aligned with the receptive field id\n",
    "                center_widths[celltype].append(np.median(center_widths[celltype]))\n",
    "                surround_widths[celltype].append(np.median(surround_widths[celltype]))\n",
    "                center_strengths[celltype].append(np.median(center_strengths[celltype]))\n",
    "                surround_strengths[celltype].append(np.median(surround_strengths[celltype]))\n",
    "                \n",
    "#                 print(\"Couldn't fit cell %d\" %idg)"
   ]
  },
  {
   "cell_type": "code",
   "execution_count": null,
   "metadata": {},
   "outputs": [],
   "source": [
    "for f in fit_failures.keys():\n",
    "    print(\"couldn't fit %d in %s\" %(len(fit_failures[f]), f))"
   ]
  },
  {
   "cell_type": "markdown",
   "metadata": {},
   "source": [
    "Plot the average profile across celltypes"
   ]
  },
  {
   "cell_type": "code",
   "execution_count": null,
   "metadata": {},
   "outputs": [],
   "source": [
    "median_center_widths = {}\n",
    "for celltype in center_widths.keys():\n",
    "    cws = np.array(center_widths[celltype])\n",
    "    sws = np.array(surround_widths[celltype])\n",
    "    css = np.array(center_strengths[celltype])\n",
    "    sss = np.array(surround_strengths[celltype])\n",
    "#     mean_center_widths[celltype] = np.mean(cws[cws < 500])\n",
    "#     mean_surround_width = np.mean(sws[sws < 500])\n",
    "#     mean_center_strength = np.mean(css[abs(css) < 500])\n",
    "#     mean_surround_strength = np.mean(sss[abs(sss) < 500])\n",
    "    \n",
    "    median_center_widths[celltype] = np.median(abs(cws))\n",
    "    median_surround_width = np.median(abs(sws))\n",
    "    median_center_strength = np.median(-abs(css))\n",
    "    median_surround_strength = np.median(abs(sss))\n",
    "#     plt.plot(space, diff_of_gauss_mu0(space, median_center_widths[celltype], median_surround_width,\n",
    "#                                      median_center_strength, median_surround_strength), label=celltype)\n",
    "# plt.legend(frameon=False, fontsize=9, loc='lower left')\n",
    "# adjust_spines(plt.gca())"
   ]
  },
  {
   "cell_type": "code",
   "execution_count": null,
   "metadata": {},
   "outputs": [],
   "source": [
    "median_center_widths"
   ]
  },
  {
   "cell_type": "markdown",
   "metadata": {},
   "source": [
    "Bar charts to visualize diversity"
   ]
  },
  {
   "cell_type": "markdown",
   "metadata": {},
   "source": [
    "## Generate info maps"
   ]
  },
  {
   "cell_type": "code",
   "execution_count": null,
   "metadata": {
    "collapsed": true
   },
   "outputs": [],
   "source": [
    "resolution = 150\n",
    "horz_weights = np.linspace(0,1,resolution)\n",
    "center_weights = np.linspace(0,1,resolution)"
   ]
  },
  {
   "cell_type": "code",
   "execution_count": null,
   "metadata": {},
   "outputs": [],
   "source": [
    "init_filt_const = 10.9\n",
    "info_maps = collections.defaultdict(list) # one info map per celltype (since they will be a function of center width)\n",
    "failures = collections.defaultdict(list)\n",
    "detailed_failures = collections.defaultdict(list)\n",
    "for celltype in receptive_fields.keys():\n",
    "    if celltype in ['ganglion', 'fast_on', 'fast_off_adapting', 'fast_off_sensitizing', \n",
    "                    'medium_off_adapting', 'slow_off']:\n",
    "        center = gaussian(x=space, sigma=median_center_widths[celltype], mu=0.)\n",
    "        center /= -np.sum(center) # make center unit vector like horz_pf and ama_pf\n",
    "        \n",
    "        def rf_model(horz_weight, center_weight):\n",
    "            return center_weight*center + (1-center_weight)*(horz_weight*horz_pf + (1-horz_weight)*ama_pf)\n",
    "        \n",
    "#         print('Information map for %s cells.' %celltype)\n",
    "        \n",
    "        infomap = np.zeros((resolution, resolution))\n",
    "        for idh,hw in tqdm(enumerate(horz_weights)):\n",
    "            for idc,cw in enumerate(center_weights):\n",
    "                rf = rf_model(hw, cw)\n",
    "                rf_filt = abs(np.fft.rfft(rf))\n",
    "                \n",
    "                # constrain model\n",
    "                def constrain_filt_power(filt_const):\n",
    "                    size = len(rf_filt)\n",
    "                    output_power = np.sum((signal*filt_const*rf_filt)**2 \n",
    "                                          + (input_noise*filt_const*rf_filt)**2\n",
    "                                          + output_noise**2)\n",
    "                    \n",
    "                    return (target_power - output_power)**2\n",
    "\n",
    "                filt_const_opt = scipy.optimize.minimize(constrain_filt_power, init_filt_const)\n",
    "                iterations = 0\n",
    "                new_init_filt_const = init_filt_const\n",
    "                while not filt_const_opt.success:\n",
    "                    iterations += 1\n",
    "                    new_init_filt_const *= 10\n",
    "                    filt_const_opt = scipy.optimize.minimize(constrain_filt_power, new_init_filt_const)\n",
    "                    if iterations > 10:\n",
    "                        detailed_failures[celltype] = filt_const_opt\n",
    "                        break\n",
    "                \n",
    "                filt_const = abs(filt_const_opt['x'])\n",
    "                \n",
    "                if not filt_const_opt.success:\n",
    "                    failures[celltype].append([hw, cw])\n",
    "\n",
    "                signal_power = (filt_const * rf_filt * signal)**2\n",
    "                noise_power = (filt_const * rf_filt * input_noise)**2 + output_noise**2\n",
    "                infomap[idh,idc] = 0.5*np.sum(np.log2(1 + signal_power/noise_power))\n",
    "        info_maps[celltype] = infomap"
   ]
  },
  {
   "cell_type": "markdown",
   "metadata": {},
   "source": [
    "## Fit cells to rf_model"
   ]
  },
  {
   "cell_type": "code",
   "execution_count": null,
   "metadata": {},
   "outputs": [],
   "source": [
    "colorscheme = {\n",
    "    'ganglion': 'k',\n",
    "    'fast_off_sensitizing': 'r',\n",
    "    'fast_off_adapting': 'g',\n",
    "    'slow_off': 'y',\n",
    "    'fast_on': 'b',\n",
    "    'medium_off_adapting': 'c'\n",
    "}"
   ]
  },
  {
   "cell_type": "code",
   "execution_count": null,
   "metadata": {},
   "outputs": [],
   "source": [
    "info_maps.keys()"
   ]
  },
  {
   "cell_type": "markdown",
   "metadata": {
    "collapsed": true
   },
   "source": [
    "## Load receptive field model fits"
   ]
  },
  {
   "cell_type": "code",
   "execution_count": null,
   "metadata": {
    "collapsed": true
   },
   "outputs": [],
   "source": [
    "def sigmoid(x):\n",
    "    return 1./(1. + np.exp(-x))"
   ]
  },
  {
   "cell_type": "code",
   "execution_count": null,
   "metadata": {
    "collapsed": true
   },
   "outputs": [],
   "source": [
    "fits = np.load('fits_2017-05-20.npy').item()\n",
    "all_params = np.load('params_2017-05-20.npy').item()\n",
    "variances = np.load('variances_2017-05-20.npy').item()\n",
    "mean_squared_errors = np.load('mse_2017-05-20.npy').item()\n",
    "abs_errors = np.load('abserrs_2017-05-20.npy').item()"
   ]
  },
  {
   "cell_type": "code",
   "execution_count": null,
   "metadata": {},
   "outputs": [],
   "source": [
    "info_maps['fast_off_adapting'].max()"
   ]
  },
  {
   "cell_type": "code",
   "execution_count": null,
   "metadata": {},
   "outputs": [],
   "source": [
    "info_maps['fast_on'].max()"
   ]
  },
  {
   "cell_type": "code",
   "execution_count": null,
   "metadata": {
    "scrolled": false
   },
   "outputs": [],
   "source": [
    "global_celltype = 'fast_on'#'medium_off_adapting' #'fast_off_adapting'\n",
    "point_size = 7 #10\n",
    "min_info = np.min(info_maps[global_celltype])\n",
    "max_info = np.max(info_maps[global_celltype])\n",
    "empirical_ideal_indices = np.unravel_index(np.argmax(info_maps[global_celltype]), info_maps[global_celltype].shape)\n",
    "empirical_ideal = [horz_weights[empirical_ideal_indices[0]], center_weights[empirical_ideal_indices[1]]]\n",
    "\n",
    "########## for quivers #########\n",
    "all_fits = []\n",
    "for celltype in fits.keys():\n",
    "    all_fits.extend(fits[celltype])\n",
    "    \n",
    "pca = PCA(n_components=2)\n",
    "pca.fit(all_fits)\n",
    "\n",
    "# flipping the dimensions because fits was saved as horz_weight, center_weight\n",
    "average_variance_direction = abs(np.array([pca.components_[0][1], pca.components_[0][0]]))\n",
    "print('PC1 has explained variance %0.2f%% percent for all cells' %(pca.explained_variance_ratio_[0]*100))\n",
    "\n",
    "max_info_coordinates = collections.defaultdict(list)\n",
    "least_info_directions = collections.defaultdict(list)\n",
    "for celltype in info_maps.keys():\n",
    "    for x in range(info_maps[celltype].shape[0]):\n",
    "        for y in range(info_maps[celltype].shape[1]):\n",
    "            # take cloud of high efficiency points\n",
    "            if info_maps[celltype][x,y] >= 0.9*max_info:\n",
    "                max_info_coordinates[celltype].append([horz_weights[x], center_weights[y]])\n",
    "    pca = PCA()\n",
    "    pca.fit(max_info_coordinates[celltype])\n",
    "    print('PC1 has explained variance %0.2f%% percent for %s' %(pca.explained_variance_ratio_[0]*100, celltype))\n",
    "    least_info_directions[celltype] = abs(pca.components_[-1])\n",
    "    \n",
    "average_least_info_direction = np.mean([least_info_directions[k] for k in least_info_directions.keys()], axis=0)\n",
    "############ end quivers ###########\n",
    "\n",
    "plt.imshow(info_maps[global_celltype], extent=(center_weights[0], center_weights[-1], horz_weights[-1], horz_weights[0]),\n",
    "              aspect='auto', clim=[min_info, max_info])\n",
    "cbar = plt.colorbar()\n",
    "# cbar.set_ticks([6,7,8,9])\n",
    "cbar.set_ticks([6, 8, 10, 12, 14])\n",
    "# plt.clim(0,np.max(info_color_map))\n",
    "cbar.ax.set_ylabel('Mutual information (bits)', fontsize=18)\n",
    "\n",
    "for idc, celltype in enumerate([k for k in info_maps.keys() if k != 'ganglion']):\n",
    "    # make the points lying on the edges more visible\n",
    "    adjusted_fits1 = np.where(fits[celltype] == 1, 0.995, fits[celltype])\n",
    "    adjusted_fits = np.where(adjusted_fits1 < 0.001, 0.005, adjusted_fits1)\n",
    "    plt.scatter(adjusted_fits[:,1], adjusted_fits[:,0],\n",
    "                c=colorscheme[celltype], edgecolor='w', s=point_size, alpha=0.5, label=' '.join(celltype.split('_')),\n",
    "                linewidth=0.3)\n",
    "#     plt.scatter(adjusted_fits[example_ids[celltype]][:nexamples_for_this_plot,1],\n",
    "#                adjusted_fits[example_ids[celltype]][:nexamples_for_this_plot,0],\n",
    "#                c=colorscheme[celltype], edgecolor='k', s=60, marker='*', linewidth=0.7)\n",
    "\n",
    "\n",
    "# plt.quiver(ideal_fit[1], ideal_fit[0], average_variance_direction[0], average_variance_direction[1],\n",
    "#            angles='xy', scale_units='xy', scale=2.5, color='k', edgecolor='w', width=0.012, linewidth=1,\n",
    "#           alpha=0.9)\n",
    "# plt.quiver(ideal_fit[1], ideal_fit[0], average_least_info_direction[0], average_least_info_direction[1],\n",
    "#            angles='xy', scale_units='xy', scale=2.5, color='w', edgecolor='k',\n",
    "#           alpha=0.7, width=.012, linewidth=1.2)\n",
    "# plt.scatter(ideal_fit[1], ideal_fit[0], c='k', edgecolor='k', s=150, marker='*', linewidth=0.7)\n",
    "\n",
    "plt.quiver(empirical_ideal[1], empirical_ideal[0], average_variance_direction[0], average_variance_direction[1],\n",
    "           angles='xy', scale_units='xy', scale=2.5, color='k', edgecolor='w', width=0.012, linewidth=1,\n",
    "          alpha=0.9)\n",
    "plt.quiver(empirical_ideal[1], empirical_ideal[0], average_least_info_direction[0], average_least_info_direction[1],\n",
    "           angles='xy', scale_units='xy', scale=2.5, color='w', edgecolor='k',\n",
    "          alpha=0.7, width=.012, linewidth=1.2)\n",
    "plt.scatter(empirical_ideal[1], empirical_ideal[0], c='k', edgecolor='k', s=150, marker='*', linewidth=0.7)\n",
    "\n",
    "\n",
    "# l = plt.legend(loc='upper left', frameon=False, fontsize=8)\n",
    "# for text in l.get_texts():\n",
    "#     text.set_color(\"white\")\n",
    "plt.ylim([0,1])\n",
    "plt.xlim([center_weights[0], center_weights[-1]])\n",
    "\n",
    "\n",
    "# specify ticks\n",
    "# plt.xticks([0, 0.25, 0.5, 0.75, 1])\n",
    "# plt.yticks([0, 0.25, 0.5, 0.75, 1])\n",
    "majorLocator = MultipleLocator(0.5)\n",
    "majorFormatter = FormatStrFormatter('%0.1f')\n",
    "minorLocator = MultipleLocator(0.25)\n",
    "\n",
    "ax = plt.gca()\n",
    "ax.xaxis.set_major_locator(majorLocator)\n",
    "ax.xaxis.set_major_formatter(majorFormatter)\n",
    "ax.xaxis.set_minor_locator(minorLocator)\n",
    "ax.yaxis.set_major_locator(majorLocator)\n",
    "ax.yaxis.set_major_formatter(majorFormatter)\n",
    "ax.yaxis.set_minor_locator(minorLocator)\n",
    "\n",
    "# plt.title('Total information of various models \\n with fitted ganglion cells', fontsize=16)\n",
    "plt.xlabel('Center (1 - Surround) Weight', fontsize=16)\n",
    "plt.ylabel('Horizontal (1 - Amacrine) Weight', fontsize=16)\n",
    "ax.xaxis.set_ticks_position('bottom')\n",
    "ax.yaxis.set_ticks_position('left')\n",
    "plt.savefig('%s_Figures for Steve IV.png' %todays_date, transparent=True, dpi=300)"
   ]
  },
  {
   "cell_type": "code",
   "execution_count": null,
   "metadata": {},
   "outputs": [],
   "source": [
    "empirical_ideal_indices"
   ]
  },
  {
   "cell_type": "code",
   "execution_count": null,
   "metadata": {},
   "outputs": [],
   "source": [
    "empirical_ideal"
   ]
  },
  {
   "cell_type": "markdown",
   "metadata": {},
   "source": [
    "### Quality of fit"
   ]
  },
  {
   "cell_type": "code",
   "execution_count": null,
   "metadata": {},
   "outputs": [],
   "source": [
    "mean_squared_errors.keys()"
   ]
  },
  {
   "cell_type": "code",
   "execution_count": null,
   "metadata": {},
   "outputs": [],
   "source": [
    "bins = np.linspace(0,1,50)\n",
    "bin_width = np.mean(np.diff(bins))\n",
    "prev_count = np.zeros_like(bins[:-1])\n",
    "\n",
    "ax = plt.gca()\n",
    "\n",
    "for i,celltype in enumerate(mean_squared_errors.keys()):\n",
    "    if 'ganglion' != celltype:\n",
    "        rel_error = np.array(mean_squared_errors[celltype])/np.array(variances[celltype])\n",
    "        ax.vlines(np.median(rel_error), 0, 600, color=colorscheme[celltype], linestyle='--', alpha=0.8, zorder=i)\n",
    "\n",
    "    \n",
    "plt.xlabel('Relative error (normalized by filter variance)')\n",
    "plt.ylabel('Cell count')\n",
    "# ax = plt.gca()\n",
    "ax.spines['right'].set_visible(False)\n",
    "ax.spines['top'].set_visible(False)\n",
    "ax.yaxis.set_ticks_position('left')\n",
    "ax.xaxis.set_ticks_position('bottom')\n",
    "plt.ylim(0,600)\n",
    "\n",
    "for j,celltype in enumerate(mean_squared_errors.keys()):\n",
    "    if 'ganglion' != celltype:\n",
    "        rel_error = np.array(mean_squared_errors[celltype])/np.array(variances[celltype])\n",
    "        count, bins = np.histogram(rel_error, bins=bins)\n",
    "\n",
    "#         plt.bar(bins[:-1]+bin_width/2, count, width=bin_width, color=colorscheme[celltype], \n",
    "#                 label=' '.join(celltype.split('_')), edgecolor='k', bottom=prev_count, zorder=j+10)\n",
    "\n",
    "        plt.bar(bins[:-1]+bin_width/2, count, width=bin_width, color=colorscheme[celltype], \n",
    "                label=' '.join(celltype.split('_')), bottom=prev_count, zorder=j+10)\n",
    "\n",
    "#         plt.bar(bins[:-1]+bin_width/2, count, width=bin_width, color=colorscheme[celltype], \n",
    "#                 label=' '.join(celltype.split('_')), alpha=0.9, zorder=j+10)\n",
    "        prev_count += count\n",
    "\n",
    "\n",
    "plt.legend(loc='upper right', frameon=False, fontsize=9)\n",
    "plt.savefig('%s_Percent variance explained by model with median.png' %todays_date, transparent=True, dpi=300)"
   ]
  },
  {
   "cell_type": "code",
   "execution_count": null,
   "metadata": {
    "collapsed": true
   },
   "outputs": [],
   "source": [
    "rel_errors = []\n",
    "for j,celltype in enumerate(mean_squared_errors.keys()):\n",
    "    if 'ganglion' != celltype:\n",
    "        rel_errors.extend(np.array(mean_squared_errors[celltype])/np.array(variances[celltype]))"
   ]
  },
  {
   "cell_type": "code",
   "execution_count": null,
   "metadata": {},
   "outputs": [],
   "source": [
    "print(len(rel_errors))\n",
    "100.*(1. - np.mean(rel_errors))"
   ]
  },
  {
   "cell_type": "code",
   "execution_count": null,
   "metadata": {},
   "outputs": [],
   "source": [
    "sem(100.*(1. - np.array(rel_errors)))"
   ]
  },
  {
   "cell_type": "markdown",
   "metadata": {},
   "source": [
    "Correlate the quality of fit with the horz/amacrine fit and the center/surround fit"
   ]
  },
  {
   "cell_type": "code",
   "execution_count": null,
   "metadata": {},
   "outputs": [],
   "source": [
    "ax1 = plt.subplot(1,2,1)\n",
    "ax2 = plt.subplot(1,2,2)\n",
    "relative_errors = collections.defaultdict(list)\n",
    "\n",
    "hw_bins = np.linspace(0,1,10)\n",
    "cw_bins = np.linspace(0,1,10)\n",
    "\n",
    "for celltype in sorted(mean_squared_errors.keys(), reverse=True):\n",
    "    rel_error = np.array(mean_squared_errors[celltype])/np.array(variances[celltype])\n",
    "    relative_errors[celltype] = rel_error\n",
    "    \n",
    "    hw_binned_rel_error = [[err for ide,err in enumerate(rel_error) if np.argmin((fits[celltype][ide,0] - hw_bins)**2) == idb] for idb in range(len(hw_bins))]\n",
    "    cw_binned_rel_error = [[err for ide,err in enumerate(rel_error) if np.argmin((fits[celltype][ide,1] - cw_bins)**2) == idb] for idb in range(len(cw_bins))]\n",
    "    avg_hw_rel_error = [np.mean(r) for r in hw_binned_rel_error]\n",
    "    avg_cw_rel_error = [np.mean(r) for r in cw_binned_rel_error]\n",
    "    \n",
    "    # Horizontal weight\n",
    "    ax1.bar(hw_bins, avg_hw_rel_error, width=np.mean(np.diff(hw_bins)), color=colorscheme[celltype],\n",
    "               label=' '.join(celltype.split('_')), alpha=0.8)\n",
    "    ax1.set_ylabel('Relative Error')\n",
    "    ax1.set_xlabel('Horizontal weight')\n",
    "    ax1.set_title('Horizontal weight')\n",
    "    \n",
    "    ax2.bar(cw_bins, avg_cw_rel_error, width=np.mean(np.diff(cw_bins)), color=colorscheme[celltype],\n",
    "               label=' '.join(celltype.split('_')), alpha=0.8)\n",
    "    ax2.set_ylabel('Relative Error')\n",
    "    ax2.set_xlabel('Center weight')\n",
    "    ax2.set_title('Center weight')\n",
    "\n",
    "#ax = plt.gca()\n",
    "ax1.spines['right'].set_visible(False)\n",
    "ax1.spines['top'].set_visible(False)\n",
    "ax1.yaxis.set_ticks_position('left')\n",
    "ax1.xaxis.set_ticks_position('bottom')\n",
    "\n",
    "ax2.spines['right'].set_visible(False)\n",
    "ax2.spines['top'].set_visible(False)\n",
    "ax2.yaxis.set_ticks_position('left')\n",
    "ax2.xaxis.set_ticks_position('bottom')\n",
    "                  \n",
    "# plt.ylim(0,200)\n",
    "# plt.savefig('%s_Percent variance explained by model with median.png' %todays_date,\n",
    "#            transparent=True, dpi=300)"
   ]
  },
  {
   "cell_type": "code",
   "execution_count": null,
   "metadata": {
    "collapsed": true
   },
   "outputs": [],
   "source": [
    "error_threshold = 0.2"
   ]
  },
  {
   "cell_type": "code",
   "execution_count": null,
   "metadata": {},
   "outputs": [],
   "source": [
    "total_number_remaining = 0\n",
    "total_number_before = 0\n",
    "for celltype in fits.keys():\n",
    "    good_fits = float(fits[celltype][relative_errors[celltype] < error_threshold].shape[0])\n",
    "    all_fits = float(fits[celltype].shape[0])\n",
    "    print('%f%% of %s' %(100.*good_fits/all_fits, celltype))\n",
    "    \n",
    "    total_number_remaining += good_fits\n",
    "    total_number_before += all_fits"
   ]
  },
  {
   "cell_type": "code",
   "execution_count": null,
   "metadata": {},
   "outputs": [],
   "source": [
    "1.0*total_number_remaining/total_number_before"
   ]
  },
  {
   "cell_type": "markdown",
   "metadata": {},
   "source": [
    "#### Mapping ideal fit to our parameter space"
   ]
  },
  {
   "cell_type": "code",
   "execution_count": null,
   "metadata": {},
   "outputs": [],
   "source": [
    "global_celltype = 'fast_off_adapting'\n",
    "iterations = 50\n",
    "\n",
    "rf = -np.fft.fftshift(np.fft.irfft(ideal_filter))\n",
    "rf = np.append(rf, rf[-1])\n",
    "\n",
    "center = gaussian(x=space, sigma=median_center_widths[global_celltype], mu=0.)\n",
    "center /= -np.sum(center) # make center unit vector like horz_pf and ama_pf\n",
    "\n",
    "def rf_model(horz_weight, center_weight):\n",
    "    horz_weight = np.min([1.0, abs(horz_weight)])\n",
    "    center_weight = np.min([1.0, abs(center_weight)])\n",
    "    return center_weight*center + (1-center_weight)*(horz_weight*horz_pf + (1-horz_weight)*ama_pf)\n",
    "\n",
    "def model_error_to_ganglion_cells(weights):\n",
    "    hw, cw = weights\n",
    "    modeled_rf = rf_model(hw, cw)\n",
    "    normed_rf = np.max(abs(rf))*modeled_rf/np.max(abs(modeled_rf))\n",
    "    return sum(abs(normed_rf - rf))\n",
    "\n",
    "best_fit_err = np.inf\n",
    "for itr in range(iterations):\n",
    "    this_popt = minimize(model_error_to_ganglion_cells, np.random.rand(2))\n",
    "    if this_popt.fun < best_fit_err:\n",
    "        best_fit_err = this_popt.fun\n",
    "        popt = this_popt\n",
    "\n",
    "# get mean squared error\n",
    "modeled_rf = rf_model(*popt.x)\n",
    "normed_rf = np.max(abs(rf))*modeled_rf/np.max(abs(modeled_rf))\n",
    "mse = np.mean((normed_rf - rf)**2)\n",
    "\n",
    "# truncate params between 0 and 1\n",
    "#             x = np.where(popt.x < 0, 0, popt.x) # this actually is wrong, since I'm abs(params) in rf_model\n",
    "#             x = np.where(x > 1, 1, x)\n",
    "x = np.where(abs(popt.x) > 1, 1, abs(popt.x))\n",
    "ideal_fit = x"
   ]
  },
  {
   "cell_type": "markdown",
   "metadata": {},
   "source": [
    "Pick examples"
   ]
  },
  {
   "cell_type": "code",
   "execution_count": null,
   "metadata": {},
   "outputs": [],
   "source": [
    "fits[celltype][10]"
   ]
  },
  {
   "cell_type": "code",
   "execution_count": null,
   "metadata": {},
   "outputs": [],
   "source": [
    "center_weights[np.argmax(np.max(info_maps[celltype], axis=0))]"
   ]
  },
  {
   "cell_type": "code",
   "execution_count": null,
   "metadata": {},
   "outputs": [],
   "source": [
    "nexamples = 10\n",
    "example_rfs = collections.defaultdict(list)\n",
    "example_ids = collections.defaultdict(list)\n",
    "example_cws = collections.defaultdict(list)\n",
    "\n",
    "for celltype in receptive_fields.keys():\n",
    "    if celltype in ['ganglion', 'fast_on', 'fast_off_adapting', 'fast_off_sensitizing', \n",
    "                    'medium_off_adapting', 'slow_off']: \n",
    "        \n",
    "        rf_ids = np.arange(len(receptive_fields[celltype]))\n",
    "        schedule = np.random.permutation(rf_ids)\n",
    "                \n",
    "        for i in schedule:\n",
    "            rf = receptive_fields[celltype][i]\n",
    "#         for i,rf in enumerate(receptive_fields[celltype]):\n",
    "            x = fits[celltype][i]\n",
    "                        \n",
    "            # collect examples\n",
    "            if len(example_rfs[celltype]) <= nexamples:\n",
    "                # check if the fit is close to the optimimum center weight\n",
    "                if abs(x[1] - center_weights[np.argmax(np.max(info_maps[celltype], axis=0))]) < 0.015:\n",
    "                    example_rfs[celltype].append(rf)\n",
    "                    example_ids[celltype].append(i)\n",
    "                    example_cws[celltype].append(x[1])"
   ]
  },
  {
   "cell_type": "code",
   "execution_count": null,
   "metadata": {},
   "outputs": [],
   "source": [
    "nexamples_for_this_plot = 10\n",
    "# celltype = 'fast_off_adapting'\n",
    "for ide in range(nexamples_for_this_plot):\n",
    "    for celltype in example_rfs.keys():\n",
    "        if len(example_rfs[celltype]) > ide and celltype != 'ganglion':\n",
    "            ex = example_rfs[celltype][ide]\n",
    "            if ide == 0:\n",
    "                plt.plot(space, ex/np.max(abs(ex)), alpha=1-ide/nexamples_for_this_plot, \n",
    "                         color=colorscheme[celltype], label=' '.join(celltype.split('_')))\n",
    "            else:\n",
    "                plt.plot(space, ex/np.max(abs(ex)), color=colorscheme[celltype])\n",
    "            \n",
    "plt.ylim(-1.1, 0.8)\n",
    "plt.xlabel('Space (degrees)')\n",
    "plt.ylabel('Normalized sensitivity')\n",
    "plt.title('Diversity of receptive field model fits')\n",
    "plt.legend(loc='lower left', frameon=False, fontsize=9)\n",
    "adjust_spines(plt.gca())\n",
    "plt.savefig('%s_diversity of receptive fields in space peak with constrained noise.png' %todays_date,\n",
    "           transparent=True, dpi=300)"
   ]
  },
  {
   "cell_type": "code",
   "execution_count": null,
   "metadata": {},
   "outputs": [],
   "source": [
    "# celltype = 'fast_off_adapting'\n",
    "for ide in range(nexamples_for_this_plot):\n",
    "    for celltype in example_rfs.keys():\n",
    "        if len(example_rfs[celltype]) > ide and celltype != 'ganglion':\n",
    "            ex = example_rfs[celltype][ide]\n",
    "            ex_fft = abs(np.fft.rfft(ex))\n",
    "            if ide == 0:\n",
    "                plt.plot(freqs, ex_fft/np.max(abs(ex_fft)), alpha=1-ide/nexamples_for_this_plot, \n",
    "                         color=colorscheme[celltype], label=' '.join(celltype.split('_')), linewidth=2)\n",
    "            else:\n",
    "                plt.plot(freqs, ex_fft/np.max(abs(ex_fft)),\n",
    "                         color=colorscheme[celltype], linewidth=2)\n",
    "            \n",
    "plt.ylim(-0.1, 1.3)\n",
    "plt.xlim(0.0124, 1.2)\n",
    "plt.xscale('log')\n",
    "plt.xlabel('Spatial frequency (degrees$^{-1}$)')\n",
    "plt.ylabel('Normalized amplitude')\n",
    "plt.title('Diversity of receptive fields')\n",
    "plt.legend(loc='upper right', frameon=False, fontsize=9)\n",
    "adjust_spines(plt.gca())\n",
    "plt.savefig('%s_diversity of receptive fields in freq logscale peak with constrained noise.png' %todays_date,\n",
    "           transparent=True, dpi=300)"
   ]
  },
  {
   "cell_type": "code",
   "execution_count": null,
   "metadata": {},
   "outputs": [],
   "source": [
    "example_cws[celltype]"
   ]
  },
  {
   "cell_type": "code",
   "execution_count": null,
   "metadata": {},
   "outputs": [],
   "source": [
    "fits[celltype][example_ids[celltype]][:nexamples_for_this_plot,1]"
   ]
  },
  {
   "cell_type": "markdown",
   "metadata": {},
   "source": [
    "Note that now I am just displaying the angle difference for a given cell type"
   ]
  },
  {
   "cell_type": "code",
   "execution_count": null,
   "metadata": {},
   "outputs": [],
   "source": [
    "least_info_directions.keys()"
   ]
  },
  {
   "cell_type": "code",
   "execution_count": null,
   "metadata": {},
   "outputs": [],
   "source": [
    "least_info_directions['fast_off_adapting'].shape"
   ]
  },
  {
   "cell_type": "code",
   "execution_count": null,
   "metadata": {},
   "outputs": [],
   "source": [
    "global_celltype = 'fast_on'#'medium_off_adapting' #'fast_off_adapting' #'fast_off_sensitizing'\n",
    "point_size = 7 #10\n",
    "min_info = np.min(info_maps[global_celltype])\n",
    "max_info = np.max(info_maps[global_celltype])\n",
    "empirical_ideal_indices = np.unravel_index(np.argmax(info_maps[global_celltype]), info_maps[global_celltype].shape)\n",
    "empirical_ideal = [horz_weights[empirical_ideal_indices[0]], center_weights[empirical_ideal_indices[1]]]\n",
    "\n",
    "########## for quivers #########\n",
    "# all_fits = []\n",
    "variance_directions = {}\n",
    "for celltype in fits.keys():\n",
    "#     these_fits = fits[celltype][relative_errors[celltype] < error_threshold]\n",
    "    \n",
    "#     all_fits.extend(fits[celltype][relative_errors[celltype] < error_threshold])\n",
    "    pca = PCA(n_components=2)\n",
    "    pca.fit(fits[celltype][relative_errors[celltype] < error_threshold])\n",
    "\n",
    "#     # flipping the dimensions because fits was saved as horz_weight, center_weight\n",
    "    variance_directions[celltype] = abs(np.array([pca.components_[0][1], pca.components_[0][0]]))\n",
    "    print('PC1 has explained variance %0.2f%% percent for variance %s' %(pca.explained_variance_ratio_[0]*100, celltype))\n",
    "\n",
    "average_variance_direction = np.mean(np.stack([variance_directions[k] for k in variance_directions.keys()]), axis=0)\n",
    "# all_fits = fits[global_celltype][relative_errors[global_celltype] < error_threshold] # COMMENT THIS OUT\n",
    "    \n",
    "# pca = PCA(n_components=2)\n",
    "# pca.fit(all_fits)\n",
    "\n",
    "# flipping the dimensions because fits was saved as horz_weight, center_weight\n",
    "# average_variance_direction = abs(np.array([pca.components_[0][1], pca.components_[0][0]]))\n",
    "# print('PC1 has explained variance %0.2f%% percent for all cells' %(pca.explained_variance_ratio_[0]*100))\n",
    "\n",
    "max_info_coordinates = collections.defaultdict(list)\n",
    "least_info_directions = collections.defaultdict(list)\n",
    "# celltype = global_celltype\n",
    "for celltype in info_maps.keys():\n",
    "    for x in range(info_maps[celltype].shape[0]):\n",
    "        for y in range(info_maps[celltype].shape[1]):\n",
    "            # take cloud of high efficiency points\n",
    "            if info_maps[celltype][x,y] >= 0.9*max_info:\n",
    "                max_info_coordinates[celltype].append([horz_weights[x], center_weights[y]])\n",
    "    pca = PCA()\n",
    "    pca.fit(max_info_coordinates[celltype])\n",
    "    print('PC1 has explained variance %0.2f%% percent for %s' %(pca.explained_variance_ratio_[0]*100, celltype))\n",
    "    least_info_directions[celltype] = abs(pca.components_[-1])\n",
    "    \n",
    "average_least_info_direction = np.mean([least_info_directions[k] for k in least_info_directions.keys()], axis=0)\n",
    "# average_least_info_direction = least_info_directions[global_celltype] # COMMENT THIS OUT\n",
    "\n",
    "angle_diff = np.arctan(average_least_info_direction[1]/average_least_info_direction[0]) - np.arctan(average_variance_direction[1]/average_variance_direction[0])\n",
    "print('Angle difference in radians is %0.4f' %angle_diff)\n",
    "angle_diff_degs = (360./(2*np.pi))*angle_diff\n",
    "print('Angle difference in degrees is %0.4f' %angle_diff_degs)\n",
    "############ end quivers ###########\n",
    "\n",
    "plt.imshow(info_maps[global_celltype], extent=(center_weights[0], center_weights[-1], horz_weights[-1], horz_weights[0]),\n",
    "              aspect='auto', clim=[min_info, max_info])\n",
    "cbar = plt.colorbar()\n",
    "# cbar.set_ticks([6,7,8,9])\n",
    "cbar.set_ticks([6, 8, 10, 12, 14])\n",
    "# plt.clim(0,np.max(info_color_map))\n",
    "cbar.ax.set_ylabel('Mutual information (bits)', fontsize=18)\n",
    "\n",
    "for idc, celltype in enumerate([k for k in info_maps.keys() if k != 'ganglion']):\n",
    "    # make the points lying on the edges more visible\n",
    "    adjusted_fits1 = np.where(fits[celltype] == 1, 0.995, fits[celltype])[relative_errors[celltype] < error_threshold]\n",
    "    adjusted_fits = np.where(adjusted_fits1 < 0.001, 0.005, adjusted_fits1)\n",
    "    plt.scatter(adjusted_fits[:,1], adjusted_fits[:,0],\n",
    "                c=colorscheme[celltype], edgecolor='w', s=point_size, alpha=0.5, label=' '.join(celltype.split('_')),\n",
    "                linewidth=0.3)\n",
    "    plt.scatter(fits[celltype][example_ids[celltype]][:nexamples_for_this_plot,1],\n",
    "               fits[celltype][example_ids[celltype]][:nexamples_for_this_plot,0],\n",
    "               c=colorscheme[celltype], edgecolor='k', s=60, marker='*', linewidth=0.7)\n",
    "\n",
    "\n",
    "# plt.quiver(ideal_fit[1], ideal_fit[0], average_variance_direction[0], average_variance_direction[1],\n",
    "#            angles='xy', scale_units='xy', scale=2.5, color='k', edgecolor='w', width=0.012, linewidth=1,\n",
    "#           alpha=0.9)\n",
    "# plt.quiver(ideal_fit[1], ideal_fit[0], average_least_info_direction[0], average_least_info_direction[1],\n",
    "#            angles='xy', scale_units='xy', scale=2.5, color='w', edgecolor='k',\n",
    "#           alpha=0.7, width=.012, linewidth=1.2)\n",
    "# plt.scatter(ideal_fit[1], ideal_fit[0], c='k', edgecolor='k', s=150, marker='*', linewidth=0.7)\n",
    "\n",
    "plt.quiver(empirical_ideal[1], empirical_ideal[0], average_variance_direction[0], average_variance_direction[1],\n",
    "           angles='xy', scale_units='xy', scale=2.5, color='k', edgecolor='w', width=0.012, linewidth=1,\n",
    "          alpha=0.9)\n",
    "plt.quiver(empirical_ideal[1], empirical_ideal[0], average_least_info_direction[0], average_least_info_direction[1],\n",
    "           angles='xy', scale_units='xy', scale=2.5, color='w', edgecolor='k',\n",
    "          alpha=0.7, width=.012, linewidth=1.2)\n",
    "plt.scatter(empirical_ideal[1], empirical_ideal[0], c='k', edgecolor='k', s=150, marker='*', linewidth=0.7)\n",
    "\n",
    "\n",
    "# l = plt.legend(loc='upper left', frameon=False, fontsize=8)\n",
    "# for text in l.get_texts():\n",
    "#     text.set_color(\"white\")\n",
    "plt.ylim([0,1])\n",
    "plt.xlim([center_weights[0], center_weights[-1]])\n",
    "\n",
    "\n",
    "# specify ticks\n",
    "# plt.xticks([0, 0.25, 0.5, 0.75, 1])\n",
    "# plt.yticks([0, 0.25, 0.5, 0.75, 1])\n",
    "majorLocator = MultipleLocator(0.5)\n",
    "majorFormatter = FormatStrFormatter('%0.1f')\n",
    "minorLocator = MultipleLocator(0.25)\n",
    "\n",
    "ax = plt.gca()\n",
    "ax.xaxis.set_major_locator(majorLocator)\n",
    "ax.xaxis.set_major_formatter(majorFormatter)\n",
    "ax.xaxis.set_minor_locator(minorLocator)\n",
    "ax.yaxis.set_major_locator(majorLocator)\n",
    "ax.yaxis.set_major_formatter(majorFormatter)\n",
    "ax.yaxis.set_minor_locator(minorLocator)\n",
    "\n",
    "# plt.title('Total information of various models \\n with fitted ganglion cells', fontsize=16)\n",
    "plt.xlabel('Center (1 - Surround) Weight', fontsize=16)\n",
    "plt.ylabel('Horizontal (1 - Amacrine) Weight', fontsize=16)\n",
    "ax.xaxis.set_ticks_position('bottom')\n",
    "ax.yaxis.set_ticks_position('left')\n",
    "plt.savefig('%s_Fig3D information map.png' %todays_date, transparent=True, dpi=300)"
   ]
  },
  {
   "cell_type": "code",
   "execution_count": null,
   "metadata": {},
   "outputs": [],
   "source": [
    "np.stack([variance_directions[k] for k in variance_directions.keys()])"
   ]
  },
  {
   "cell_type": "code",
   "execution_count": null,
   "metadata": {},
   "outputs": [],
   "source": [
    "tmp = np.stack([variance_directions[k] for k in variance_directions.keys()])\n",
    "\n",
    "for x,y in tmp:\n",
    "    plt.quiver(empirical_ideal[1], empirical_ideal[0], x, y,\n",
    "               angles='xy', scale_units='xy', scale=2.5, color='k', edgecolor='w', width=0.012, linewidth=1,\n",
    "              alpha=0.9)\n",
    "    \n",
    "plt.quiver(empirical_ideal[1], empirical_ideal[0], average_least_info_direction[0], average_least_info_direction[1],\n",
    "           angles='xy', scale_units='xy', scale=2.5, color='w', edgecolor='k',\n",
    "          alpha=0.7, width=.012, linewidth=1.2)\n",
    "\n",
    "plt.xlim(0,1)\n",
    "plt.ylim(0,1)"
   ]
  },
  {
   "cell_type": "code",
   "execution_count": null,
   "metadata": {},
   "outputs": [],
   "source": [
    "angle_diff = np.arctan(average_least_info_direction[1]/average_least_info_direction[0]) - np.arctan(average_variance_direction[1]/average_variance_direction[0])\n",
    "print('Angle difference in radians is %0.4f' %angle_diff)"
   ]
  },
  {
   "cell_type": "code",
   "execution_count": null,
   "metadata": {},
   "outputs": [],
   "source": [
    "angle_diff_degs = (360./(2*np.pi))*angle_diff\n",
    "print('Angle difference in degrees is %0.4f' %angle_diff_degs)"
   ]
  },
  {
   "cell_type": "code",
   "execution_count": null,
   "metadata": {},
   "outputs": [],
   "source": [
    "fig = plt.gcf()\n",
    "ax = plt.gca()\n",
    "\n",
    "# Histogram\n",
    "bin_edges = np.linspace(0, 1, 30)\n",
    "bin_width = np.mean(np.diff(bin_edges))\n",
    "prev_count = np.zeros_like(bin_edges[:-1])\n",
    "# for c, celltype in enumerate(fits.keys()):\n",
    "for c, celltype in enumerate(['fast_off_adapting', 'medium_off_adapting', 'slow_off', 'fast_off_sensitizing', 'fast_on']):\n",
    "    if celltype != 'ganglion':\n",
    "        this_count, bins = np.histogram(fits[celltype][:, 0][relative_errors[celltype] < error_threshold],\n",
    "                                        bins=bin_edges)\n",
    "#         ax.bar(bin_edges[:-1] + bin_width/2, this_count, color=colorscheme[celltype], width=bin_width,\n",
    "#                bottom=prev_count, linewidth=0.5, label=' '.join(celltype.split(' ')), zorder=c+20)\n",
    "        ax.bar(bin_edges[:-1] + bin_width/2, this_count, color=colorscheme[celltype], width=bin_width,\n",
    "               bottom=prev_count, linewidth=0.5, label=' '.join(celltype.split(' ')), zorder=c+20)\n",
    "#         ax.bar(bin_edges[:-1] + bin_width/2, this_count, color=colorscheme[celltype], width=bin_width,\n",
    "#                linewidth=0.5, label=' '.join(celltype.split(' ')), alpha=0.9, zorder=c+20)\n",
    "\n",
    "        prev_count += this_count\n",
    "        \n",
    "        plt.vlines(np.median(fits[celltype][:, 0][relative_errors[celltype] < error_threshold]),\n",
    "                   0, 150, color=colorscheme[celltype], linestyle='--', alpha=0.8, zorder=c)\n",
    "        \n",
    "l = plt.legend(frameon=False, fontsize=9, loc='upper right')\n",
    "for text in l.get_texts():\n",
    "    splitlabel = text.properties()['text'].split(' ')\n",
    "    text.set_color(colorscheme['_'.join(splitlabel)])\n",
    "\n",
    "        \n",
    "\n",
    "plt.xlim(0,1.007)\n",
    "# plt.xticks([0, 0.25, 0.5, 0.75, 1])\n",
    "ax.set_ylabel('# Cells', color='k', fontsize=20)\n",
    "ax.set_xlabel('Horizontal (1 - Amacrine) Weight')\n",
    "# ax.set_ylim(0,140)\n",
    "# ax.set_yticks([0,100,200,300])\n",
    "\n",
    "ax.spines['right'].set_visible(False)\n",
    "ax.spines['top'].set_visible(False)\n",
    "ax.xaxis.set_ticks_position('bottom')\n",
    "ax.yaxis.set_ticks_position('left')\n",
    "ax.spines['bottom'].set_visible(False)\n",
    "\n",
    "# ax.spines['right'].set_visible(False)\n",
    "ax.spines['top'].set_visible(False)\n",
    "ax.xaxis.set_ticks_position('bottom')\n",
    "\n",
    "\n",
    "\n",
    "majorLocator = MultipleLocator(50)\n",
    "majorFormatter = FormatStrFormatter('%d')\n",
    "\n",
    "ax = plt.gca()\n",
    "ax.yaxis.set_major_locator(majorLocator)\n",
    "ax.yaxis.set_major_formatter(majorFormatter)\n",
    "# ax.xaxis.set_minor_locator(minorLocator)\n",
    "\n",
    "# ax.yaxis.set_ticks_position('left')\n",
    "# adjust_spines(plt.gca())\n",
    "# plt.xlabel('Center (1 - surround) weight')\n",
    "# plt.ylabel('# Cells')\n",
    "plt.savefig('%s_1d y-axis distribution.png' %todays_date, transparent=True, dpi=300)"
   ]
  },
  {
   "cell_type": "code",
   "execution_count": null,
   "metadata": {},
   "outputs": [],
   "source": [
    "# for c, celltype in enumerate(fits.keys()):\n",
    "for c, celltype in enumerate(['fast_off_sensitizing', 'slow_off', 'fast_on', 'fast_off_adapting',\n",
    "                             'medium_off_adapting']):\n",
    "    if celltype != 'ganglion':\n",
    "        plt.plot(center_weights, info_maps[celltype][75, :], alpha=0.8, color=colorscheme[celltype])\n",
    "        infos_at_horz_slice = []\n",
    "        center_weight_fits = np.stack(fits[celltype])[:, 1][relative_errors[celltype] < error_threshold]\n",
    "        for f in fits[celltype]:\n",
    "            idx = np.argmin(abs(f[0] - horz_weights))\n",
    "            idy = np.argmin(abs(f[1] - center_weights))\n",
    "            infos_at_horz_slice.append(info_maps[celltype][idx, idy])\n",
    "\n",
    "    #     color = np.random.rand(3)\n",
    "#         plt.scatter(center_weight_fits, infos_at_horz_slice, color=colorscheme[celltype], \n",
    "#                     label=' '.join(celltype.split('_')), s=30, edgecolor='w', lw=0.5)\n",
    "        plt.vlines(np.median(center_weight_fits), 0, 15, color=colorscheme[celltype], linestyle='--', alpha=0.8)\n",
    "    \n",
    "# l = plt.legend(frameon=False, fontsize=9, loc='upper left')\n",
    "# for text in l.get_texts():\n",
    "#     splitlabel = text.properties()['text'].split(' ')\n",
    "#     text.set_color(colorscheme['_'.join(splitlabel)])\n",
    "\n",
    "plt.ylabel('Information (bits)', fontsize=20)\n",
    "# adjust_spines(plt.gca())\n",
    "plt.ylim(0, 14.2)\n",
    "plt.xlim(0,1.1)\n",
    "ax1 = plt.gca()\n",
    "ax1.spines['right'].set_visible(False)\n",
    "ax1.spines['top'].set_visible(False)\n",
    "ax1.xaxis.set_ticks_position('bottom')\n",
    "ax1.yaxis.set_ticks_position('left')\n",
    "ax1.spines['bottom'].set_visible(False)\n",
    "plt.xticks([])\n",
    "ax1.set_xlabel('Center (1 - Surround) Weight', fontsize=20)\n",
    "\n",
    "majorLocator = MultipleLocator(0.5)\n",
    "majorFormatter = FormatStrFormatter('%0.1f')\n",
    "minorLocator = MultipleLocator(0.25)\n",
    "\n",
    "ax = plt.gca()\n",
    "ax.xaxis.set_major_locator(majorLocator)\n",
    "ax.xaxis.set_major_formatter(majorFormatter)\n",
    "ax.xaxis.set_minor_locator(minorLocator)\n",
    "\n",
    "# Histogram\n",
    "bin_edges = np.linspace(0, 1, 50)\n",
    "bin_width = np.mean(np.diff(bin_edges))\n",
    "prev_count = np.zeros_like(bin_edges[:-1])\n",
    "\n",
    "ax2 = ax1.twinx()\n",
    "# for c, celltype in enumerate(fits.keys()):\n",
    "for c, celltype in enumerate(['fast_off_sensitizing', 'slow_off', 'fast_on', 'fast_off_adapting',\n",
    "                             'medium_off_adapting']):\n",
    "    if celltype != 'ganglion':\n",
    "        this_count, bins = np.histogram(np.stack(fits[celltype])[:, 1][relative_errors[celltype] < error_threshold],\n",
    "                                        bins=bin_edges)\n",
    "#         ax2.bar(bin_edges[:-1] + bin_width/2, this_count, color=colorscheme[celltype], width=bin_width,\n",
    "#                bottom=prev_count, linewidth=0.5, edgecolor='k')\n",
    "        ax2.bar(bin_edges[:-1] + bin_width/2, this_count, color=colorscheme[celltype], width=bin_width,\n",
    "               bottom=prev_count, linewidth=0.5)\n",
    "#         ax2.bar(bin_edges[:-1] + bin_width/2, this_count, color=colorscheme[celltype], width=bin_width,\n",
    "#                linewidth=0.5, alpha=0.85)\n",
    "\n",
    "        prev_count += this_count\n",
    "\n",
    "plt.xlim(0,1.007)\n",
    "# plt.xticks([0, 0.25, 0.5, 0.75, 1])\n",
    "ax2.set_ylabel('# Cells', color='k', fontsize=20)\n",
    "ax2.set_ylim(0,340)\n",
    "ax2.set_yticks([0,100,200,300])\n",
    "\n",
    "# ax.spines['right'].set_visible(False)\n",
    "ax2.spines['top'].set_visible(False)\n",
    "ax2.xaxis.set_ticks_position('bottom')\n",
    "\n",
    "# ax.yaxis.set_ticks_position('left')\n",
    "# adjust_spines(plt.gca())\n",
    "# plt.xlabel('Center (1 - surround) weight')\n",
    "# plt.ylabel('# Cells')\n",
    "plt.savefig('%s_1d info slice with histogram with constrained noise.png' %todays_date,\n",
    "           transparent=True, dpi=300)"
   ]
  },
  {
   "cell_type": "code",
   "execution_count": null,
   "metadata": {
    "collapsed": true
   },
   "outputs": [],
   "source": []
  },
  {
   "cell_type": "code",
   "execution_count": null,
   "metadata": {
    "collapsed": true
   },
   "outputs": [],
   "source": []
  },
  {
   "cell_type": "markdown",
   "metadata": {},
   "source": [
    "# Fig 3A"
   ]
  },
  {
   "cell_type": "code",
   "execution_count": null,
   "metadata": {},
   "outputs": [],
   "source": [
    "ffts = []\n",
    "for rf in receptive_fields['ganglion']:\n",
    "    this_fft = abs(np.fft.rfft(rf))\n",
    "    this_fft /= np.max(this_fft)\n",
    "    ffts.append(this_fft)\n",
    "\n",
    "# avg_rf = np.mean(receptive_fields['ganglion'], axis=0)\n",
    "# avg_rf_fft = abs(np.fft.rfft(avg_rf))\n",
    "# plt.plot(freqs, avg_rf_fft)\n",
    "\n",
    "sems = sem(np.stack(ffts))\n",
    "stds = np.std(np.stack(ffts), axis=0)\n",
    "avg_rf_fft = abs(np.mean(np.stack(ffts), axis=0))\n",
    "avg_rf_fft2 = np.mean(abs(np.stack(ffts)), axis=0)\n",
    "\n",
    "plt.errorbar(freqs, avg_rf_fft/np.max(avg_rf_fft), yerr=sems/np.max(avg_rf_fft), color='g')\n",
    "plt.errorbar(freqs, avg_rf_fft2/np.max(avg_rf_fft2), yerr=sems/np.max(avg_rf_fft2), color='c')\n",
    "# plt.errorbar(freqs, avg_rf_fft2/np.max(avg_rf_fft2), yerr=stds/np.max(avg_rf_fft2), color='y')\n",
    "plt.plot(freqs, ideal_filter/np.max(ideal_filter), color='k')\n",
    "plt.plot(freqs, signal/np.max(signal), 'r')\n",
    "plt.xlim(0, 0.3)"
   ]
  },
  {
   "cell_type": "markdown",
   "metadata": {},
   "source": [
    "# Distribution of % efficiency"
   ]
  },
  {
   "cell_type": "code",
   "execution_count": null,
   "metadata": {},
   "outputs": [],
   "source": [
    "target_power = 5e1\n",
    "init_filt_const = 0.29\n",
    "info_rfs = collections.defaultdict(list)\n",
    "info_rf_models = collections.defaultdict(list)\n",
    "mses_verify = collections.defaultdict(list)\n",
    "filt_consts_rfs = collections.defaultdict(list)\n",
    "filt_consts_models = collections.defaultdict(list)\n",
    "\n",
    "failures_rf = collections.defaultdict(list)\n",
    "detailed_failures_rf = collections.defaultdict(list)\n",
    "failures_model = collections.defaultdict(list)\n",
    "detailed_failures_model = collections.defaultdict(list)\n",
    "\n",
    "for celltype in receptive_fields.keys():\n",
    "    if celltype in ['ganglion', 'fast_on', 'fast_off_adapting', 'fast_off_sensitizing', \n",
    "                    'medium_off_adapting', 'slow_off']:\n",
    "        for idrf,rf in tqdm(enumerate(receptive_fields[celltype])):\n",
    "            ###### compute information of actual cell ######\n",
    "            rf_filt = abs(np.fft.rfft(rf))\n",
    "            \n",
    "            def constrain_filt_power(filt_const):\n",
    "                size = len(rf_filt)\n",
    "                output_power = np.sum((signal*filt_const*rf_filt)**2 \n",
    "                                      + (input_noise*filt_const*rf_filt)**2\n",
    "                                      + output_noise**2)\n",
    "                return (target_power - output_power)**2\n",
    "\n",
    "            filt_const_opt = scipy.optimize.minimize(constrain_filt_power, init_filt_const)\n",
    "            iterations = 0\n",
    "            new_init_filt_const = init_filt_const\n",
    "            while filt_const_opt.fun > 10e2:\n",
    "                iterations += 1\n",
    "                new_init_filt_const = np.random.rand()\n",
    "                filt_const_opt = scipy.optimize.minimize(constrain_filt_power, new_init_filt_const)\n",
    "                if iterations > 20:\n",
    "                    detailed_failures_rf[celltype] = filt_const_opt\n",
    "                    break\n",
    "\n",
    "            filt_const = abs(filt_const_opt['x'])\n",
    "            filt_consts_rfs[celltype].append(filt_const)\n",
    "            if not filt_const_opt.success:\n",
    "                failures_rf[celltype].append(idrf)\n",
    "\n",
    "            signal_power = (filt_const * rf_filt * signal)**2\n",
    "            noise_power = (filt_const * rf_filt * input_noise)**2 + output_noise**2\n",
    "            info_rfs[celltype].append(0.5*np.sum(np.log2(1 + signal_power/noise_power)))\n",
    "                \n",
    "            ###### compute information of rf model ######    \n",
    "            center = gaussian(x=space, sigma=center_widths[celltype][idrf], mu=0.)\n",
    "            center /= -np.sum(center) # make center unit vector like horz_pf and ama_pf\n",
    "            horz_weight, center_weight = fits[celltype][idrf]\n",
    "        \n",
    "            def rf_model(horz_weight, center_weight):\n",
    "                horz_weight = np.min([1.0, abs(horz_weight)])\n",
    "                center_weight = np.min([1.0, abs(center_weight)])\n",
    "                return center_weight*center + (1-center_weight)*(horz_weight*horz_pf + (1-horz_weight)*ama_pf)\n",
    "            \n",
    "            def model_error_to_ganglion_cells(weights):\n",
    "                hw, cw = weights\n",
    "                modeled_rf = rf_model(hw, cw)\n",
    "                normed_rf = np.max(abs(rf))*modeled_rf/np.max(abs(modeled_rf))\n",
    "                return sum(abs(normed_rf - rf))\n",
    "            \n",
    "            # get mean squared error\n",
    "            modeled_rf = rf_model(horz_weight, center_weight)\n",
    "            normed_rf = np.max(abs(rf))*modeled_rf/np.max(abs(modeled_rf))\n",
    "            mse = np.mean((normed_rf - rf)**2)\n",
    "            mses_verify[celltype].append(mse)\n",
    "            \n",
    "            rf_filt = abs(np.fft.rfft(modeled_rf))\n",
    "     \n",
    "            # constrain model\n",
    "            def constrain_filt_power(filt_const):\n",
    "                size = len(rf_filt)\n",
    "                output_power = np.sum((signal*filt_const*rf_filt)**2 \n",
    "                                      + (input_noise*filt_const*rf_filt)**2\n",
    "                                      + output_noise**2)\n",
    "\n",
    "                return (target_power - output_power)**2\n",
    "\n",
    "            filt_const_opt = scipy.optimize.minimize(constrain_filt_power, init_filt_const)\n",
    "            iterations = 0\n",
    "            new_init_filt_const = init_filt_const\n",
    "            while not filt_const_opt.success:\n",
    "                iterations += 1\n",
    "                new_init_filt_const *= 10\n",
    "                filt_const_opt = scipy.optimize.minimize(constrain_filt_power, new_init_filt_const)\n",
    "                if iterations > 10:\n",
    "                    detailed_failures_model[celltype] = filt_const_opt\n",
    "                    break\n",
    "\n",
    "            filt_const = abs(filt_const_opt['x'])\n",
    "            filt_consts_models[celltype].append(filt_const)\n",
    "\n",
    "            if not filt_const_opt.success:\n",
    "                failures_model[celltype].append([hw, cw])\n",
    "\n",
    "            signal_power = (filt_const * rf_filt * signal)**2\n",
    "            noise_power = (filt_const * rf_filt * input_noise)**2 + output_noise**2\n",
    "            info_rf_models[celltype].append(0.5*np.sum(np.log2(1 + signal_power/noise_power)))"
   ]
  },
  {
   "cell_type": "code",
   "execution_count": null,
   "metadata": {},
   "outputs": [],
   "source": [
    "all_info_rfs = []\n",
    "all_info_rf_models = []\n",
    "for celltype in info_maps.keys():\n",
    "    if celltype != 'ganglion':\n",
    "        all_info_rfs.extend(info_rfs[celltype])\n",
    "        all_info_rf_models.extend(info_rf_models[celltype])\n",
    "\n",
    "bins_2d = np.linspace(np.min([np.min(all_info_rfs), np.min(all_info_rf_models)]),\n",
    "                     np.max([np.max(all_info_rfs), np.max(all_info_rf_models)]),\n",
    "                     10)\n",
    "count, xedges, yedges = np.histogram2d(all_info_rfs, all_info_rf_models, bins=[bins_2d, bins_2d])\n",
    "plt.imshow(count.T, cmap='gray_r', extent=[xedges[0], xedges[-1], yedges[0], yedges[-1]], origin='lower')\n",
    "cbar = plt.colorbar()\n",
    "cbar.ax.set_ylabel('# cells')\n",
    "\n",
    "# contours\n",
    "bins_contours = np.linspace(np.min([np.min(all_info_rfs), np.min(all_info_rf_models)]),\n",
    "                     np.max([np.max(all_info_rfs), np.max(all_info_rf_models)])+.5,\n",
    "                     11)\n",
    "for celltype in info_maps.keys():\n",
    "    if celltype != 'ganglion':\n",
    "        H, xedges_contour, yedges_contour = np.histogram2d(info_rfs[celltype], info_rf_models[celltype],\n",
    "                                            bins=[bins_contours, bins_contours])\n",
    "        bar_width = np.mean(np.diff(xedges_contour))\n",
    "        X, Y = np.meshgrid(xedges_contour[:-1] + bar_width/2, yedges_contour[:-1] + bar_width/2)\n",
    "        cs = plt.contour(X, Y, H, 1, linewidths=1.7, alpha=0.95, colors=colorscheme[celltype], label=celltype)\n",
    "        print('%0.4f percent (%d cells) of celltype %s (%s)' %(cs.levels/len(info_rfs[celltype]), cs.levels,\n",
    "                                                               celltype, colorscheme[celltype]))\n",
    "\n",
    "    \n",
    "# for celltype in davids_celltypes:\n",
    "#     plt.scatter(info_rfs[celltype], info_rf_models[celltype], c=colorscheme[celltype], edgecolor='w',\n",
    "#                label=' '.join(celltype.split('_')), s=10, linewidth=.5, alpha=0.5)\n",
    "\n",
    "plt.plot(np.linspace(5, 16, 10), np.linspace(5, 16, 10), 'k--')\n",
    "plt.xlabel('Information for RFs (bits)')\n",
    "plt.ylabel('Information for RF Models (bits)')\n",
    "# plt.legend(loc=(-0.01, 0.4), frameon=False, fontsize=9)\n",
    "plt.xlim(5, xedges[-1])\n",
    "plt.ylim(5, xedges[-1])\n",
    "# plt.yticks(sorted(np.unique(xedges.astype(int)))[1:])\n",
    "# plt.xticks(sorted(np.unique(xedges.astype(int)))[1:])\n",
    "# plt.yticks([6, 7, 8, 9, 10])\n",
    "# plt.xticks([6, 7, 8, 9, 10])\n",
    "adjust_spines(plt.gca())\n",
    "plt.savefig('%s_rf_model_vs_rf_info constrained noise without examples with 10 bins contours rerun.png' %todays_date,\n",
    "           transparent=True, dpi=300)"
   ]
  },
  {
   "cell_type": "code",
   "execution_count": null,
   "metadata": {},
   "outputs": [],
   "source": [
    "all_info_rfs = []\n",
    "all_info_rf_models = []\n",
    "for celltype in info_maps.keys():\n",
    "    if celltype != 'ganglion':\n",
    "        all_info_rfs.extend(info_rfs[celltype])\n",
    "        all_info_rf_models.extend(info_rf_models[celltype])\n",
    "\n",
    "bins_2d = np.linspace(np.min([np.min(all_info_rfs), np.min(all_info_rf_models)]),\n",
    "                     np.max([np.max(all_info_rfs), np.max(all_info_rf_models)]),\n",
    "                     10)\n",
    "count, xedges, yedges = np.histogram2d(all_info_rfs, all_info_rf_models, bins=[bins_2d, bins_2d])\n",
    "plt.imshow(count.T, cmap='gray_r', extent=[xedges[0], xedges[-1], yedges[0], yedges[-1]], origin='lower')\n",
    "cbar = plt.colorbar()\n",
    "cbar.ax.set_ylabel('# cells')\n",
    "\n",
    "# contours\n",
    "bins_contours = np.linspace(np.min([np.min(all_info_rfs), np.min(all_info_rf_models)]),\n",
    "                     np.max([np.max(all_info_rfs), np.max(all_info_rf_models)])+.5,\n",
    "                     11)\n",
    "for celltype in info_maps.keys():\n",
    "    if celltype != 'ganglion':\n",
    "#         H, xedges_contour, yedges_contour = np.histogram2d(info_rfs[celltype], info_rf_models[celltype],\n",
    "#                                             bins=[bins_contours, bins_contours])\n",
    "#         bar_width = np.mean(np.diff(xedges_contour))\n",
    "#         X, Y = np.meshgrid(xedges_contour[:-1] + bar_width/2, yedges_contour[:-1] + bar_width/2)\n",
    "#         cs = plt.contour(X, Y, H, 1, linewidths=1.7, alpha=0.95, colors=colorscheme[celltype], label=celltype)\n",
    "#         print('%0.4f percent (%d cells) of celltype %s (%s)' %(cs.levels/len(info_rfs[celltype]), cs.levels,\n",
    "#                                                                celltype, colorscheme[celltype]))\n",
    "        \n",
    "        plt.errorbar(np.mean(info_rfs[celltype]), np.mean(info_rf_models[celltype]),\n",
    "                    yerr=sem(info_rf_models[celltype]), xerr=sem(info_rfs[celltype]), color=colorscheme[celltype],\n",
    "                    ecolor=colorscheme[celltype], s=20)\n",
    "\n",
    "    \n",
    "# for celltype in davids_celltypes:\n",
    "#     plt.scatter(info_rfs[celltype], info_rf_models[celltype], c=colorscheme[celltype], edgecolor='w',\n",
    "#                label=' '.join(celltype.split('_')), s=10, linewidth=.5, alpha=0.5)\n",
    "\n",
    "plt.plot(np.linspace(5, 16, 10), np.linspace(5, 16, 10), 'k--')\n",
    "plt.xlabel('Information for RFs (bits)')\n",
    "plt.ylabel('Information for RF Models (bits)')\n",
    "# plt.legend(loc=(-0.01, 0.4), frameon=False, fontsize=9)\n",
    "plt.xlim(5, xedges[-1])\n",
    "plt.ylim(5, xedges[-1])\n",
    "# plt.yticks(sorted(np.unique(xedges.astype(int)))[1:])\n",
    "# plt.xticks(sorted(np.unique(xedges.astype(int)))[1:])\n",
    "# plt.yticks([6, 7, 8, 9, 10])\n",
    "# plt.xticks([6, 7, 8, 9, 10])\n",
    "adjust_spines(plt.gca())\n",
    "plt.savefig('%s_rf_model_vs_rf_info constrained noise without examples with 10 bins contours rerun.png' %todays_date,\n",
    "           transparent=True, dpi=300)"
   ]
  },
  {
   "cell_type": "code",
   "execution_count": null,
   "metadata": {
    "collapsed": true
   },
   "outputs": [],
   "source": []
  },
  {
   "cell_type": "code",
   "execution_count": null,
   "metadata": {
    "collapsed": true
   },
   "outputs": [],
   "source": []
  },
  {
   "cell_type": "code",
   "execution_count": null,
   "metadata": {
    "collapsed": true
   },
   "outputs": [],
   "source": []
  }
 ],
 "metadata": {
  "kernelspec": {
   "display_name": "Python 3",
   "language": "python",
   "name": "python3"
  },
  "language_info": {
   "codemirror_mode": {
    "name": "ipython",
    "version": 3
   },
   "file_extension": ".py",
   "mimetype": "text/x-python",
   "name": "python",
   "nbconvert_exporter": "python",
   "pygments_lexer": "ipython3",
   "version": "3.5.2"
  }
 },
 "nbformat": 4,
 "nbformat_minor": 1
}
