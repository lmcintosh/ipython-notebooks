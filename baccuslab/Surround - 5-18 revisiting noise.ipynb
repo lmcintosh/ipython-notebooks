{
 "cells": [
  {
   "cell_type": "markdown",
   "metadata": {
    "deletable": true,
    "editable": true
   },
   "source": [
    "# For this notebook, we want to see how changing input & output noise affect results"
   ]
  },
  {
   "cell_type": "code",
   "execution_count": 1,
   "metadata": {
    "collapsed": false,
    "deletable": true,
    "editable": true
   },
   "outputs": [],
   "source": [
    "import matplotlib\n",
    "matplotlib.use('Agg')\n",
    "\n",
    "import numpy as np\n",
    "import collections\n",
    "from functools import partial\n",
    "from os.path import expanduser\n",
    "from tqdm import tqdm\n",
    "import h5py\n",
    "\n",
    "from surround.image_processing import *\n",
    "from surround.data_handling import *\n",
    "from surround.efficient_coding import *\n",
    "from aesthetics.plotting import *\n",
    "from surround.modeling import gaussian, difference_of_gaussians\n",
    "\n",
    "import pyret.filtertools as ft\n",
    "from sklearn.decomposition import PCA\n",
    "from scipy.stats import sem\n",
    "from scipy.optimize import curve_fit, minimize\n",
    "from scipy.interpolate import interp1d\n",
    "from scipy.stats import pearsonr\n",
    "\n",
    "# This is a bit of magic to make matplotlib figures appear inline in the\n",
    "# notebook rather than in a new window.\n",
    "%matplotlib inline\n",
    "import matplotlib.pyplot as plt\n",
    "from matplotlib.ticker import MultipleLocator, FormatStrFormatter\n",
    "\n",
    "plt.style.use('deepretina')\n",
    "\n",
    "# Some more magic so that the notebook will reload external python modules;\n",
    "# see http://stackoverflow.com/questions/1907993/autoreload-of-modules-in-ipython\n",
    "%load_ext autoreload\n",
    "%autoreload 2"
   ]
  },
  {
   "cell_type": "code",
   "execution_count": 2,
   "metadata": {
    "collapsed": false,
    "deletable": true,
    "editable": true
   },
   "outputs": [],
   "source": [
    "microns_per_degree = 50.0 # depends on species; this is for salamander\n",
    "photoreceptor_width = 10.0/microns_per_degree # salamander photoreceptors have width of 10-20 microns\n",
    "retina_width = 4000.0/microns_per_degree # salamander retina is about 4 mm\n",
    "frequency_spacing = 1./retina_width # this is the lowest non-DC frequency we can estimate\n",
    "highest_frequency = 0.5/photoreceptor_width # this is the highest frequency we can estimate (Nyquist freq.)\n",
    "\n",
    "N = int(retina_width//photoreceptor_width)\n",
    "freqs = np.linspace(0, highest_frequency, N//2 + 1)\n",
    "space = np.concatenate([np.linspace(-0.5*retina_width, 0, N//2 + 1)[:-1], np.linspace(0, 0.5*retina_width, N//2 + 1)])"
   ]
  },
  {
   "cell_type": "markdown",
   "metadata": {
    "deletable": true,
    "editable": true
   },
   "source": [
    "### Load receptive fields"
   ]
  },
  {
   "cell_type": "code",
   "execution_count": 3,
   "metadata": {
    "collapsed": true,
    "deletable": true,
    "editable": true
   },
   "outputs": [],
   "source": [
    "# These are loaded as (space, receptive) field tuples\n",
    "cells = {}\n",
    "cells['ganglion'] = load_ganglion_cells(space_mode='peak')\n",
    "cells['bipolar'] = load_bipolar_cells(space_mode='peak')\n",
    "cells['amacrine'] = load_amacrine_cells(space_mode='peak')\n",
    "cells['horizontal'] = load_horizontal_cells(space_mode='peak')"
   ]
  },
  {
   "cell_type": "code",
   "execution_count": 4,
   "metadata": {
    "collapsed": true,
    "deletable": true,
    "editable": true
   },
   "outputs": [],
   "source": [
    "receptive_fields = collections.defaultdict(list)\n",
    "for c in cells.keys():\n",
    "    for s, rf in cells[c]:\n",
    "        this_cell_interp = interp1d(s, rf, kind='slinear', bounds_error=False, fill_value=[0])\n",
    "        receptive_fields[c].append(this_cell_interp(space))\n",
    "        \n",
    "average_ganglion_rf = np.mean(receptive_fields['ganglion'], axis=0)"
   ]
  },
  {
   "cell_type": "markdown",
   "metadata": {
    "deletable": true,
    "editable": true
   },
   "source": [
    "David's 1721 receptive field dataset"
   ]
  },
  {
   "cell_type": "code",
   "execution_count": 5,
   "metadata": {
    "collapsed": true,
    "deletable": true,
    "editable": true
   },
   "outputs": [],
   "source": [
    "data_path = expanduser('~/data/kastner/receptive_fields/')\n",
    "spatialDelta = 0.05 # mm\n",
    "micronsPerDeg = 50.\n",
    "ganglion_rfs = {\n",
    "    'fast_on': np.loadtxt(data_path + 'linesRF1.txt').reshape((126, 101, -1)),\n",
    "    'fast_off_adapting': np.loadtxt(data_path + 'linesRF19.txt').reshape((-1, 101, 96)),\n",
    "    'fast_off_sensitizing': np.loadtxt(data_path + 'linesRF8.txt').reshape((-1, 101, 96)),\n",
    "    'medium_off_adapting': np.loadtxt(data_path + 'linesRF29.txt').reshape((-1, 101, 96)),\n",
    "    'slow_off': np.loadtxt(data_path + 'linesRF17.txt').reshape((-1, 101, 96)),\n",
    "}\n",
    "\n",
    "for celltype in ganglion_rfs.keys():\n",
    "    for rf in ganglion_rfs[celltype]:\n",
    "        # since receptive fields are noisy, use PCA\n",
    "        pca = PCA(n_components=2)\n",
    "        pca.fit(rf)\n",
    "        g_pca = pca.components_[0]\n",
    "\n",
    "        sign_of_pc = -1 * np.sign(g_pca[abs(g_pca) == np.max(abs(g_pca))])\n",
    "        this_space = get_space(g_pca, spatialDelta, micronsPerDeg, kind='peak')\n",
    "        \n",
    "        rf_interp = interp1d(this_space, sign_of_pc*g_pca, kind='slinear', bounds_error=False, fill_value=[0])\n",
    "\n",
    "        receptive_fields[celltype].append(rf_interp(space))"
   ]
  },
  {
   "cell_type": "markdown",
   "metadata": {
    "deletable": true,
    "editable": true
   },
   "source": [
    "### Remove duplicates"
   ]
  },
  {
   "cell_type": "code",
   "execution_count": 6,
   "metadata": {
    "collapsed": false,
    "deletable": true,
    "editable": true
   },
   "outputs": [
    {
     "name": "stderr",
     "output_type": "stream",
     "text": [
      "2it [00:00, 4510.00it/s]\n",
      "253it [00:02, 97.50it/s] \n",
      "2it [00:00, 12318.07it/s]\n",
      "772it [00:22, 35.02it/s] \n",
      "249it [00:02, 109.14it/s]\n",
      "126it [00:00, 220.21it/s]\n",
      "321it [00:03, 84.96it/s] \n",
      "2it [00:00, 7067.07it/s]\n",
      "28it [00:00, 1011.03it/s]\n"
     ]
    }
   ],
   "source": [
    "corr_map = {}\n",
    "for celltype in receptive_fields.keys():\n",
    "    corr_map[celltype] = np.zeros((len(receptive_fields[celltype]), len(receptive_fields[celltype])))\n",
    "    for idr1, rf1 in tqdm(enumerate(receptive_fields[celltype])):\n",
    "        for idr2 in range(idr1+1, len(receptive_fields[celltype])):\n",
    "            rf2 = receptive_fields[celltype][idr2]\n",
    "            corr_map[celltype][idr1, idr2] = pearsonr(rf1, rf2)[0]\n",
    "\n",
    "unduplicated_receptive_fields = collections.defaultdict(list)\n",
    "duplicates = collections.defaultdict(list)\n",
    "\n",
    "for celltype in corr_map.keys():\n",
    "    these_dups = []\n",
    "    for row in corr_map[celltype]:\n",
    "        these_dups.append([i for i in range(len(row)) if row[i] == 1.0])\n",
    "    duplicates[celltype] = np.unique(np.hstack(these_dups))\n",
    "    \n",
    "unduplicated_receptive_fields = collections.defaultdict(list)\n",
    "for celltype in receptive_fields.keys():\n",
    "    for idr, rf in enumerate(receptive_fields[celltype]):\n",
    "        if idr not in duplicates[celltype]:\n",
    "            unduplicated_receptive_fields[celltype].append(rf)\n",
    "            \n",
    "receptive_fields = unduplicated_receptive_fields.copy()\n",
    "del unduplicated_receptive_fields"
   ]
  },
  {
   "cell_type": "code",
   "execution_count": 7,
   "metadata": {
    "collapsed": false,
    "deletable": true,
    "editable": true
   },
   "outputs": [
    {
     "data": {
      "text/plain": [
       "1382"
      ]
     },
     "execution_count": 7,
     "metadata": {},
     "output_type": "execute_result"
    }
   ],
   "source": [
    "sum([len(receptive_fields[k]) for k in receptive_fields.keys()]) - sum([len(receptive_fields[k]) for k in ['horizontal',\n",
    "                                                                                                           'amacrine',\n",
    "                                                                                                          'bipolar']])"
   ]
  },
  {
   "cell_type": "markdown",
   "metadata": {
    "deletable": true,
    "editable": true
   },
   "source": [
    "### Compute projective fields"
   ]
  },
  {
   "cell_type": "code",
   "execution_count": 8,
   "metadata": {
    "collapsed": false,
    "deletable": true,
    "editable": true
   },
   "outputs": [],
   "source": [
    "horz_pfs_full = get_horizontal_projective_field(conv_mode='full')\n",
    "horz_pfs_same = get_horizontal_projective_field(conv_mode='same')\n",
    "ama_pfs_full = get_amacrine_projective_field(conv_mode='full')\n",
    "ama_pfs_same = get_amacrine_projective_field(conv_mode='same')\n",
    "\n",
    "space_h_full, horz_pf_full, horz_sem_full = get_mean(horz_pfs_full)\n",
    "space_h_same, horz_pf_same, horz_sem_same = get_mean(horz_pfs_same)\n",
    "space_a_full, ama_pf_full, ama_sem_full = get_mean(ama_pfs_full)\n",
    "space_a_same, ama_pf_same, ama_sem_same = get_mean(ama_pfs_same)"
   ]
  },
  {
   "cell_type": "code",
   "execution_count": 9,
   "metadata": {
    "collapsed": true,
    "deletable": true,
    "editable": true
   },
   "outputs": [],
   "source": [
    "horz_pf_interp = interp1d(space_h_full, horz_pf_full, kind='slinear', bounds_error=False, fill_value=[0])\n",
    "ama_pf_interp = interp1d(space_a_full, ama_pf_full, kind='slinear', bounds_error=False, fill_value=[0])\n",
    "\n",
    "horz_pf = horz_pf_interp(space)\n",
    "ama_pf = ama_pf_interp(space)"
   ]
  },
  {
   "cell_type": "markdown",
   "metadata": {
    "deletable": true,
    "editable": true
   },
   "source": [
    "### Signal"
   ]
  },
  {
   "cell_type": "code",
   "execution_count": 10,
   "metadata": {
    "collapsed": false,
    "deletable": true,
    "editable": true
   },
   "outputs": [],
   "source": [
    "# choose an image path from cd13A (flood plain, water, horizon) or cd01A (baboons, trees, bushes)\n",
    "pixelsToDeg = 92./2 # or 2./92 degrees per pixel (spacing)\n",
    "spacing = 1./pixelsToDeg # number of degree spacing between pixels\n",
    "normalize = 'divisive'\n",
    "contrast = 0.35\n",
    "signal = np.array(np.load('signal_3_23.npy'))"
   ]
  },
  {
   "cell_type": "markdown",
   "metadata": {
    "deletable": true,
    "editable": true
   },
   "source": [
    "### Noise  \n",
    "Note that the amplitude of the average_ganglion_fft will change the SNR. As the amplitude $\\rightarrow \\infty$, we get $$\\rm{SNR} \\rightarrow \\frac{\\sum (\\rm{filter}_{1:f} \\times \\rm{signal}_{1:f})^2}{\\sum (\\rm{filter}_{1:f} \\times N_{\\rm{in}})^2}$$.  \n",
    "\n",
    "Since the scale of the ganglion fft is arbitrary, we can look at the SNR in this limit."
   ]
  },
  {
   "cell_type": "code",
   "execution_count": 11,
   "metadata": {
    "collapsed": true,
    "deletable": true,
    "editable": true
   },
   "outputs": [],
   "source": [
    "input_noise = 0.098762200628786892\n",
    "output_noise = 0.35\n",
    "target_power = 54.131410989171826"
   ]
  },
  {
   "cell_type": "code",
   "execution_count": 12,
   "metadata": {
    "collapsed": false,
    "deletable": true,
    "editable": true
   },
   "outputs": [
    {
     "name": "stdout",
     "output_type": "stream",
     "text": [
      "1.92576130327\n"
     ]
    },
    {
     "data": {
      "text/plain": [
       "<matplotlib.text.Text at 0x7ff88a72bda0>"
      ]
     },
     "execution_count": 12,
     "metadata": {},
     "output_type": "execute_result"
    },
    {
     "data": {
      "image/png": "[encoded data removed]",
      "text/plain": [
       "<matplotlib.figure.Figure at 0x7ff88c805e10>"
      ]
     },
     "metadata": {},
     "output_type": "display_data"
    }
   ],
   "source": [
    "fig = plt.gcf()\n",
    "fig.set_size_inches((2,2))\n",
    "average_ganglion_fft = abs(np.fft.rfft(average_ganglion_rf))\n",
    "print(get_snr(input_noise, output_noise, signal, 1000*average_ganglion_fft, mode='variance'))\n",
    "snrs = [get_snr(input_noise, output_noise, signal, c*average_ganglion_fft) for c in np.linspace(0,50,100)]\n",
    "plt.plot(np.linspace(0,50,100), snrs)\n",
    "adjust_spines(plt.gca())\n",
    "plt.xlabel('Arbitrary scaling of ganglion cell filter')\n",
    "plt.ylabel('SNR')"
   ]
  },
  {
   "cell_type": "code",
   "execution_count": 13,
   "metadata": {
    "collapsed": false,
    "deletable": true,
    "editable": true
   },
   "outputs": [
    {
     "name": "stdout",
     "output_type": "stream",
     "text": [
      "0.269124689452\n"
     ]
    }
   ],
   "source": [
    "# SNR = 0.269 is total SNR from ganglion recordings of 112 repeats to 30 seconds natural scenes\n",
    "def find_filt_const(filt_const):\n",
    "    this_snr = get_snr(input_noise, output_noise, signal, filt_const*average_ganglion_fft, mode='variance')\n",
    "    return (this_snr - 0.26912469)**2\n",
    "\n",
    "filt_const_opt = scipy.optimize.minimize_scalar(find_filt_const)\n",
    "\n",
    "print(get_snr(input_noise, output_noise, signal, filt_const_opt.x*average_ganglion_fft, mode='variance'))"
   ]
  },
  {
   "cell_type": "markdown",
   "metadata": {
    "deletable": true,
    "editable": true
   },
   "source": [
    "### Ideal filter"
   ]
  },
  {
   "cell_type": "code",
   "execution_count": 14,
   "metadata": {
    "collapsed": false,
    "deletable": true,
    "editable": true
   },
   "outputs": [
    {
     "name": "stdout",
     "output_type": "stream",
     "text": [
      "The relative error from this choice of Lagrangian multiplier is 2.55138806397e-07.\n"
     ]
    }
   ],
   "source": [
    "ideal_filter = unique_soln(signal**2, input_noise, output_noise)"
   ]
  },
  {
   "cell_type": "markdown",
   "metadata": {
    "deletable": true,
    "editable": true
   },
   "source": [
    "### Model of Horizontal Projective Field + Amacrine Projective Field + Center"
   ]
  },
  {
   "cell_type": "code",
   "execution_count": 15,
   "metadata": {
    "collapsed": true,
    "deletable": true,
    "editable": true
   },
   "outputs": [],
   "source": [
    "horz_pf /= np.sum(horz_pf)\n",
    "ama_pf /= np.sum(ama_pf)"
   ]
  },
  {
   "cell_type": "markdown",
   "metadata": {
    "deletable": true,
    "editable": true
   },
   "source": [
    "### Just a simple difference of Gaussians fit to get the initialization point for center width, and the mean center width to find the ideal fit"
   ]
  },
  {
   "cell_type": "markdown",
   "metadata": {
    "deletable": true,
    "editable": true
   },
   "source": [
    "Get center widths for each celltype"
   ]
  },
  {
   "cell_type": "code",
   "execution_count": 16,
   "metadata": {
    "collapsed": true,
    "deletable": true,
    "editable": true
   },
   "outputs": [],
   "source": [
    "diff_of_gauss_mu0 = partial(difference_of_gaussians, mu=0)"
   ]
  },
  {
   "cell_type": "code",
   "execution_count": 17,
   "metadata": {
    "collapsed": true,
    "deletable": true,
    "editable": true
   },
   "outputs": [],
   "source": [
    "def center_and_surround(space, center_width, surround_width, center_strength, surround_strength):\n",
    "    return diff_of_gauss_mu0(space, abs(center_width), abs(surround_width),\n",
    "                            -abs(center_strength), abs(surround_strength))"
   ]
  },
  {
   "cell_type": "code",
   "execution_count": 18,
   "metadata": {
    "collapsed": false,
    "deletable": true,
    "editable": true
   },
   "outputs": [
    {
     "name": "stderr",
     "output_type": "stream",
     "text": [
      "148it [01:03,  1.82it/s]\n",
      "58it [00:14,  4.72it/s]\n",
      "772it [01:56,  6.62it/s]\n",
      "217it [00:49,  4.85it/s]\n",
      "159it [00:29,  7.88it/s]\n",
      "28it [00:11,  1.00it/s]\n"
     ]
    }
   ],
   "source": [
    "center_widths = collections.defaultdict(list)\n",
    "surround_widths = collections.defaultdict(list)\n",
    "center_strengths = collections.defaultdict(list)\n",
    "surround_strengths = collections.defaultdict(list)\n",
    "fit_failures = collections.defaultdict(list)\n",
    "\n",
    "for celltype in receptive_fields.keys():\n",
    "    if celltype in ['ganglion', 'fast_on', 'fast_off_adapting', 'fast_off_sensitizing', \n",
    "                    'medium_off_adapting', 'slow_off']:\n",
    "        \n",
    "        for idg, g in tqdm(enumerate(receptive_fields[celltype])):\n",
    "            try:\n",
    "                popt_this, pcov = curve_fit(center_and_surround, space, g, p0=[1.5, 3.5, -10, 30])\n",
    "                center_id = np.argmin(abs(popt_this[:2]))\n",
    "                surround_id = 1 ^ center_id\n",
    "                center_widths[celltype].append(abs(popt_this[center_id]))\n",
    "                surround_widths[celltype].append(abs(popt_this[surround_id]))\n",
    "                center_strengths[celltype].append(popt_this[center_id+2])\n",
    "                surround_strengths[celltype].append(popt_this[surround_id+2])\n",
    "#                 plt.plot(space, diff_of_gauss_mu0(space, *popt_this), color=np.random.rand(3), alpha=0.6)\n",
    "            except:\n",
    "                fit_failures[celltype].append(idg)\n",
    "            \n",
    "                # just set params to median across cells\n",
    "                # this way the params are still aligned with the receptive field id\n",
    "                center_widths[celltype].append(np.median(center_widths[celltype]))\n",
    "                surround_widths[celltype].append(np.median(surround_widths[celltype]))\n",
    "                center_strengths[celltype].append(np.median(center_strengths[celltype]))\n",
    "                surround_strengths[celltype].append(np.median(surround_strengths[celltype]))\n",
    "                \n",
    "#                 print(\"Couldn't fit cell %d\" %idg)"
   ]
  },
  {
   "cell_type": "code",
   "execution_count": 19,
   "metadata": {
    "collapsed": false,
    "deletable": true,
    "editable": true
   },
   "outputs": [
    {
     "name": "stdout",
     "output_type": "stream",
     "text": [
      "couldn't fit 4 in fast_off_adapting\n",
      "couldn't fit 1 in fast_on\n",
      "couldn't fit 13 in slow_off\n",
      "couldn't fit 3 in fast_off_sensitizing\n",
      "couldn't fit 4 in medium_off_adapting\n",
      "couldn't fit 3 in ganglion\n"
     ]
    }
   ],
   "source": [
    "for f in fit_failures.keys():\n",
    "    print(\"couldn't fit %d in %s\" %(len(fit_failures[f]), f))"
   ]
  },
  {
   "cell_type": "markdown",
   "metadata": {
    "deletable": true,
    "editable": true
   },
   "source": [
    "Plot the average profile across celltypes"
   ]
  },
  {
   "cell_type": "code",
   "execution_count": 20,
   "metadata": {
    "collapsed": false,
    "deletable": true,
    "editable": true
   },
   "outputs": [],
   "source": [
    "median_center_widths = {}\n",
    "for celltype in center_widths.keys():\n",
    "    cws = np.array(center_widths[celltype])\n",
    "    sws = np.array(surround_widths[celltype])\n",
    "    css = np.array(center_strengths[celltype])\n",
    "    sss = np.array(surround_strengths[celltype])\n",
    "#     mean_center_widths[celltype] = np.mean(cws[cws < 500])\n",
    "#     mean_surround_width = np.mean(sws[sws < 500])\n",
    "#     mean_center_strength = np.mean(css[abs(css) < 500])\n",
    "#     mean_surround_strength = np.mean(sss[abs(sss) < 500])\n",
    "    \n",
    "    median_center_widths[celltype] = np.median(abs(cws))\n",
    "    median_surround_width = np.median(abs(sws))\n",
    "    median_center_strength = np.median(-abs(css))\n",
    "    median_surround_strength = np.median(abs(sss))\n",
    "#     plt.plot(space, diff_of_gauss_mu0(space, median_center_widths[celltype], median_surround_width,\n",
    "#                                      median_center_strength, median_surround_strength), label=celltype)\n",
    "# plt.legend(frameon=False, fontsize=9, loc='lower left')\n",
    "# adjust_spines(plt.gca())"
   ]
  },
  {
   "cell_type": "code",
   "execution_count": null,
   "metadata": {
    "collapsed": false,
    "deletable": true,
    "editable": true
   },
   "outputs": [
    {
     "data": {
      "text/plain": [
       "{'fast_off_adapting': 1.6921005209471627,\n",
       " 'fast_off_sensitizing': 2.0456543257003039,\n",
       " 'fast_on': 2.1703662900605498,\n",
       " 'ganglion': 1.3731413963691115,\n",
       " 'medium_off_adapting': 1.555772399380934,\n",
       " 'slow_off': 1.5248731503974167}"
      ]
     },
     "execution_count": 21,
     "metadata": {},
     "output_type": "execute_result"
    }
   ],
   "source": [
    "median_center_widths"
   ]
  },
  {
   "cell_type": "markdown",
   "metadata": {
    "deletable": true,
    "editable": true
   },
   "source": [
    "## Look at the distribution of SNRs and filter weights for all RFs"
   ]
  },
  {
   "cell_type": "code",
   "execution_count": null,
   "metadata": {
    "collapsed": false,
    "deletable": true,
    "editable": true
   },
   "outputs": [
    {
     "name": "stderr",
     "output_type": "stream",
     "text": [
      "150it [00:35,  4.26it/s]\n",
      "150it [00:36,  4.05it/s]\n",
      "150it [00:34,  3.86it/s]\n",
      "150it [00:36,  4.40it/s]\n",
      "150it [00:36,  4.25it/s]\n",
      "104it [00:25,  3.96it/s]"
     ]
    }
   ],
   "source": [
    "resolution = 150\n",
    "horz_weights = np.linspace(0,1,resolution)\n",
    "center_weights = np.linspace(0,1,resolution)\n",
    "init_filt_const = 10.9\n",
    "\n",
    "all_snrs = collections.defaultdict(list)\n",
    "all_filter_consts = collections.defaultdict(list)\n",
    "\n",
    "for celltype in receptive_fields.keys():\n",
    "    if celltype in ['ganglion', 'fast_on', 'fast_off_adapting', 'fast_off_sensitizing', \n",
    "                    'medium_off_adapting', 'slow_off']:\n",
    "        center = gaussian(x=space, sigma=median_center_widths[celltype], mu=0.)\n",
    "        center /= -np.sum(center) # make center unit vector like horz_pf and ama_pf\n",
    "        \n",
    "        def rf_model(horz_weight, center_weight):\n",
    "            return center_weight*center + (1-center_weight)*(horz_weight*horz_pf + (1-horz_weight)*ama_pf)\n",
    "        \n",
    "#         print('Information map for %s cells.' %celltype)\n",
    "        \n",
    "        infomap = np.zeros((resolution, resolution))\n",
    "        for idh,hw in tqdm(enumerate(horz_weights)):\n",
    "            for idc,cw in enumerate(center_weights):\n",
    "                rf = rf_model(hw, cw)\n",
    "                rf_filt = abs(np.fft.rfft(rf))\n",
    "                \n",
    "                # constrain model\n",
    "                def constrain_filt_power(filt_const):\n",
    "                    size = len(rf_filt)\n",
    "                    output_power = np.sum((signal*filt_const*rf_filt)**2 \n",
    "                                          + (input_noise*filt_const*rf_filt)**2\n",
    "                                          + output_noise**2)\n",
    "                    \n",
    "                    return (target_power - output_power)**2\n",
    "\n",
    "                filt_const_opt = scipy.optimize.minimize(constrain_filt_power, init_filt_const)\n",
    "                iterations = 0\n",
    "                new_init_filt_const = init_filt_const\n",
    "                while not filt_const_opt.success:\n",
    "                    iterations += 1\n",
    "                    new_init_filt_const *= 10\n",
    "                    filt_const_opt = scipy.optimize.minimize(constrain_filt_power, new_init_filt_const)\n",
    "                    if iterations > 10:\n",
    "                        detailed_failures[celltype] = filt_const_opt\n",
    "                        break\n",
    "                \n",
    "                filt_const = abs(filt_const_opt['x'])\n",
    "                all_filter_consts[celltype].append(filt_const[0])\n",
    "                \n",
    "                if not filt_const_opt.success:\n",
    "                    failures[celltype].append([hw, cw])\n",
    "\n",
    "                signal_power = (filt_const * rf_filt * signal)**2\n",
    "                noise_power = (filt_const * rf_filt * input_noise)**2 + output_noise**2\n",
    "#                 infomap[idh,idc] = 0.5*np.sum(np.log2(1 + signal_power/noise_power))\n",
    "                all_snrs[celltype].append(get_snr(input_noise, output_noise, signal, filt_const*rf_filt,\n",
    "                                                 mode='variance'))"
   ]
  },
  {
   "cell_type": "code",
   "execution_count": null,
   "metadata": {
    "collapsed": false,
    "deletable": true,
    "editable": true
   },
   "outputs": [],
   "source": [
    "len(all_snrs['fast_off_adapting'])"
   ]
  },
  {
   "cell_type": "code",
   "execution_count": null,
   "metadata": {
    "collapsed": false,
    "deletable": true,
    "editable": true
   },
   "outputs": [],
   "source": [
    "plt.scatter(all_filter_consts['fast_off_adapting'], all_snrs['fast_off_adapting'], s=10, color='k')"
   ]
  },
  {
   "cell_type": "markdown",
   "metadata": {
    "deletable": true,
    "editable": true
   },
   "source": [
    "## How do changes in input/output/power affect info maps?"
   ]
  },
  {
   "cell_type": "markdown",
   "metadata": {
    "deletable": true,
    "editable": true
   },
   "source": [
    "Since the maps are basically constant across hw axis, just pick hw=0.5."
   ]
  },
  {
   "cell_type": "code",
   "execution_count": null,
   "metadata": {
    "collapsed": true,
    "deletable": true,
    "editable": true
   },
   "outputs": [],
   "source": [
    "colorscheme = {\n",
    "    'ganglion': 'k',\n",
    "    'fast_off_sensitizing': 'r',\n",
    "    'fast_off_adapting': 'g',\n",
    "    'slow_off': 'y',\n",
    "    'fast_on': 'b',\n",
    "    'medium_off_adapting': 'c'\n",
    "}"
   ]
  },
  {
   "cell_type": "code",
   "execution_count": null,
   "metadata": {
    "collapsed": true,
    "deletable": true,
    "editable": true
   },
   "outputs": [],
   "source": [
    "input_noise = 0.098762200628786892\n",
    "output_noise = 0.35\n",
    "target_power = 54.131410989171826"
   ]
  },
  {
   "cell_type": "code",
   "execution_count": null,
   "metadata": {
    "collapsed": false,
    "deletable": true,
    "editable": true
   },
   "outputs": [],
   "source": [
    "input_noise"
   ]
  },
  {
   "cell_type": "code",
   "execution_count": null,
   "metadata": {
    "collapsed": false,
    "deletable": true,
    "editable": true
   },
   "outputs": [],
   "source": [
    "output_noise"
   ]
  },
  {
   "cell_type": "code",
   "execution_count": null,
   "metadata": {
    "collapsed": false,
    "deletable": true,
    "editable": true
   },
   "outputs": [],
   "source": [
    "target_power"
   ]
  },
  {
   "cell_type": "code",
   "execution_count": null,
   "metadata": {
    "collapsed": false,
    "deletable": true,
    "editable": true
   },
   "outputs": [],
   "source": [
    "np.logspace(-2,0.5,5)"
   ]
  },
  {
   "cell_type": "code",
   "execution_count": null,
   "metadata": {
    "collapsed": false,
    "deletable": true,
    "editable": true
   },
   "outputs": [],
   "source": [
    "resolution = 150\n",
    "horz_weights = [0.5]\n",
    "center_weights = np.linspace(0,1,resolution)\n",
    "\n",
    "celltype = 'fast_on'\n",
    "init_filt_const = 10.9\n",
    "info_maps = collections.defaultdict(list) # one info map per celltype (since they will be a function of center width)\n",
    "failures = collections.defaultdict(list)\n",
    "detailed_failures = collections.defaultdict(list)\n",
    "\n",
    "\n",
    "input_noises = np.array([np.float('%0.2f' %x) for x in np.logspace(-2,0.5,5)])\n",
    "output_noises = np.array([np.float('%0.2f' %x) for x in np.logspace(-2,0.5,5)])\n",
    "powers = np.round(np.linspace(1.,200,4))\n",
    "for input_noise in tqdm(input_noises):\n",
    "    for output_noise in output_noises:\n",
    "        for target_power in powers:\n",
    "            center = gaussian(x=space, sigma=median_center_widths[celltype], mu=0.)\n",
    "            center /= -np.sum(center) # make center unit vector like horz_pf and ama_pf\n",
    "\n",
    "            def rf_model(horz_weight, center_weight):\n",
    "                return center_weight*center + (1-center_weight)*(horz_weight*horz_pf + (1-horz_weight)*ama_pf)\n",
    "\n",
    "    #         print('Information map for %s cells.' %celltype)\n",
    "\n",
    "            infomap = np.zeros((resolution,))\n",
    "            hw = horz_weights[0]\n",
    "            for idc,cw in enumerate(center_weights):\n",
    "                rf = rf_model(hw, cw)\n",
    "                rf_filt = abs(np.fft.rfft(rf))\n",
    "\n",
    "                # constrain model\n",
    "                def constrain_filt_power(filt_const):\n",
    "                    size = len(rf_filt)\n",
    "                    output_power = np.sum((signal*filt_const*rf_filt)**2 \n",
    "                                          + (input_noise*filt_const*rf_filt)**2\n",
    "                                          + output_noise**2)\n",
    "\n",
    "                    return (target_power - output_power)**2\n",
    "\n",
    "                filt_const_opt = scipy.optimize.minimize(constrain_filt_power, init_filt_const)\n",
    "                iterations = 0\n",
    "                new_init_filt_const = init_filt_const\n",
    "                while not filt_const_opt.success:\n",
    "                    iterations += 1\n",
    "                    new_init_filt_const *= 10\n",
    "                    filt_const_opt = scipy.optimize.minimize(constrain_filt_power, new_init_filt_const)\n",
    "                    if iterations > 10:\n",
    "                        detailed_failures[celltype] = filt_const_opt\n",
    "                        break\n",
    "\n",
    "                filt_const = abs(filt_const_opt['x'])\n",
    "\n",
    "                if not filt_const_opt.success:\n",
    "                    failures[celltype].append([hw, cw])\n",
    "\n",
    "                signal_power = (filt_const * rf_filt * signal)**2\n",
    "                noise_power = (filt_const * rf_filt * input_noise)**2 + output_noise**2\n",
    "                infomap[idc] = 0.5*np.sum(np.log2(1 + signal_power/noise_power))\n",
    "            info_maps['%0.2f, %0.2f, %0.2f' %(input_noise, output_noise, target_power)] = infomap"
   ]
  },
  {
   "cell_type": "code",
   "execution_count": null,
   "metadata": {
    "collapsed": false,
    "deletable": true,
    "editable": true
   },
   "outputs": [],
   "source": [
    "list(info_maps.keys())"
   ]
  },
  {
   "cell_type": "code",
   "execution_count": null,
   "metadata": {
    "collapsed": false,
    "deletable": true,
    "editable": true
   },
   "outputs": [],
   "source": [
    "for key in info_maps.keys():\n",
    "    input_noise, output_noise, target_power = [float(x) for x in key.split(',')]\n",
    "    this_random_color = np.random.rand(3)\n",
    "    plt.plot(center_weights, info_maps[key], alpha=0.5, color=this_random_color)\n",
    "    plt.vlines(center_weights[np.argmax(info_maps[key])], 0, 60, color=this_random_color, alpha=0.5)\n",
    "    if np.argmax(info_maps[key]) > 100:\n",
    "        print('%s, optimal cw = %0.2f' %(key, center_weights[np.argmax(info_maps[key])]))"
   ]
  },
  {
   "cell_type": "code",
   "execution_count": null,
   "metadata": {
    "collapsed": false,
    "deletable": true,
    "editable": true
   },
   "outputs": [],
   "source": [
    "for key in info_maps.keys():\n",
    "    if np.argmax(info_maps[key]) > 100:\n",
    "        print('%s, optimal cw = %0.2f' %(key, center_weights[np.argmax(info_maps[key])]))\n",
    "        input_noise, output_noise, target_power = [float(x) for x in key.split(',')]\n",
    "        this_random_color = np.random.rand(3)\n",
    "        plt.plot(center_weights, info_maps[key], alpha=0.5, color=this_random_color)\n",
    "        plt.vlines(center_weights[np.argmax(info_maps[key])], 0, 60, color=this_random_color, alpha=0.5)\n",
    "plt.ylim(0,2)"
   ]
  },
  {
   "cell_type": "code",
   "execution_count": null,
   "metadata": {
    "collapsed": false,
    "deletable": true,
    "editable": true
   },
   "outputs": [],
   "source": [
    "input_noises"
   ]
  },
  {
   "cell_type": "code",
   "execution_count": null,
   "metadata": {
    "collapsed": false,
    "deletable": true,
    "editable": true
   },
   "outputs": [],
   "source": [
    "output_noises"
   ]
  },
  {
   "cell_type": "code",
   "execution_count": null,
   "metadata": {
    "collapsed": false,
    "deletable": true,
    "editable": true
   },
   "outputs": [],
   "source": [
    "powers"
   ]
  },
  {
   "cell_type": "code",
   "execution_count": null,
   "metadata": {
    "collapsed": false,
    "deletable": true,
    "editable": true
   },
   "outputs": [],
   "source": [
    "plt.plot(center_weights, info_maps['0.75, 0.75, 134.00'])\n",
    "plt.plot(center_weights, info_maps['0.75, 0.75, 200.00'])"
   ]
  },
  {
   "cell_type": "code",
   "execution_count": null,
   "metadata": {
    "collapsed": false,
    "deletable": true,
    "editable": true
   },
   "outputs": [],
   "source": [
    "for key in info_maps.keys():\n",
    "    input_noise, output_noise, target_power = [float(x) for x in key.split(',')]\n",
    "    this_random_color = np.random.rand(3)\n",
    "    plt.plot(center_weights, info_maps[key], alpha=0.5, color=this_random_color)\n",
    "#     plt.vlines(center_weights[np.argmax(info_maps[key])], 0, 60, color=this_random_color, alpha=0.5)\n",
    "    if np.argmax(info_maps[key]) > 100:\n",
    "        print('%s, optimal cw = %0.2f' %(key, center_weights[np.argmax(info_maps[key])]))"
   ]
  },
  {
   "cell_type": "code",
   "execution_count": null,
   "metadata": {
    "collapsed": false,
    "deletable": true,
    "editable": true
   },
   "outputs": [],
   "source": [
    "powers"
   ]
  },
  {
   "cell_type": "code",
   "execution_count": null,
   "metadata": {
    "collapsed": false,
    "deletable": true,
    "editable": true
   },
   "outputs": [],
   "source": [
    "for key in info_maps.keys():\n",
    "    input_noise, output_noise, target_power = [float(x) for x in key.split(',')]\n",
    "    if target_power == 67.0:\n",
    "        this_random_color = np.random.rand(3)\n",
    "        plt.plot(center_weights, info_maps[key], alpha=0.5, color=this_random_color)\n",
    "    #     plt.vlines(center_weights[np.argmax(info_maps[key])], 0, 60, color=this_random_color, alpha=0.5)\n",
    "        if np.argmax(info_maps[key]) > 100:\n",
    "            print('%s, optimal cw = %0.2f' %(key, center_weights[np.argmax(info_maps[key])]))"
   ]
  },
  {
   "cell_type": "code",
   "execution_count": null,
   "metadata": {
    "collapsed": false,
    "deletable": true,
    "editable": true
   },
   "outputs": [],
   "source": [
    "resolution = 150\n",
    "horz_weights = [0.5]\n",
    "center_weights = np.linspace(0,1,resolution)\n",
    "\n",
    "celltype = 'fast_on'\n",
    "init_filt_const = 10.9\n",
    "info_maps = collections.defaultdict(list) # one info map per celltype (since they will be a function of center width)\n",
    "failures = collections.defaultdict(list)\n",
    "detailed_failures = collections.defaultdict(list)\n",
    "\n",
    "\n",
    "input_noises = np.array([np.float('%0.2f' %x) for x in np.logspace(-2, 0, 10)])\n",
    "output_noises = np.array([np.float('%0.2f' %x) for x in np.logspace(-2, 0, 10)])\n",
    "powers = np.round(np.linspace(1.,200,4))\n",
    "for input_noise in tqdm(input_noises):\n",
    "    for output_noise in output_noises:\n",
    "        center = gaussian(x=space, sigma=median_center_widths[celltype], mu=0.)\n",
    "        center /= -np.sum(center) # make center unit vector like horz_pf and ama_pf\n",
    "\n",
    "        def rf_model(horz_weight, center_weight):\n",
    "            return center_weight*center + (1-center_weight)*(horz_weight*horz_pf + (1-horz_weight)*ama_pf)\n",
    "\n",
    "#         print('Information map for %s cells.' %celltype)\n",
    "\n",
    "        infomap = np.zeros((resolution,))\n",
    "        hw = horz_weights[0]\n",
    "        for idc,cw in enumerate(center_weights):\n",
    "            rf = rf_model(hw, cw)\n",
    "            rf_filt = abs(np.fft.rfft(rf))\n",
    "\n",
    "            # constrain model\n",
    "            def constrain_filt_power(filt_const):\n",
    "                size = len(rf_filt)\n",
    "                output_power = np.sum((signal*filt_const*rf_filt)**2 \n",
    "                                      + (input_noise*filt_const*rf_filt)**2\n",
    "                                      + output_noise**2)\n",
    "\n",
    "                return (target_power - output_power)**2\n",
    "\n",
    "            filt_const_opt = scipy.optimize.minimize(constrain_filt_power, init_filt_const)\n",
    "            iterations = 0\n",
    "            new_init_filt_const = init_filt_const\n",
    "            while not filt_const_opt.success:\n",
    "                iterations += 1\n",
    "                new_init_filt_const *= 10\n",
    "                filt_const_opt = scipy.optimize.minimize(constrain_filt_power, new_init_filt_const)\n",
    "                if iterations > 10:\n",
    "                    detailed_failures[celltype] = filt_const_opt\n",
    "                    break\n",
    "\n",
    "            filt_const = abs(filt_const_opt['x'])\n",
    "\n",
    "            if not filt_const_opt.success:\n",
    "                failures[celltype].append([hw, cw])\n",
    "\n",
    "            signal_power = (filt_const * rf_filt * signal)**2\n",
    "            noise_power = (filt_const * rf_filt * input_noise)**2 + output_noise**2\n",
    "            infomap[idc] = 0.5*np.sum(np.log2(1 + signal_power/noise_power))\n",
    "        info_maps['%0.2f, %0.2f, %0.2f' %(input_noise, output_noise, target_power)] = infomap"
   ]
  },
  {
   "cell_type": "code",
   "execution_count": null,
   "metadata": {
    "collapsed": false,
    "deletable": true,
    "editable": true
   },
   "outputs": [],
   "source": [
    "list(info_maps.keys())"
   ]
  },
  {
   "cell_type": "code",
   "execution_count": null,
   "metadata": {
    "collapsed": false,
    "deletable": true,
    "editable": true
   },
   "outputs": [],
   "source": [
    "for key in info_maps.keys():\n",
    "    input_noise, output_noise, target_power = [float(x) for x in key.split(',')]\n",
    "    this_random_color = np.random.rand(3)\n",
    "    plt.plot(center_weights, info_maps[key], alpha=0.5, color=this_random_color)\n",
    "#     plt.vlines(center_weights[np.argmax(info_maps[key])], 0, 60, color=this_random_color, alpha=0.5)\n",
    "    if np.argmax(info_maps[key]) > 100:\n",
    "        print('%s, optimal cw = %0.2f' %(key, center_weights[np.argmax(info_maps[key])]))"
   ]
  },
  {
   "cell_type": "code",
   "execution_count": null,
   "metadata": {
    "collapsed": false,
    "deletable": true,
    "editable": true
   },
   "outputs": [],
   "source": [
    "for key in info_maps.keys():\n",
    "    input_noise, output_noise, target_power = [float(x) for x in key.split(',')]\n",
    "    this_random_color = (1-input_noise, output_noise, 1.) #np.random.rand(3)\n",
    "    plt.plot(center_weights, info_maps[key], alpha=0.5, color=this_random_color)\n",
    "#     plt.vlines(center_weights[np.argmax(info_maps[key])], 0, 60, color=this_random_color, alpha=0.5)\n",
    "    if np.argmax(info_maps[key]) > 100:\n",
    "        print('%s, optimal cw = %0.2f' %(key, center_weights[np.argmax(info_maps[key])]))\n",
    "plt.yscale('log')\n",
    "plt.ylim(10e-1, 50)"
   ]
  },
  {
   "cell_type": "code",
   "execution_count": null,
   "metadata": {
    "collapsed": false,
    "deletable": true,
    "editable": true
   },
   "outputs": [],
   "source": [
    "for key in info_maps.keys():\n",
    "    input_noise, output_noise, target_power = [float(x) for x in key.split(',')]\n",
    "    this_random_color = (1-input_noise, output_noise, 1.) #np.random.rand(3)\n",
    "    plt.plot(center_weights, info_maps[key], alpha=0.3, color=this_random_color)\n",
    "#     plt.vlines(center_weights[np.argmax(info_maps[key])], 0, 60, color=this_random_color, alpha=0.5)\n",
    "    if np.argmax(info_maps[key]) > 100:\n",
    "        print('%s, optimal cw = %0.2f' %(key, center_weights[np.argmax(info_maps[key])]))"
   ]
  },
  {
   "cell_type": "code",
   "execution_count": null,
   "metadata": {
    "collapsed": true,
    "deletable": true,
    "editable": true
   },
   "outputs": [],
   "source": [
    "input_noise = 0.098762200628786892\n",
    "output_noise = 0.35\n",
    "target_power = 54.131410989171826"
   ]
  },
  {
   "cell_type": "code",
   "execution_count": null,
   "metadata": {
    "collapsed": true,
    "deletable": true,
    "editable": true
   },
   "outputs": [],
   "source": [
    "resolution = 150\n",
    "horz_weights = [0.5]\n",
    "center_weights = np.linspace(0,1,resolution)\n",
    "\n",
    "celltype = 'fast_on'\n",
    "init_filt_const = 10.9\n",
    "failures = collections.defaultdict(list)\n",
    "detailed_failures = collections.defaultdict(list)\n",
    "\n",
    "center = gaussian(x=space, sigma=median_center_widths[celltype], mu=0.)\n",
    "center /= -np.sum(center) # make center unit vector like horz_pf and ama_pf\n",
    "\n",
    "def rf_model(horz_weight, center_weight):\n",
    "    return center_weight*center + (1-center_weight)*(horz_weight*horz_pf + (1-horz_weight)*ama_pf)\n",
    "\n",
    "#         print('Information map for %s cells.' %celltype)\n",
    "\n",
    "infomap = np.zeros((resolution,))\n",
    "hw = horz_weights[0]\n",
    "for idc,cw in enumerate(center_weights):\n",
    "    rf = rf_model(hw, cw)\n",
    "    rf_filt = abs(np.fft.rfft(rf))\n",
    "\n",
    "    # constrain model\n",
    "    def constrain_filt_power(filt_const):\n",
    "        size = len(rf_filt)\n",
    "        output_power = np.sum((signal*filt_const*rf_filt)**2 \n",
    "                              + (input_noise*filt_const*rf_filt)**2\n",
    "                              + output_noise**2)\n",
    "\n",
    "        return (target_power - output_power)**2\n",
    "\n",
    "    filt_const_opt = scipy.optimize.minimize(constrain_filt_power, init_filt_const)\n",
    "    iterations = 0\n",
    "    new_init_filt_const = init_filt_const\n",
    "    while not filt_const_opt.success:\n",
    "        iterations += 1\n",
    "        new_init_filt_const *= 10\n",
    "        filt_const_opt = scipy.optimize.minimize(constrain_filt_power, new_init_filt_const)\n",
    "        if iterations > 10:\n",
    "            detailed_failures[celltype] = filt_const_opt\n",
    "            break\n",
    "\n",
    "    filt_const = abs(filt_const_opt['x'])\n",
    "\n",
    "    if not filt_const_opt.success:\n",
    "        failures[celltype].append([hw, cw])\n",
    "\n",
    "    signal_power = (filt_const * rf_filt * signal)**2\n",
    "    noise_power = (filt_const * rf_filt * input_noise)**2 + output_noise**2\n",
    "    infomap[idc] = 0.5*np.sum(np.log2(1 + signal_power/noise_power))\n",
    "our_info_map = infomap"
   ]
  },
  {
   "cell_type": "code",
   "execution_count": null,
   "metadata": {
    "collapsed": false,
    "deletable": true,
    "editable": true
   },
   "outputs": [],
   "source": [
    "plt.plot(our_info_map)"
   ]
  },
  {
   "cell_type": "code",
   "execution_count": null,
   "metadata": {
    "collapsed": false,
    "deletable": true,
    "editable": true
   },
   "outputs": [],
   "source": [
    "for key in info_maps.keys():\n",
    "    input_noise, output_noise, target_power = [float(x) for x in key.split(',')]\n",
    "    this_random_color = (1-input_noise, output_noise, 1.) #np.random.rand(3)\n",
    "    plt.plot(center_weights, info_maps[key], alpha=0.3, color=this_random_color)\n",
    "    plt.plot(center_weights, our_info_map, color='k')\n",
    "#     plt.vlines(center_weights[np.argmax(info_maps[key])], 0, 60, color=this_random_color, alpha=0.5)\n",
    "    if np.argmax(info_maps[key]) > 100:\n",
    "        print('%s, optimal cw = %0.2f' %(key, center_weights[np.argmax(info_maps[key])]))"
   ]
  },
  {
   "cell_type": "code",
   "execution_count": null,
   "metadata": {
    "collapsed": false,
    "deletable": true,
    "editable": true
   },
   "outputs": [],
   "source": [
    "input_noise"
   ]
  },
  {
   "cell_type": "code",
   "execution_count": null,
   "metadata": {
    "collapsed": false,
    "deletable": true,
    "editable": true
   },
   "outputs": [],
   "source": [
    "input_noise = 0.1"
   ]
  },
  {
   "cell_type": "code",
   "execution_count": null,
   "metadata": {
    "collapsed": false,
    "deletable": true,
    "editable": true
   },
   "outputs": [],
   "source": [
    "print(np.sum(signal**2)/np.sum((input_noise*np.ones_like(signal))**2))"
   ]
  },
  {
   "cell_type": "code",
   "execution_count": null,
   "metadata": {
    "collapsed": false,
    "deletable": true,
    "editable": true
   },
   "outputs": [],
   "source": [
    "input_noise = 0.5"
   ]
  },
  {
   "cell_type": "code",
   "execution_count": null,
   "metadata": {
    "collapsed": false,
    "deletable": true,
    "editable": true
   },
   "outputs": [],
   "source": [
    "output_noise"
   ]
  },
  {
   "cell_type": "code",
   "execution_count": null,
   "metadata": {
    "collapsed": true,
    "deletable": true,
    "editable": true
   },
   "outputs": [],
   "source": [
    "signal_power = (filt_const * rf_filt * signal)**2\n",
    "noise_power = (filt_const * rf_filt * input_noise)**2 + output_noise**2"
   ]
  },
  {
   "cell_type": "code",
   "execution_count": null,
   "metadata": {
    "collapsed": false,
    "deletable": true,
    "editable": true
   },
   "outputs": [],
   "source": [
    "np.sum(signal_power)/np.sum(noise_power)"
   ]
  },
  {
   "cell_type": "code",
   "execution_count": null,
   "metadata": {
    "collapsed": false,
    "deletable": true,
    "editable": true
   },
   "outputs": [],
   "source": [
    "np.sum(signal_power/noise_power)"
   ]
  },
  {
   "cell_type": "code",
   "execution_count": null,
   "metadata": {
    "collapsed": false,
    "deletable": true,
    "editable": true
   },
   "outputs": [],
   "source": [
    "get_snr(input_noise, output_noise, signal, filt_const*rf_filt, mode='variance')"
   ]
  },
  {
   "cell_type": "code",
   "execution_count": null,
   "metadata": {
    "collapsed": false,
    "deletable": true,
    "editable": true
   },
   "outputs": [],
   "source": [
    "signal_vars = get_signal_var(signal, filt_const*rf_filt, total_var=False)\n",
    "noise_vars = get_noise_var(input_noise, output_noise, filt_const*rf_filt, total_var=False)"
   ]
  },
  {
   "cell_type": "code",
   "execution_count": null,
   "metadata": {
    "collapsed": false,
    "deletable": true,
    "editable": true
   },
   "outputs": [],
   "source": [
    "np.sum(signal_vars)/np.sum(noise_vars)"
   ]
  },
  {
   "cell_type": "code",
   "execution_count": null,
   "metadata": {
    "collapsed": false,
    "deletable": true,
    "editable": true
   },
   "outputs": [],
   "source": [
    "np.sum(signal_vars/noise_vars)"
   ]
  },
  {
   "cell_type": "code",
   "execution_count": null,
   "metadata": {
    "collapsed": false,
    "deletable": true,
    "editable": true
   },
   "outputs": [],
   "source": [
    "filt_const"
   ]
  },
  {
   "cell_type": "code",
   "execution_count": null,
   "metadata": {
    "collapsed": true,
    "deletable": true,
    "editable": true
   },
   "outputs": [],
   "source": [
    "signal_vars = get_signal_var(signal, filt_const*rf_filt, total_var=False)\n",
    "noise_vars = get_noise_var(input_noise, output_noise, filt_const*rf_filt, total_var=False)"
   ]
  },
  {
   "cell_type": "code",
   "execution_count": null,
   "metadata": {
    "collapsed": false,
    "deletable": true,
    "editable": true
   },
   "outputs": [],
   "source": [
    "np.sum(signal_vars)/np.sum(noise_vars)"
   ]
  },
  {
   "cell_type": "code",
   "execution_count": null,
   "metadata": {
    "collapsed": true,
    "deletable": true,
    "editable": true
   },
   "outputs": [],
   "source": [
    "# SNR = signal var / input_noise*signal + output"
   ]
  },
  {
   "cell_type": "code",
   "execution_count": null,
   "metadata": {
    "collapsed": false,
    "deletable": true,
    "editable": true
   },
   "outputs": [],
   "source": [
    "resolution = 150\n",
    "horz_weights = [0.5]\n",
    "center_weights = np.linspace(0,1,resolution)\n",
    "\n",
    "celltype = 'fast_on'\n",
    "init_filt_const = 10.9\n",
    "info_maps = collections.defaultdict(list) # one info map per celltype (since they will be a function of center width)\n",
    "failures = collections.defaultdict(list)\n",
    "detailed_failures = collections.defaultdict(list)\n",
    "snrs = collections.defaultdict(list)\n",
    "\n",
    "input_noises = [0.03228, 0.0987, 0.1965] #np.array([np.float('%0.2f' %x) for x in np.logspace(-2, 0, 10)])\n",
    "output_noises = [0.35] #np.array([np.float('%0.2f' %x) for x in [0.1, 0.35, 0.8]])\n",
    "# powers = np.round(np.linspace(1.,200,4))\n",
    "target_power = 54.131410989171826\n",
    "for input_noise in tqdm(input_noises):\n",
    "    for output_noise in output_noises:\n",
    "        center = gaussian(x=space, sigma=median_center_widths[celltype], mu=0.)\n",
    "        center /= -np.sum(center) # make center unit vector like horz_pf and ama_pf\n",
    "\n",
    "        def rf_model(horz_weight, center_weight):\n",
    "            return center_weight*center + (1-center_weight)*(horz_weight*horz_pf + (1-horz_weight)*ama_pf)\n",
    "\n",
    "#         print('Information map for %s cells.' %celltype)\n",
    "\n",
    "        infomap = np.zeros((resolution,))\n",
    "        hw = horz_weights[0]\n",
    "        these_snrs = []\n",
    "        for idc,cw in enumerate(center_weights):\n",
    "            rf = rf_model(hw, cw)\n",
    "            rf_filt = abs(np.fft.rfft(rf))\n",
    "\n",
    "            # constrain model\n",
    "            def constrain_filt_power(filt_const):\n",
    "                size = len(rf_filt)\n",
    "                output_power = np.sum((signal*filt_const*rf_filt)**2 \n",
    "                                      + (input_noise*filt_const*rf_filt)**2\n",
    "                                      + output_noise**2)\n",
    "\n",
    "                return (target_power - output_power)**2\n",
    "\n",
    "            filt_const_opt = scipy.optimize.minimize(constrain_filt_power, init_filt_const)\n",
    "            iterations = 0\n",
    "            new_init_filt_const = init_filt_const\n",
    "            while not filt_const_opt.success:\n",
    "                iterations += 1\n",
    "                new_init_filt_const *= 10\n",
    "                filt_const_opt = scipy.optimize.minimize(constrain_filt_power, new_init_filt_const)\n",
    "                if iterations > 10:\n",
    "                    detailed_failures[celltype] = filt_const_opt\n",
    "                    break\n",
    "\n",
    "            filt_const = abs(filt_const_opt['x'])\n",
    "\n",
    "            if not filt_const_opt.success:\n",
    "                failures[celltype].append([hw, cw])\n",
    "\n",
    "            signal_power = (filt_const * rf_filt * signal)**2\n",
    "            noise_power = (filt_const * rf_filt * input_noise)**2 + output_noise**2\n",
    "            infomap[idc] = 0.5*np.sum(np.log2(1 + signal_power/noise_power))\n",
    "#             these_snrs.append(np.sum(signal_power)/np.sum(noise_power))\n",
    "            #these_snrs.append(get_snr(input_noise, output_noise, signal, filt_const * rf_filt))\n",
    "            #these_snrs.append(np.sum(signal_power/noise_power))\n",
    "            #these_snrs.append(np.sum(signal_power)/np.sum(noise_power))\n",
    "            #signal_vars = get_signal_var(signal, filt_const*rf_filt, total_var=False)\n",
    "            #noise_vars = get_noise_var(input_noise, output_noise, filt_const*rf_filt, total_var=False)\n",
    "            #these_snrs.append(np.sum(signal_vars/noise_vars))\n",
    "            these_snrs.append(np.sum(signal**2)/np.sum((input_noise*np.ones_like(signal))**2))\n",
    "        info_maps['%0.2f, %0.2f, %0.2f' %(input_noise, output_noise, target_power)] = infomap\n",
    "        snrs['%0.2f, %0.2f, %0.2f' %(input_noise, output_noise, target_power)] = np.array(these_snrs)"
   ]
  },
  {
   "cell_type": "code",
   "execution_count": null,
   "metadata": {
    "collapsed": false,
    "deletable": true,
    "editable": true
   },
   "outputs": [],
   "source": [
    "for key in info_maps.keys():\n",
    "    if np.max(info_maps[key]) > 10e-2:\n",
    "        input_noise, output_noise, target_power = [float(x) for x in key.split(',')]\n",
    "        this_random_color = (1-input_noise, output_noise, 1.) #np.random.rand(3)\n",
    "        plt.plot(center_weights, info_maps[key], alpha=0.3, color=this_random_color)\n",
    "        plt.plot(center_weights, our_info_map, color='k')\n",
    "    #     plt.vlines(center_weights[np.argmax(info_maps[key])], 0, 60, color=this_random_color, alpha=0.5)\n",
    "        if np.argmax(info_maps[key]) > 100:\n",
    "            print('%s, optimal cw = %0.2f' %(key, center_weights[np.argmax(info_maps[key])]))\n",
    "        plt.scatter(center_weights[np.argmax(info_maps[key])], np.max(info_maps[key]), color='k', s=10, alpha=0.5)\n",
    "        \n",
    "plt.yscale('log')\n",
    "# plt.ylim(1e-2, 40)\n",
    "adjust_spines(plt.gca())"
   ]
  },
  {
   "cell_type": "code",
   "execution_count": null,
   "metadata": {
    "collapsed": false,
    "deletable": true,
    "editable": true
   },
   "outputs": [],
   "source": [
    "for key in info_maps.keys():\n",
    "    if np.max(info_maps[key]) > 10e-2:\n",
    "        input_noise, output_noise, target_power = [float(x) for x in key.split(',')]\n",
    "        this_random_color = (1-input_noise, output_noise, 1.) #np.random.rand(3)\n",
    "        plt.plot(center_weights, info_maps[key], alpha=0.3, color=this_random_color)\n",
    "        plt.plot(center_weights, our_info_map, color='k')\n",
    "    #     plt.vlines(center_weights[np.argmax(info_maps[key])], 0, 60, color=this_random_color, alpha=0.5)\n",
    "        if np.argmax(info_maps[key]) > 100:\n",
    "            print('%s, optimal cw = %0.2f' %(key, center_weights[np.argmax(info_maps[key])]))\n",
    "        plt.scatter(center_weights[np.argmax(info_maps[key])], np.max(info_maps[key]), color='k', s=10, alpha=0.5)\n",
    "        plt.text(center_weights[np.argmax(info_maps[key])]+.01, np.max(info_maps[key])+0.3,\n",
    "                 str('%0.2f' %np.max(snrs[key])), color='k', fontsize=8)\n",
    "plt.yscale('log')\n",
    "# plt.ylim(1e-2, 40)\n",
    "adjust_spines(plt.gca())\n",
    "plt.scatter(.8, 70, color='k', s=10, alpha=.5)\n",
    "plt.text(.81, 70, 'SNRs', color='k', fontsize=8)\n",
    "plt.xlabel('Center width', fontsize=20)\n",
    "plt.ylabel('Information (bits)', fontsize=20)"
   ]
  },
  {
   "cell_type": "code",
   "execution_count": null,
   "metadata": {
    "collapsed": false,
    "deletable": true,
    "editable": true
   },
   "outputs": [],
   "source": [
    "for key in info_maps.keys():\n",
    "    if np.max(info_maps[key]) > 10e-2:\n",
    "        input_noise, output_noise, target_power = [float(x) for x in key.split(',')]\n",
    "        this_random_color = (1-input_noise, output_noise, 1.) #np.random.rand(3)\n",
    "        plt.plot(center_weights, info_maps[key], alpha=0.3, color=this_random_color)\n",
    "        plt.plot(center_weights, our_info_map, color='k')\n",
    "    #     plt.vlines(center_weights[np.argmax(info_maps[key])], 0, 60, color=this_random_color, alpha=0.5)\n",
    "        if np.argmax(info_maps[key]) > 100:\n",
    "            print('%s, optimal cw = %0.2f' %(key, center_weights[np.argmax(info_maps[key])]))\n",
    "        plt.scatter(center_weights[np.argmax(info_maps[key])], np.max(info_maps[key]), color='k', s=30, alpha=0.5,\n",
    "                   edgecolor='w')\n",
    "        plt.text(center_weights[np.argmax(info_maps[key])]+.01, np.max(info_maps[key])+0.3,\n",
    "                 str('%0.2f' %np.max(snrs[key])), color='k', fontsize=8)\n",
    "# plt.yscale('log')\n",
    "# plt.ylim(1e-2, 40)\n",
    "adjust_spines(plt.gca())\n",
    "plt.scatter(.8, 14, color='k', s=10, alpha=.5)\n",
    "plt.text(.81, 14+.3, 'Input \\nSNRs', color='k', fontsize=8)\n",
    "plt.xlabel('Center width', fontsize=20)\n",
    "plt.ylabel('Information (bits)', fontsize=20)"
   ]
  },
  {
   "cell_type": "markdown",
   "metadata": {
    "collapsed": true,
    "deletable": true,
    "editable": true
   },
   "source": [
    "# New numbers from Steve are:  \n",
    "Amacrine cell 80 ± 18 µm (mean ± sd)  \n",
    "Horizontal cell 116  ±  35  \n",
    "Bipolar cell SNR 7.1 ± 5"
   ]
  },
  {
   "cell_type": "markdown",
   "metadata": {
    "collapsed": true,
    "deletable": true,
    "editable": true
   },
   "source": [
    "Find what input noise variance corresponds to input SNR of 7.1"
   ]
  },
  {
   "cell_type": "code",
   "execution_count": null,
   "metadata": {
    "collapsed": false,
    "deletable": true,
    "editable": true
   },
   "outputs": [],
   "source": [
    "resolution = 150\n",
    "horz_weights = [0.5]\n",
    "center_weights = np.linspace(0,1,resolution)\n",
    "\n",
    "celltype = 'fast_on'\n",
    "init_filt_const = 10.9\n",
    "info_maps = collections.defaultdict(list) # one info map per celltype (since they will be a function of center width)\n",
    "failures = collections.defaultdict(list)\n",
    "detailed_failures = collections.defaultdict(list)\n",
    "snrs = collections.defaultdict(list)\n",
    "\n",
    "input_noises = [0.03228, 0.04691, 0.0987, 0.1965] #np.array([np.float('%0.2f' %x) for x in np.logspace(-2, 0, 10)])\n",
    "output_noises = [0.35] #np.array([np.float('%0.2f' %x) for x in [0.1, 0.35, 0.8]])\n",
    "# powers = np.round(np.linspace(1.,200,4))\n",
    "target_power = 54.131410989171826\n",
    "for input_noise in tqdm(input_noises):\n",
    "    for output_noise in output_noises:\n",
    "        center = gaussian(x=space, sigma=median_center_widths[celltype], mu=0.)\n",
    "        center /= -np.sum(center) # make center unit vector like horz_pf and ama_pf\n",
    "\n",
    "        def rf_model(horz_weight, center_weight):\n",
    "            return center_weight*center + (1-center_weight)*(horz_weight*horz_pf + (1-horz_weight)*ama_pf)\n",
    "\n",
    "#         print('Information map for %s cells.' %celltype)\n",
    "\n",
    "        infomap = np.zeros((resolution,))\n",
    "        hw = horz_weights[0]\n",
    "        these_snrs = []\n",
    "        for idc,cw in enumerate(center_weights):\n",
    "            rf = rf_model(hw, cw)\n",
    "            rf_filt = abs(np.fft.rfft(rf))\n",
    "\n",
    "            # constrain model\n",
    "            def constrain_filt_power(filt_const):\n",
    "                size = len(rf_filt)\n",
    "                output_power = np.sum((signal*filt_const*rf_filt)**2 \n",
    "                                      + (input_noise*filt_const*rf_filt)**2\n",
    "                                      + output_noise**2)\n",
    "\n",
    "                return (target_power - output_power)**2\n",
    "\n",
    "            filt_const_opt = scipy.optimize.minimize(constrain_filt_power, init_filt_const)\n",
    "            iterations = 0\n",
    "            new_init_filt_const = init_filt_const\n",
    "            while not filt_const_opt.success:\n",
    "                iterations += 1\n",
    "                new_init_filt_const *= 10\n",
    "                filt_const_opt = scipy.optimize.minimize(constrain_filt_power, new_init_filt_const)\n",
    "                if iterations > 10:\n",
    "                    detailed_failures[celltype] = filt_const_opt\n",
    "                    break\n",
    "\n",
    "            filt_const = abs(filt_const_opt['x'])\n",
    "\n",
    "            if not filt_const_opt.success:\n",
    "                failures[celltype].append([hw, cw])\n",
    "\n",
    "            signal_power = (filt_const * rf_filt * signal)**2\n",
    "            noise_power = (filt_const * rf_filt * input_noise)**2 + output_noise**2\n",
    "            infomap[idc] = 0.5*np.sum(np.log2(1 + signal_power/noise_power))\n",
    "#             these_snrs.append(np.sum(signal_power)/np.sum(noise_power))\n",
    "            #these_snrs.append(get_snr(input_noise, output_noise, signal, filt_const * rf_filt))\n",
    "            #these_snrs.append(np.sum(signal_power/noise_power))\n",
    "            #these_snrs.append(np.sum(signal_power)/np.sum(noise_power))\n",
    "            #signal_vars = get_signal_var(signal, filt_const*rf_filt, total_var=False)\n",
    "            #noise_vars = get_noise_var(input_noise, output_noise, filt_const*rf_filt, total_var=False)\n",
    "            #these_snrs.append(np.sum(signal_vars/noise_vars))\n",
    "            these_snrs.append(np.sum(signal**2)/np.sum((input_noise*np.ones_like(signal))**2))\n",
    "        info_maps['%0.2f, %0.2f, %0.2f' %(input_noise, output_noise, target_power)] = infomap\n",
    "        snrs['%0.2f, %0.2f, %0.2f' %(input_noise, output_noise, target_power)] = np.array(these_snrs)"
   ]
  },
  {
   "cell_type": "code",
   "execution_count": null,
   "metadata": {
    "collapsed": false,
    "deletable": true,
    "editable": true
   },
   "outputs": [],
   "source": [
    "for key in info_maps.keys():\n",
    "    if np.max(info_maps[key]) > 10e-2:\n",
    "        input_noise, output_noise, target_power = [float(x) for x in key.split(',')]\n",
    "        this_random_color = (1-input_noise, output_noise, 1.) #np.random.rand(3)\n",
    "        plt.plot(center_weights, info_maps[key], alpha=0.3, color=this_random_color)\n",
    "        plt.plot(center_weights, our_info_map, color='k')\n",
    "    #     plt.vlines(center_weights[np.argmax(info_maps[key])], 0, 60, color=this_random_color, alpha=0.5)\n",
    "        if np.argmax(info_maps[key]) > 100:\n",
    "            print('%s, optimal cw = %0.2f' %(key, center_weights[np.argmax(info_maps[key])]))\n",
    "        plt.scatter(center_weights[np.argmax(info_maps[key])], np.max(info_maps[key]), color='k', s=30, alpha=0.5,\n",
    "                   edgecolor='w')\n",
    "        plt.text(center_weights[np.argmax(info_maps[key])]+.01, np.max(info_maps[key])+0.3,\n",
    "                 str('%0.2f' %np.max(snrs[key])), color='k', fontsize=8)\n",
    "# plt.yscale('log')\n",
    "# plt.ylim(1e-2, 40)\n",
    "adjust_spines(plt.gca())\n",
    "plt.scatter(.8, 14, color='k', s=10, alpha=.5)\n",
    "plt.text(.81, 14+.3, 'Input \\nSNRs', color='k', fontsize=8)\n",
    "plt.xlabel('Center width', fontsize=20)\n",
    "plt.ylabel('Information (bits)', fontsize=20)"
   ]
  },
  {
   "cell_type": "code",
   "execution_count": null,
   "metadata": {
    "collapsed": true,
    "deletable": true,
    "editable": true
   },
   "outputs": [],
   "source": []
  },
  {
   "cell_type": "code",
   "execution_count": null,
   "metadata": {
    "collapsed": true
   },
   "outputs": [],
   "source": []
  },
  {
   "cell_type": "code",
   "execution_count": null,
   "metadata": {
    "collapsed": true
   },
   "outputs": [],
   "source": []
  }
 ],
 "metadata": {
  "kernelspec": {
   "display_name": "Python 3",
   "language": "python",
   "name": "python3"
  },
  "language_info": {
   "codemirror_mode": {
    "name": "ipython",
    "version": 3
   },
   "file_extension": ".py",
   "mimetype": "text/x-python",
   "name": "python",
   "nbconvert_exporter": "python",
   "pygments_lexer": "ipython3",
   "version": "3.5.2"
  }
 },
 "nbformat": 4,
 "nbformat_minor": 0
}
