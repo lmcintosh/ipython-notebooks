{
 "cells": [
  {
   "cell_type": "markdown",
   "metadata": {
    "deletable": true,
    "editable": true
   },
   "source": [
    "# Analyzing experiment from 11/21/2015  retina 1  \n",
    "fixing a timing issue where temporal kernels don't start at 0"
   ]
  },
  {
   "cell_type": "code",
   "execution_count": 1,
   "metadata": {
    "collapsed": false,
    "deletable": true,
    "editable": true
   },
   "outputs": [],
   "source": [
    "import matplotlib\n",
    "matplotlib.use('Agg')\n",
    "\n",
    "import numpy as np\n",
    "from sklearn.decomposition import PCA\n",
    "import scipy.io\n",
    "import itertools\n",
    "import os\n",
    "import h5py\n",
    "import pyret.visualizations as pyviz\n",
    "import pyret.filtertools as ft\n",
    "import pyret.spiketools as st\n",
    "import jetpack\n",
    "from experiments.iotools import read_channel # from niru-analysis github\n",
    "from experiments.photodiode import find_peaks, find_start_times\n",
    "# import binary     # in igor >> recording\n",
    "import pdb\n",
    "import string\n",
    "# from jetpack.signals import peakdet\n",
    "from scipy.signal import find_peaks_cwt\n",
    "from os.path import expanduser\n",
    "\n",
    "# This is a bit of magic to make matplotlib figures appear inline in the\n",
    "# notebook rather than in a new window.\n",
    "%matplotlib inline\n",
    "import matplotlib.pyplot as plt\n",
    "from matplotlib.pyplot import plot, xlabel, ylabel, title, imshow\n",
    "\n",
    "# note that nonposx(y) for log plots will no longer work with this package\n",
    "import mpld3\n",
    "#mpld3.enable_notebook()\n",
    "\n",
    "from pylab import rcParams\n",
    "rcParams['figure.figsize'] = (10.0, 8.0) # set default size of plots\n",
    "rcParams['image.interpolation'] = 'nearest'\n",
    "rcParams['image.cmap'] = 'gray'\n",
    "\n",
    "# Some more magic so that the notebook will reload external python modules;\n",
    "# see http://stackoverflow.com/questions/1907993/autoreload-of-modules-in-ipython\n",
    "%load_ext autoreload\n",
    "%autoreload 2"
   ]
  },
  {
   "cell_type": "markdown",
   "metadata": {
    "deletable": true,
    "editable": true
   },
   "source": [
    "## experiment directory"
   ]
  },
  {
   "cell_type": "code",
   "execution_count": 2,
   "metadata": {
    "collapsed": true,
    "deletable": true,
    "editable": true
   },
   "outputs": [],
   "source": [
    "data_dir = '/Volumes/group/baccus/Lane/2015-11-21-r1/'\n",
    "stim_dir = '/Volumes/group/baccus/Lane/2015-11-21-r1/'\n",
    "stimulus_filename = 'stimulus.h5'"
   ]
  },
  {
   "cell_type": "markdown",
   "metadata": {
    "deletable": true,
    "editable": true
   },
   "source": [
    "## load spikes"
   ]
  },
  {
   "cell_type": "code",
   "execution_count": 3,
   "metadata": {
    "collapsed": false,
    "deletable": true,
    "editable": true
   },
   "outputs": [],
   "source": [
    "fs = sorted(os.listdir(data_dir))\n",
    "fs = [f for f in fs if f.endswith(\".txt\")]\n",
    "\n",
    "cells = []\n",
    "for f in fs:\n",
    "    if f[0] != '.':\n",
    "        text_file = open(data_dir + f, \"r\")\n",
    "        spikes = text_file.read().split()\n",
    "        cells.append([float(spike) for spike in spikes if (not (not spike)) and float(spike) > 0])\n",
    "\n",
    "        text_file.close()"
   ]
  },
  {
   "cell_type": "code",
   "execution_count": 4,
   "metadata": {
    "collapsed": false,
    "deletable": true,
    "editable": true,
    "scrolled": false
   },
   "outputs": [
    {
     "data": {
      "image/png": "[encoded data removed]",
      "text/plain": [
       "<matplotlib.figure.Figure at 0x109e37e48>"
      ]
     },
     "metadata": {},
     "output_type": "display_data"
    },
    {
     "data": {
      "text/plain": [
       "<matplotlib.figure.Figure at 0x10a55d4e0>"
      ]
     },
     "metadata": {},
     "output_type": "display_data"
    }
   ],
   "source": [
    "fig = pyviz.raster(cells[0][:100], np.ones((len(cells[0][:100]),)), marker_string='|', color='k', markersize=30)"
   ]
  },
  {
   "cell_type": "markdown",
   "metadata": {
    "deletable": true,
    "editable": true
   },
   "source": [
    "## load stimulus"
   ]
  },
  {
   "cell_type": "code",
   "execution_count": 5,
   "metadata": {
    "collapsed": false,
    "deletable": true,
    "editable": true
   },
   "outputs": [
    {
     "data": {
      "text/plain": [
       "['cell01',\n",
       " 'cell02',\n",
       " 'cell03',\n",
       " 'cell04',\n",
       " 'cell05',\n",
       " 'cell06',\n",
       " 'cell07',\n",
       " 'cell08',\n",
       " 'cell09',\n",
       " 'cell10',\n",
       " 'cell11',\n",
       " 'cell12',\n",
       " 'cell13',\n",
       " 'cell14',\n",
       " 'expt1',\n",
       " 'expt10',\n",
       " 'expt11',\n",
       " 'expt12',\n",
       " 'expt13',\n",
       " 'expt14',\n",
       " 'expt15',\n",
       " 'expt16',\n",
       " 'expt17',\n",
       " 'expt18',\n",
       " 'expt19',\n",
       " 'expt2',\n",
       " 'expt20',\n",
       " 'expt21',\n",
       " 'expt22',\n",
       " 'expt23',\n",
       " 'expt24',\n",
       " 'expt3',\n",
       " 'expt4',\n",
       " 'expt5',\n",
       " 'expt6',\n",
       " 'expt7',\n",
       " 'expt8',\n",
       " 'expt9']"
      ]
     },
     "execution_count": 5,
     "metadata": {},
     "output_type": "execute_result"
    }
   ],
   "source": [
    "f = h5py.File(stim_dir + stimulus_filename)\n",
    "list(f)"
   ]
  },
  {
   "cell_type": "code",
   "execution_count": 6,
   "metadata": {
    "collapsed": false,
    "deletable": true,
    "editable": true
   },
   "outputs": [
    {
     "data": {
      "text/plain": [
       "['start_time', 'stim', 'stop_time', 'timestamps']"
      ]
     },
     "execution_count": 6,
     "metadata": {},
     "output_type": "execute_result"
    }
   ],
   "source": [
    "list(f['expt1'])"
   ]
  },
  {
   "cell_type": "code",
   "execution_count": 7,
   "metadata": {
    "collapsed": false,
    "deletable": true,
    "editable": true
   },
   "outputs": [
    {
     "data": {
      "text/plain": [
       "((19989, 50, 50), (19989,))"
      ]
     },
     "execution_count": 7,
     "metadata": {},
     "output_type": "execute_result"
    }
   ],
   "source": [
    "(f['expt1/stim'].shape, f['expt1/timestamps'].shape)"
   ]
  },
  {
   "cell_type": "markdown",
   "metadata": {
    "deletable": true,
    "editable": true
   },
   "source": [
    "## find peaks in photodiode to align each experiment"
   ]
  },
  {
   "cell_type": "markdown",
   "metadata": {
    "deletable": true,
    "editable": true
   },
   "source": [
    "#### load photodiode"
   ]
  },
  {
   "cell_type": "code",
   "execution_count": 8,
   "metadata": {
    "collapsed": true,
    "deletable": true,
    "editable": true
   },
   "outputs": [],
   "source": [
    "raw_data = h5py.File(data_dir + '15-11-21-retina1.h5')\n",
    "pd = read_channel(raw_data, channel=0)"
   ]
  },
  {
   "cell_type": "code",
   "execution_count": 9,
   "metadata": {
    "collapsed": false,
    "deletable": true,
    "editable": true
   },
   "outputs": [
    {
     "data": {
      "text/plain": [
       "[<matplotlib.lines.Line2D at 0x10a312978>]"
      ]
     },
     "execution_count": 9,
     "metadata": {},
     "output_type": "execute_result"
    },
    {
     "data": {
      "image/png": "[encoded data removed]",
      "text/plain": [
       "<matplotlib.figure.Figure at 0x109e37a90>"
      ]
     },
     "metadata": {},
     "output_type": "display_data"
    }
   ],
   "source": [
    "plt.plot(pd[400000:500000])"
   ]
  },
  {
   "cell_type": "code",
   "execution_count": 10,
   "metadata": {
    "collapsed": false,
    "deletable": true,
    "editable": true
   },
   "outputs": [
    {
     "data": {
      "text/plain": [
       "[<matplotlib.lines.Line2D at 0x10a848dd8>]"
      ]
     },
     "execution_count": 10,
     "metadata": {},
     "output_type": "execute_result"
    },
    {
     "data": {
      "image/png": "[encoded data removed]",
      "text/plain": [
       "<matplotlib.figure.Figure at 0x10a2dd630>"
      ]
     },
     "metadata": {},
     "output_type": "display_data"
    }
   ],
   "source": [
    "plt.plot(pd[:1000])"
   ]
  },
  {
   "cell_type": "markdown",
   "metadata": {
    "deletable": true,
    "editable": true
   },
   "source": [
    "#### find peaks"
   ]
  },
  {
   "cell_type": "code",
   "execution_count": 11,
   "metadata": {
    "collapsed": false,
    "deletable": true,
    "editable": true
   },
   "outputs": [
    {
     "name": "stdout",
     "output_type": "stream",
     "text": [
      "➛ Finding peaks (can take a minute)... \n",
      "Done! ✔\n"
     ]
    }
   ],
   "source": [
    "# delta is the threshold for accepting optima; i.e. optima must be delta greater than neighboring values\n",
    "# delta = 1.0 # this finds all photodiode peaks\n",
    "delta = 10.0\n",
    "maxtab = find_peaks(pd, delta)"
   ]
  },
  {
   "cell_type": "code",
   "execution_count": 12,
   "metadata": {
    "collapsed": false,
    "deletable": true,
    "editable": true
   },
   "outputs": [
    {
     "data": {
      "text/plain": [
       "(72, 2)"
      ]
     },
     "execution_count": 12,
     "metadata": {},
     "output_type": "execute_result"
    }
   ],
   "source": [
    "# expectation of maxtab shape is 24 experiments * 3 flips per frame = 72\n",
    "maxtab.shape"
   ]
  },
  {
   "cell_type": "code",
   "execution_count": 13,
   "metadata": {
    "collapsed": false,
    "deletable": true,
    "editable": true
   },
   "outputs": [
    {
     "data": {
      "text/plain": [
       "[<matplotlib.lines.Line2D at 0x10a855fd0>]"
      ]
     },
     "execution_count": 13,
     "metadata": {},
     "output_type": "execute_result"
    },
    {
     "data": {
      "image/png": "[encoded data removed]",
      "text/plain": [
       "<matplotlib.figure.Figure at 0x10a855cc0>"
      ]
     },
     "metadata": {},
     "output_type": "display_data"
    }
   ],
   "source": [
    "plt.plot(pd[:20000])\n",
    "# plt.plot(maxtab[:50, 0], maxtab[:50, 1], 'r.', markersize=10)\n",
    "plt.plot(maxtab[:3, 0], maxtab[:3, 1], 'r.', markersize=10)"
   ]
  },
  {
   "cell_type": "code",
   "execution_count": 14,
   "metadata": {
    "collapsed": false,
    "deletable": true,
    "editable": true
   },
   "outputs": [
    {
     "data": {
      "text/plain": [
       "array([[  4.08763000e+05,   1.07093990e+01],\n",
       "       [  4.08864000e+05,   1.11764769e+01],\n",
       "       [  4.08963000e+05,   1.12757309e+01],\n",
       "       [  6.41027600e+06,   1.08553608e+01],\n",
       "       [  6.41037800e+06,   1.10947382e+01],\n",
       "       [  6.41047700e+06,   1.12173462e+01],\n",
       "       [  7.18361900e+06,   1.04525061e+01],\n",
       "       [  7.18372000e+06,   1.09838072e+01],\n",
       "       [  7.18382000e+06,   1.12056692e+01],\n",
       "       [  1.33663600e+07,   1.02656750e+01],\n",
       "       [  1.33664600e+07,   1.09838072e+01],\n",
       "       [  1.33665600e+07,   1.10480304e+01],\n",
       "       [  1.39746870e+07,   1.07385913e+01],\n",
       "       [  1.39747880e+07,   1.11122537e+01],\n",
       "       [  1.39748880e+07,   1.11180921e+01],\n",
       "       [  1.99767000e+07,   1.05050524e+01],\n",
       "       [  1.99768000e+07,   1.08203300e+01],\n",
       "       [  1.99769010e+07,   1.10013227e+01],\n",
       "       [  2.07084140e+07,   1.01780979e+01],\n",
       "       [  2.07085140e+07,   1.09429379e+01],\n",
       "       [  2.07086140e+07,   1.09954842e+01],\n",
       "       [  2.68942570e+07,   1.02481596e+01],\n",
       "       [  2.68943570e+07,   1.08845532e+01],\n",
       "       [  2.68944560e+07,   1.10305150e+01],\n",
       "       [  2.75012830e+07,   1.06860451e+01],\n",
       "       [  2.75013820e+07,   1.10655459e+01],\n",
       "       [  2.75014830e+07,   1.10713843e+01],\n",
       "       [  3.35027950e+07,   1.06568527e+01],\n",
       "       [  3.35028950e+07,   1.09312610e+01],\n",
       "       [  3.35029950e+07,   1.09312610e+01],\n",
       "       [  3.42397120e+07,   1.02423211e+01],\n",
       "       [  3.42398130e+07,   1.08378454e+01],\n",
       "       [  3.42399120e+07,   1.09896457e+01],\n",
       "       [  4.04573760e+07,   1.01897748e+01],\n",
       "       [  4.04574760e+07,   1.08845532e+01],\n",
       "       [  4.04575760e+07,   1.09137456e+01],\n",
       "       [  4.10653030e+07,   1.05926295e+01],\n",
       "       [  4.10654030e+07,   1.09721303e+01],\n",
       "       [  4.10655030e+07,   1.10655459e+01],\n",
       "       [  4.70667150e+07,   1.03415751e+01],\n",
       "       [  4.70668140e+07,   1.07794607e+01],\n",
       "       [  4.70669150e+07,   1.09604533e+01],\n",
       "       [  4.78207440e+07,   1.02306441e+01],\n",
       "       [  4.78208450e+07,   1.07677837e+01],\n",
       "       [  4.78209450e+07,   1.09429379e+01],\n",
       "       [  5.40021830e+07,   1.02656750e+01],\n",
       "       [  5.40022820e+07,   1.08495223e+01],\n",
       "       [  5.40023840e+07,   1.09195840e+01],\n",
       "       [  5.46121110e+07,   1.05634371e+01],\n",
       "       [  5.46122120e+07,   1.09662918e+01],\n",
       "       [  5.46123100e+07,   1.10071611e+01],\n",
       "       [  6.06136240e+07,   1.06626912e+01],\n",
       "       [  6.06137230e+07,   1.09079071e+01],\n",
       "       [  6.06138230e+07,   1.08903917e+01],\n",
       "       [  6.13591460e+07,   1.02598365e+01],\n",
       "       [  6.13592460e+07,   1.08203300e+01],\n",
       "       [  6.13593460e+07,   1.09195840e+01],\n",
       "       [  6.75448880e+07,   1.02072903e+01],\n",
       "       [  6.75449870e+07,   1.08787147e+01],\n",
       "       [  6.75450870e+07,   1.09954842e+01],\n",
       "       [  6.81521130e+07,   1.06451758e+01],\n",
       "       [  6.81522130e+07,   1.10888998e+01],\n",
       "       [  6.81523130e+07,   1.10947382e+01],\n",
       "       [  7.41531250e+07,   1.05575987e+01],\n",
       "       [  7.41532250e+07,   1.08261684e+01],\n",
       "       [  7.41533250e+07,   1.08378454e+01],\n",
       "       [  7.49038520e+07,   1.02948674e+01],\n",
       "       [  7.49039520e+07,   1.08028146e+01],\n",
       "       [  7.49040530e+07,   1.08903917e+01],\n",
       "       [  8.10795850e+07,   1.02539980e+01],\n",
       "       [  8.10796850e+07,   1.09429379e+01],\n",
       "       [  8.10797850e+07,   1.10013227e+01]])"
      ]
     },
     "execution_count": 14,
     "metadata": {},
     "output_type": "execute_result"
    }
   ],
   "source": [
    "maxtab"
   ]
  },
  {
   "cell_type": "code",
   "execution_count": 15,
   "metadata": {
    "collapsed": false,
    "deletable": true,
    "editable": true
   },
   "outputs": [
    {
     "name": "stdout",
     "output_type": "stream",
     "text": [
      "Found 24 different stimulus sequences at the following times:\n",
      "Stimulus # 1 started at t = 40.9063 s\n",
      "Stimulus # 2 started at t = 10 min., 41.0577 s\n",
      "Stimulus # 3 started at t = 11 min., 58.392 s\n",
      "Stimulus # 4 started at t = 22 min., 16.666 s\n",
      "Stimulus # 5 started at t = 23 min., 17.4988 s\n",
      "Stimulus # 6 started at t = 33 min., 17.7001 s\n",
      "Stimulus # 7 started at t = 34 min., 30.8714 s\n",
      "Stimulus # 8 started at t = 44 min., 49.4556 s\n",
      "Stimulus # 9 started at t = 45 min., 50.1583 s\n",
      "Stimulus #10 started at t = 55 min., 50.3095 s\n",
      "Stimulus #11 started at t = 57 min., 4.0012 s\n",
      "Stimulus #12 started at t = 1 hours, 7 min., 25.7676 s\n",
      "Stimulus #13 started at t = 1 hours, 8 min., 26.5603 s\n",
      "Stimulus #14 started at t = 1 hours, 18 min., 26.7015 s\n",
      "Stimulus #15 started at t = 1 hours, 19 min., 42.1045 s\n",
      "Stimulus #16 started at t = 1 hours, 30 min., 248.4 ms\n",
      "Stimulus #17 started at t = 1 hours, 31 min., 1.241 s\n",
      "Stimulus #18 started at t = 1 hours, 41 min., 1.3923 s\n",
      "Stimulus #19 started at t = 1 hours, 42 min., 15.9446 s\n",
      "Stimulus #20 started at t = 1 hours, 52 min., 34.5187 s\n",
      "Stimulus #21 started at t = 1 hours, 53 min., 35.2413 s\n",
      "Stimulus #22 started at t = 2 hours, 3 min., 35.3425 s\n",
      "Stimulus #23 started at t = 2 hours, 4 min., 50.4153 s\n",
      "Stimulus #24 started at t = 2 hours, 15 min., 7.9885 s\n"
     ]
    }
   ],
   "source": [
    "start_times = find_start_times(maxtab, flips_per_frame=3, refresh_rate=100, threshold=.2)"
   ]
  },
  {
   "cell_type": "markdown",
   "metadata": {
    "deletable": true,
    "editable": true
   },
   "source": [
    "## account for taking the third photodiode flash"
   ]
  },
  {
   "cell_type": "code",
   "execution_count": 16,
   "metadata": {
    "collapsed": true,
    "deletable": true,
    "editable": true
   },
   "outputs": [],
   "source": [
    "# offset = 0.066 # shifting stimulus 66 ms ahead since we're taking the 3rd photodiode and framerate is 30 Hz\n",
    "offset = 0.066 # shifting stimulus 100 ms ahead since we're taking the 3rd photodiode and framerate is 30 Hz\n",
    "start_times = start_times - offset"
   ]
  },
  {
   "cell_type": "markdown",
   "metadata": {
    "deletable": true,
    "editable": true
   },
   "source": [
    "# Align spikes with each experiment"
   ]
  },
  {
   "cell_type": "code",
   "execution_count": 17,
   "metadata": {
    "collapsed": false,
    "deletable": true,
    "editable": true
   },
   "outputs": [],
   "source": [
    "expt_spikes = []\n",
    "for expt_id, start in enumerate(start_times):\n",
    "    expt_spikes.append([])\n",
    "    expt_name = 'expt%d' %(expt_id+1)\n",
    "    stop = f[expt_name + '/timestamps'][-1] # last timestamp, in seconds\n",
    "    for c in cells:\n",
    "        expt_spikes[-1].append([sp-start for sp in c if sp >= start and sp <= start+stop])"
   ]
  },
  {
   "cell_type": "code",
   "execution_count": 18,
   "metadata": {
    "collapsed": true,
    "deletable": true,
    "editable": true
   },
   "outputs": [],
   "source": [
    "def spikes_to_array(spikes):\n",
    "    '''\n",
    "    Converts a list of spike times to an array with labels for easy\n",
    "    pyret.visualizations.raster() use.\n",
    "    \n",
    "    INPUT:\n",
    "        spikes    list of list of spike times\n",
    "    '''\n",
    "    collapsed_spikes = []\n",
    "    collapsed_labels = []\n",
    "    nlists = len(spikes)\n",
    "    for idl, l in enumerate(spikes):\n",
    "        labels = idl * np.ones((len(l),))\n",
    "        collapsed_spikes.extend(l)\n",
    "        collapsed_labels.extend(labels)\n",
    "        \n",
    "    return np.array(collapsed_spikes), np.array(collapsed_labels)\n",
    "    "
   ]
  },
  {
   "cell_type": "code",
   "execution_count": 19,
   "metadata": {
    "collapsed": true,
    "deletable": true,
    "editable": true
   },
   "outputs": [],
   "source": [
    "all_spikes, all_labels = spikes_to_array(expt_spikes[1])"
   ]
  },
  {
   "cell_type": "code",
   "execution_count": 20,
   "metadata": {
    "collapsed": false,
    "deletable": true,
    "editable": true
   },
   "outputs": [
    {
     "data": {
      "image/png": "[encoded data removed]",
      "text/plain": [
       "<matplotlib.figure.Figure at 0x10a862ba8>"
      ]
     },
     "metadata": {},
     "output_type": "display_data"
    },
    {
     "data": {
      "text/plain": [
       "<matplotlib.figure.Figure at 0x10a82a3c8>"
      ]
     },
     "metadata": {},
     "output_type": "display_data"
    }
   ],
   "source": [
    "fig = pyviz.raster(all_spikes, all_labels, marker_string='|', color='k', markersize=12)"
   ]
  },
  {
   "cell_type": "markdown",
   "metadata": {
    "deletable": true,
    "editable": true
   },
   "source": [
    "# look at trial-to-trial variability of a single cell to repeated natural scenes"
   ]
  },
  {
   "cell_type": "code",
   "execution_count": 21,
   "metadata": {
    "collapsed": false,
    "deletable": true,
    "editable": true
   },
   "outputs": [],
   "source": [
    "naturalscene_spikes = []\n",
    "naturalscene_labels = []\n",
    "for c in range(len(cells)):\n",
    "    cell_idx = c\n",
    "    first_trial = 3\n",
    "    num_diff_trials = 4\n",
    "    total_trials = 23\n",
    "    repeats = []\n",
    "    for t in range(first_trial, total_trials, num_diff_trials):\n",
    "        repeats.append(expt_spikes[t][cell_idx])\n",
    "\n",
    "    all_spikes, all_labels = spikes_to_array(repeats)\n",
    "    naturalscene_spikes.append(all_spikes)\n",
    "    naturalscene_labels.append(all_labels)"
   ]
  },
  {
   "cell_type": "code",
   "execution_count": 22,
   "metadata": {
    "collapsed": false,
    "deletable": true,
    "editable": true
   },
   "outputs": [
    {
     "data": {
      "image/png": "[encoded data removed]",
      "text/plain": [
       "<matplotlib.figure.Figure at 0x10c402198>"
      ]
     },
     "metadata": {},
     "output_type": "display_data"
    },
    {
     "data": {
      "text/plain": [
       "<matplotlib.figure.Figure at 0x10c5ba6d8>"
      ]
     },
     "metadata": {},
     "output_type": "display_data"
    }
   ],
   "source": [
    "fig = pyviz.raster(all_spikes, all_labels, marker_string='|', color='k', markersize=223)"
   ]
  },
  {
   "cell_type": "markdown",
   "metadata": {
    "deletable": true,
    "editable": true
   },
   "source": [
    "# save natural scene repeats as an h5 file"
   ]
  },
  {
   "cell_type": "code",
   "execution_count": 23,
   "metadata": {
    "collapsed": false,
    "deletable": true,
    "editable": true
   },
   "outputs": [],
   "source": [
    "naturalscene_spikes = all_spikes\n",
    "naturalscene_labels = all_labels"
   ]
  },
  {
   "cell_type": "markdown",
   "metadata": {
    "deletable": true,
    "editable": true
   },
   "source": [
    "# look at trial-to-trial variability of a single cell to repeated white noise"
   ]
  },
  {
   "cell_type": "code",
   "execution_count": 24,
   "metadata": {
    "collapsed": false,
    "deletable": true,
    "editable": true
   },
   "outputs": [],
   "source": [
    "whitenoise_spikes = []\n",
    "whitenoise_labels = []\n",
    "for c in range(len(cells)):\n",
    "    cell_idx = c\n",
    "    first_trial = 1\n",
    "    num_diff_trials = 4\n",
    "    total_trials = 24\n",
    "    repeats = []\n",
    "    for t in range(first_trial, total_trials, num_diff_trials):\n",
    "        repeats.append(expt_spikes[t][cell_idx])\n",
    "\n",
    "    all_spikes, all_labels = spikes_to_array(repeats)\n",
    "    whitenoise_spikes.append(all_spikes)\n",
    "    whitenoise_labels.append(all_labels)\n",
    "    "
   ]
  },
  {
   "cell_type": "code",
   "execution_count": 25,
   "metadata": {
    "collapsed": false,
    "deletable": true,
    "editable": true
   },
   "outputs": [
    {
     "data": {
      "image/png": "[encoded data removed]",
      "text/plain": [
       "<matplotlib.figure.Figure at 0x10c5b1438>"
      ]
     },
     "metadata": {},
     "output_type": "display_data"
    },
    {
     "data": {
      "text/plain": [
       "<matplotlib.figure.Figure at 0x109e37ef0>"
      ]
     },
     "metadata": {},
     "output_type": "display_data"
    }
   ],
   "source": [
    "fig = pyviz.raster(all_spikes, all_labels, marker_string='|', color='k', markersize=90)"
   ]
  },
  {
   "cell_type": "markdown",
   "metadata": {
    "deletable": true,
    "editable": true
   },
   "source": [
    "# save all repeats to an h5 file"
   ]
  },
  {
   "cell_type": "code",
   "execution_count": 27,
   "metadata": {
    "collapsed": false,
    "deletable": true,
    "editable": true
   },
   "outputs": [],
   "source": [
    "with h5py.File('/Users/lmcintosh/experiments/data/15-11-21a/repeats.h5', 'w') as g:\n",
    "    for c in range(len(cells)):\n",
    "        g.create_dataset('whitenoise/spikes/cell%0i' %(c+1), data=whitenoise_spikes[c])\n",
    "        g.create_dataset('whitenoise/labels/cell%0i' %(c+1), data=whitenoise_labels[c])\n",
    "        g.create_dataset('naturalscene/spikes/cell%0i' %(c+1), data=naturalscene_spikes[c])\n",
    "        g.create_dataset('naturalscene/labels/cell%0i' %(c+1), data=naturalscene_labels[c])"
   ]
  },
  {
   "cell_type": "code",
   "execution_count": null,
   "metadata": {
    "collapsed": true,
    "deletable": true,
    "editable": true
   },
   "outputs": [],
   "source": []
  },
  {
   "cell_type": "markdown",
   "metadata": {
    "deletable": true,
    "editable": true
   },
   "source": [
    "# let's look at the non-repeated natural scenes"
   ]
  },
  {
   "cell_type": "code",
   "execution_count": 28,
   "metadata": {
    "collapsed": true,
    "deletable": true,
    "editable": true
   },
   "outputs": [],
   "source": [
    "cell_idx = 0\n",
    "first_trial = 2\n",
    "num_diff_trials = 4\n",
    "total_trials = 24\n",
    "repeats = []\n",
    "for t in range(first_trial, total_trials, num_diff_trials):\n",
    "    repeats.append(expt_spikes[t][cell_idx])\n",
    "\n",
    "all_spikes, all_labels = spikes_to_array(repeats)"
   ]
  },
  {
   "cell_type": "code",
   "execution_count": 29,
   "metadata": {
    "collapsed": false,
    "deletable": true,
    "editable": true
   },
   "outputs": [],
   "source": [
    "# fig = plt.gcf()\n",
    "# ax = plt.gca()\n",
    "# fig = pyviz.raster(all_spikes, all_labels, marker_string='|', color='k', markersize=89, xlim=[100,150])\n",
    "# ax.set_xlim([100,200])"
   ]
  },
  {
   "cell_type": "markdown",
   "metadata": {
    "deletable": true,
    "editable": true
   },
   "source": [
    "# of course there shouldn't have any structure... this is non-repeated"
   ]
  },
  {
   "cell_type": "code",
   "execution_count": 30,
   "metadata": {
    "collapsed": false,
    "deletable": true,
    "editable": true
   },
   "outputs": [
    {
     "data": {
      "text/plain": [
       "14"
      ]
     },
     "execution_count": 30,
     "metadata": {},
     "output_type": "execute_result"
    }
   ],
   "source": [
    "len(cells)"
   ]
  },
  {
   "cell_type": "code",
   "execution_count": 31,
   "metadata": {
    "collapsed": true,
    "deletable": true,
    "editable": true
   },
   "outputs": [],
   "source": [
    "import brewer2mpl"
   ]
  },
  {
   "cell_type": "code",
   "execution_count": 32,
   "metadata": {
    "collapsed": true,
    "deletable": true,
    "editable": true
   },
   "outputs": [],
   "source": [
    "def adjust_spines(ax, spines):\n",
    "    for loc, spine in ax.spines.items():\n",
    "        if loc in spines:\n",
    "            spine.set_position(('outward', 10))  # outward by 10 points\n",
    "            spine.set_smart_bounds(True)\n",
    "        else:\n",
    "            spine.set_color('none')  # don't draw spine\n",
    "\n",
    "    # turn off ticks where there is no spine\n",
    "    if 'left' in spines:\n",
    "        ax.yaxis.set_ticks_position('left')\n",
    "    else:\n",
    "        # no yaxis ticks\n",
    "        ax.yaxis.set_ticks([])\n",
    "\n",
    "    if 'bottom' in spines:\n",
    "        ax.xaxis.set_ticks_position('bottom')\n",
    "    else:\n",
    "        # no xaxis ticks\n",
    "        ax.xaxis.set_ticks([])"
   ]
  },
  {
   "cell_type": "code",
   "execution_count": 33,
   "metadata": {
    "collapsed": false,
    "deletable": true,
    "editable": true
   },
   "outputs": [
    {
     "data": {
      "text/plain": [
       "(0, 60)"
      ]
     },
     "execution_count": 33,
     "metadata": {},
     "output_type": "execute_result"
    },
    {
     "data": {
      "image/png": "[encoded data removed]",
      "text/plain": [
       "<matplotlib.figure.Figure at 0x10a74e208>"
      ]
     },
     "metadata": {},
     "output_type": "display_data"
    }
   ],
   "source": [
    "ax = plt.gca()\n",
    "bmap = brewer2mpl.get_map('Set1', 'Qualitative', 9, reverse=True)\n",
    "colors = bmap.mpl_colors\n",
    "\n",
    "# structured stimuli\n",
    "first_trial = 1\n",
    "num_diff_trials = 8\n",
    "total_trials = 24\n",
    "num_repeats = 3\n",
    "for c in range(len(cells)):\n",
    "    repeats = []\n",
    "    for t in range(first_trial, total_trials, num_diff_trials):\n",
    "        repeats.append(expt_spikes[t][c])\n",
    "\n",
    "    all_spikes, all_labels = spikes_to_array(repeats)\n",
    "    all_labels += num_repeats * c\n",
    "    \n",
    "    # plot raster for this particular cell\n",
    "    which_color = c % 9\n",
    "    ax.plot(all_spikes, all_labels, '|', markersize=2, color=colors[which_color])\n",
    "\n",
    "plt.tick_params(axis='y', direction='out')\n",
    "plt.tick_params(axis='x', direction='out')\n",
    "adjust_spines(plt.gca(), ['left', 'bottom'])\n",
    "plt.xlim([0, 60])"
   ]
  },
  {
   "cell_type": "markdown",
   "metadata": {
    "deletable": true,
    "editable": true
   },
   "source": [
    "# Check out the STAs for the 9 cells"
   ]
  },
  {
   "cell_type": "code",
   "execution_count": 34,
   "metadata": {
    "collapsed": true,
    "deletable": true,
    "editable": true
   },
   "outputs": [],
   "source": [
    "from scipy.stats import zscore\n",
    "import pyret.stimulustools as stimtools"
   ]
  },
  {
   "cell_type": "code",
   "execution_count": 35,
   "metadata": {
    "collapsed": false,
    "deletable": true,
    "editable": true
   },
   "outputs": [],
   "source": [
    "# cell_idx = 0\n",
    "# first_trial = 7\n",
    "# num_diff_trials = 8\n",
    "# total_trials = 24\n",
    "\n",
    "stas = []\n",
    "\n",
    "whitenoise_expts = range(0,24,8)\n",
    "for c in range(len(cells)):\n",
    "    partial_sta = np.zeros((40, 50, 50))\n",
    "    for expt_id in whitenoise_expts:\n",
    "        expt_name = 'expt%d' %(expt_id+1)\n",
    "        time = f[expt_name + '/timestamps']\n",
    "        stimulus = zscore(f[expt_name + '/stim'])\n",
    "        stimulus_upsample, time_upsample = stimtools.upsample(stimulus, 3, time)\n",
    "        sta, tax = ft.sta(time_upsample, stimulus_upsample, expt_spikes[expt_id][c], 40)\n",
    "        partial_sta += sta\n",
    "    partial_sta /= len(whitenoise_expts)\n",
    "    stas.append(partial_sta)"
   ]
  },
  {
   "cell_type": "code",
   "execution_count": 36,
   "metadata": {
    "collapsed": false,
    "deletable": true,
    "editable": true
   },
   "outputs": [
    {
     "data": {
      "text/plain": [
       "14"
      ]
     },
     "execution_count": 36,
     "metadata": {},
     "output_type": "execute_result"
    }
   ],
   "source": [
    "len(stas)"
   ]
  },
  {
   "cell_type": "code",
   "execution_count": 43,
   "metadata": {
    "collapsed": false,
    "deletable": true,
    "editable": true
   },
   "outputs": [
    {
     "data": {
      "image/png": "[encoded data removed]",
      "text/plain": [
       "<matplotlib.figure.Figure at 0x10c43fbe0>"
      ]
     },
     "metadata": {},
     "output_type": "display_data"
    }
   ],
   "source": [
    "num_cols = 5\n",
    "num_rows = 3\n",
    "idxs = range(num_cols)\n",
    "for y in range(num_cols):\n",
    "    for i in range(num_rows):\n",
    "        plt_idx = i * num_cols + y + 1\n",
    "        if plt_idx <= len(cells):\n",
    "            try:\n",
    "                space, time = ft.decompose(stas[plt_idx-1])\n",
    "            except:\n",
    "                space = np.zeros_like(space)\n",
    "                time = np.zeros_like(time)\n",
    "\n",
    "            plt.subplot(num_rows, num_cols, plt_idx)\n",
    "            plt.imshow(space - np.mean(space), cmap='seismic')\n",
    "            plt.axis('off')"
   ]
  },
  {
   "cell_type": "code",
   "execution_count": 44,
   "metadata": {
    "collapsed": false
   },
   "outputs": [
    {
     "data": {
      "image/png": "[encoded data removed]",
      "text/plain": [
       "<matplotlib.figure.Figure at 0x10acdb208>"
      ]
     },
     "metadata": {},
     "output_type": "display_data"
    }
   ],
   "source": [
    "num_cols = 5\n",
    "num_rows = 3\n",
    "idxs = range(num_cols)\n",
    "for y in range(num_cols):\n",
    "    for i in range(num_rows):\n",
    "        plt_idx = i * num_cols + y + 1\n",
    "        if plt_idx <= len(cells):\n",
    "            try:\n",
    "                space, time = ft.decompose(stas[plt_idx-1])\n",
    "            except:\n",
    "                space = np.zeros_like(space)\n",
    "                time = np.zeros_like(time)\n",
    "\n",
    "            plt.subplot(num_rows, num_cols, plt_idx)\n",
    "#             plt.imshow(space - np.mean(space), cmap='seismic')\n",
    "            plt.plot(time)\n",
    "            plt.plot(np.zeros((len(time),)), 'k--', linewidth=1)\n",
    "            plt.axis('off')"
   ]
  },
  {
   "cell_type": "markdown",
   "metadata": {
    "deletable": true,
    "editable": true
   },
   "source": [
    "#### save STAs"
   ]
  },
  {
   "cell_type": "code",
   "execution_count": 47,
   "metadata": {
    "collapsed": false,
    "deletable": true,
    "editable": true
   },
   "outputs": [],
   "source": [
    "# from deepretina.visualizations import visualize_sta"
   ]
  },
  {
   "cell_type": "code",
   "execution_count": 48,
   "metadata": {
    "collapsed": false,
    "deletable": true,
    "editable": true
   },
   "outputs": [],
   "source": [
    "# for c in range(len(cells)):\n",
    "#     space, time = ft.decompose(stas[c])\n",
    "#     plt.imshow(space - np.mean(space), cmap='seismic')\n",
    "#     plt_filename = 'sta_cell_%d.png' %(c)\n",
    "#     plt.savefig(plt_filename)\n",
    "#     plt.close()"
   ]
  },
  {
   "cell_type": "markdown",
   "metadata": {
    "deletable": true,
    "editable": true
   },
   "source": [
    "# Save stimulus and responses in h5 files"
   ]
  },
  {
   "cell_type": "code",
   "execution_count": 49,
   "metadata": {
    "collapsed": true,
    "deletable": true,
    "editable": true
   },
   "outputs": [],
   "source": [
    "import h5py\n",
    "from pyret.spiketools import binspikes"
   ]
  },
  {
   "cell_type": "markdown",
   "metadata": {
    "deletable": true,
    "editable": true
   },
   "source": [
    "#### expts to each stim type"
   ]
  },
  {
   "cell_type": "code",
   "execution_count": 50,
   "metadata": {
    "collapsed": true,
    "deletable": true,
    "editable": true
   },
   "outputs": [],
   "source": [
    "whitenoise_train_expts = [0, 4, 8, 12, 16, 20]\n",
    "whitenoise_test_expts = [1, 5, 9, 13, 17, 21]\n",
    "naturalscene_train_expts = [2, 6, 10, 14, 18, 22]\n",
    "naturalscene_test_expts = [3, 7, 11, 15, 19, 23]"
   ]
  },
  {
   "cell_type": "markdown",
   "metadata": {
    "deletable": true,
    "editable": true
   },
   "source": [
    "#### whitenoise"
   ]
  },
  {
   "cell_type": "code",
   "execution_count": 51,
   "metadata": {
    "collapsed": false,
    "deletable": true,
    "editable": true
   },
   "outputs": [],
   "source": [
    "h = h5py.File('/Users/lmcintosh/experiments/data/15-11-21a/whitenoise_4_6_2017.h5', 'w')\n",
    "\n",
    "##### spikes #####\n",
    "ncells = len(cells)\n",
    "for idx in range(ncells):\n",
    "    h.create_dataset('spikes/cell%02d' %(idx+1), data=np.array(cells[idx]))\n",
    "\n",
    "##### train #####\n",
    "train_stimuli = []\n",
    "train_times = []\n",
    "train_response_binned = []\n",
    "train_response_5ms = []\n",
    "train_response_10ms = []\n",
    "train_response_20ms = []\n",
    "last_time = 0.0\n",
    "for idx in whitenoise_train_expts:\n",
    "    expt_name = 'expt%d' %(idx+1)\n",
    "    stim = f[expt_name + '/stim']\n",
    "    time = f[expt_name + '/timestamps']\n",
    "    stimulus_upsample, time_upsample = stimtools.upsample(stim, 3, time)\n",
    "    binned_spikes = []\n",
    "    response_5ms = []\n",
    "    response_10ms = []\n",
    "    response_20ms = []\n",
    "    for c in range(len(cells)):\n",
    "        bspk = binspikes(expt_spikes[idx][c], time=time_upsample)\n",
    "        if len(bspk) != len(time_upsample):\n",
    "            print('Response length not the same as time length')\n",
    "            import pdb\n",
    "            pdb.set_trace()\n",
    "        binned_spikes.append(bspk)\n",
    "        r5ms = st.estfr(bspk, time_upsample, sigma=0.005) # 5 ms Gaussian\n",
    "        r10ms = st.estfr(bspk, time_upsample, sigma=0.01) # 10 ms Gaussian\n",
    "        r20ms = st.estfr(bspk, time_upsample, sigma=0.02) # 20 ms Gaussian\n",
    "        response_5ms.append(r5ms)\n",
    "        response_10ms.append(r10ms)\n",
    "        response_20ms.append(r20ms)\n",
    "    train_response_binned.append(np.vstack(binned_spikes))\n",
    "    train_response_5ms.append(np.vstack(response_5ms))\n",
    "    train_response_10ms.append(np.vstack(response_10ms))\n",
    "    train_response_20ms.append(np.vstack(response_20ms))\n",
    "    train_stimuli.append(stimulus_upsample)\n",
    "    train_times.append(time_upsample + last_time)\n",
    "    last_time += time_upsample[-1] + np.mean(np.diff(time_upsample))\n",
    "# create datasets\n",
    "h.create_dataset('train/stimulus', data=np.vstack(train_stimuli))\n",
    "h.create_dataset('train/time', data=np.hstack(train_times))\n",
    "h.create_dataset('train/response/binned', data=np.hstack(train_response_binned))\n",
    "h.create_dataset('train/response/firing_rate_10ms', data=np.hstack(train_response_10ms))\n",
    "h.create_dataset('train/response/firing_rate_20ms', data=np.hstack(train_response_20ms))\n",
    "h.create_dataset('train/response/firing_rate_5ms', data=np.hstack(train_response_5ms))\n",
    "\n",
    "##### test #####\n",
    "test_stimuli = []\n",
    "test_times = []\n",
    "test_response_binned = []\n",
    "test_response_5ms = []\n",
    "test_response_10ms = []\n",
    "test_response_20ms = []\n",
    "test_repeats = []\n",
    "for repeat, idx in enumerate(whitenoise_test_expts):\n",
    "    expt_name = 'expt%d' %(idx+1)\n",
    "    stim = f[expt_name + '/stim']\n",
    "    time = f[expt_name + '/timestamps']\n",
    "    stimulus_upsample, time_upsample = stimtools.upsample(stim, 3, time)\n",
    "    binned_spikes = []\n",
    "    response_5ms = []\n",
    "    response_10ms = []\n",
    "    response_20ms = []\n",
    "    for c in range(len(cells)):\n",
    "        bspk = binspikes(expt_spikes[idx][c], time=time_upsample)\n",
    "        binned_spikes.append(bspk)\n",
    "        r5ms = st.estfr(bspk, time_upsample, sigma=0.005) # 5 ms Gaussian\n",
    "        r10ms = st.estfr(bspk, time_upsample, sigma=0.01) # 10 ms Gaussian\n",
    "        r20ms = st.estfr(bspk, time_upsample, sigma=0.02) # 20 ms Gaussian\n",
    "        response_5ms.append(r5ms)\n",
    "        response_10ms.append(r10ms)\n",
    "        response_20ms.append(r20ms)\n",
    "        if repeat == 0:\n",
    "            test_repeats.append([r10ms])\n",
    "        else:\n",
    "            test_repeats[c].append(r10ms)\n",
    "    test_response_binned.append(np.vstack(binned_spikes))\n",
    "    test_response_5ms.append(np.vstack(response_5ms))\n",
    "    test_response_10ms.append(np.vstack(response_10ms))\n",
    "    test_response_20ms.append(np.vstack(response_20ms))\n",
    "# create datasets\n",
    "h.create_dataset('test/stimulus', data=stimulus_upsample[:-1])\n",
    "h.create_dataset('test/time', data=time_upsample[:-1])\n",
    "h.create_dataset('test/response/binned', data=np.mean(test_response_binned, axis=0))\n",
    "h.create_dataset('test/response/firing_rate_10ms', data=np.mean(test_response_10ms, axis=0))\n",
    "h.create_dataset('test/response/firing_rate_20ms', data=np.mean(test_response_20ms, axis=0))\n",
    "h.create_dataset('test/response/firing_rate_5ms', data=np.mean(test_response_5ms, axis=0))\n",
    "for c in range(len(cells)):\n",
    "    dataset_name = 'test/repeats/cell%02d' %(c+1)\n",
    "    h.create_dataset(dataset_name, data=np.vstack(test_repeats[c]))\n",
    "\n",
    "h.close()"
   ]
  },
  {
   "cell_type": "code",
   "execution_count": 52,
   "metadata": {
    "collapsed": false
   },
   "outputs": [
    {
     "data": {
      "text/plain": [
       "(359802, 50, 50)"
      ]
     },
     "execution_count": 52,
     "metadata": {},
     "output_type": "execute_result"
    }
   ],
   "source": [
    "np.vstack(train_stimuli).shape"
   ]
  },
  {
   "cell_type": "code",
   "execution_count": 53,
   "metadata": {
    "collapsed": false
   },
   "outputs": [
    {
     "data": {
      "text/plain": [
       "(359802,)"
      ]
     },
     "execution_count": 53,
     "metadata": {},
     "output_type": "execute_result"
    }
   ],
   "source": [
    "np.hstack(train_times).shape"
   ]
  },
  {
   "cell_type": "code",
   "execution_count": 54,
   "metadata": {
    "collapsed": false
   },
   "outputs": [
    {
     "data": {
      "text/plain": [
       "(14, 359802)"
      ]
     },
     "execution_count": 54,
     "metadata": {},
     "output_type": "execute_result"
    }
   ],
   "source": [
    "np.hstack(train_response_binned).shape"
   ]
  },
  {
   "cell_type": "markdown",
   "metadata": {
    "deletable": true,
    "editable": true
   },
   "source": [
    "#### naturalscenes"
   ]
  },
  {
   "cell_type": "code",
   "execution_count": 55,
   "metadata": {
    "collapsed": true,
    "deletable": true,
    "editable": true
   },
   "outputs": [],
   "source": [
    "h = h5py.File('/Users/lmcintosh/experiments/data/15-11-21a/naturalscene_4_6_2017.h5', 'w')\n",
    "\n",
    "##### spikes #####\n",
    "ncells = len(cells)\n",
    "for idx in range(ncells):\n",
    "    h.create_dataset('spikes/cell%02d' %(idx+1), data=np.array(cells[idx]))\n",
    "\n",
    "##### train #####\n",
    "train_stimuli = []\n",
    "train_times = []\n",
    "train_response_binned = []\n",
    "train_response_5ms = []\n",
    "train_response_10ms = []\n",
    "train_response_20ms = []\n",
    "last_time = 0.0\n",
    "for idx in naturalscene_train_expts:\n",
    "    expt_name = 'expt%d' %(idx+1)\n",
    "    stim = f[expt_name + '/stim']\n",
    "    time = f[expt_name + '/timestamps']\n",
    "    stimulus_upsample, time_upsample = stimtools.upsample(stim, 3, time)\n",
    "    binned_spikes = []\n",
    "    response_5ms = []\n",
    "    response_10ms = []\n",
    "    response_20ms = []\n",
    "    for c in range(len(cells)):\n",
    "        bspk = binspikes(expt_spikes[idx][c], time=time_upsample)\n",
    "        binned_spikes.append(bspk)\n",
    "        r5ms = st.estfr(bspk, time_upsample, sigma=0.005) # 5 ms Gaussian\n",
    "        r10ms = st.estfr(bspk, time_upsample, sigma=0.01) # 10 ms Gaussian\n",
    "        r20ms = st.estfr(bspk, time_upsample, sigma=0.02) # 20 ms Gaussian\n",
    "        response_5ms.append(r5ms)\n",
    "        response_10ms.append(r10ms)\n",
    "        response_20ms.append(r20ms)\n",
    "    train_response_binned.append(np.vstack(binned_spikes))\n",
    "    train_response_5ms.append(np.vstack(response_5ms))\n",
    "    train_response_10ms.append(np.vstack(response_10ms))\n",
    "    train_response_20ms.append(np.vstack(response_20ms))\n",
    "    train_stimuli.append(stimulus_upsample)\n",
    "    train_times.append(time_upsample + last_time)\n",
    "    last_time += time_upsample[-1] + np.mean(np.diff(time_upsample))\n",
    "# create datasets\n",
    "h.create_dataset('train/stimulus', data=np.vstack(train_stimuli))\n",
    "h.create_dataset('train/time', data=np.hstack(train_times))\n",
    "h.create_dataset('train/response/binned', data=np.hstack(train_response_binned))\n",
    "h.create_dataset('train/response/firing_rate_10ms', data=np.hstack(train_response_10ms))\n",
    "h.create_dataset('train/response/firing_rate_20ms', data=np.hstack(train_response_20ms))\n",
    "h.create_dataset('train/response/firing_rate_5ms', data=np.hstack(train_response_5ms))\n",
    "\n",
    "##### test #####\n",
    "test_stimuli = []\n",
    "test_times = []\n",
    "test_response_binned = []\n",
    "test_response_5ms = []\n",
    "test_response_10ms = []\n",
    "test_response_20ms = []\n",
    "test_repeats = []\n",
    "for repeat, idx in enumerate(naturalscene_test_expts):\n",
    "    expt_name = 'expt%d' %(idx+1)\n",
    "    stim = f[expt_name + '/stim']\n",
    "    time = f[expt_name + '/timestamps']\n",
    "    stimulus_upsample, time_upsample = stimtools.upsample(stim, 3, time)\n",
    "    binned_spikes = []\n",
    "    response_5ms = []\n",
    "    response_10ms = []\n",
    "    response_20ms = []\n",
    "    for c in range(len(cells)):\n",
    "        bspk = binspikes(expt_spikes[idx][c], time=time_upsample)\n",
    "        tax = time_upsample\n",
    "        binned_spikes.append(bspk)\n",
    "        to_firing_rate = 1./np.mean(np.diff(time_upsample))\n",
    "        r5ms = st.estfr(bspk, time_upsample, sigma=0.005) # 5 ms Gaussian\n",
    "        r10ms = st.estfr(bspk, time_upsample, sigma=0.01) # 10 ms Gaussian\n",
    "        r20ms = st.estfr(bspk, time_upsample, sigma=0.02) # 20 ms Gaussian\n",
    "        response_5ms.append(r5ms)\n",
    "        response_10ms.append(r10ms)\n",
    "        response_20ms.append(r20ms)\n",
    "        if repeat == 0:\n",
    "            test_repeats.append([r10ms])\n",
    "        else:\n",
    "            test_repeats[c].append(r10ms)\n",
    "    test_response_binned.append(np.vstack(binned_spikes))\n",
    "    test_response_5ms.append(np.vstack(response_5ms))\n",
    "    test_response_10ms.append(np.vstack(response_10ms))\n",
    "    test_response_20ms.append(np.vstack(response_20ms))\n",
    "# create datasets\n",
    "h.create_dataset('test/stimulus', data=stimulus_upsample[:-1])\n",
    "h.create_dataset('test/time', data=time_upsample[:-1])\n",
    "h.create_dataset('test/response/binned', data=np.mean(test_response_binned, axis=0))\n",
    "h.create_dataset('test/response/firing_rate_10ms', data=np.mean(test_response_10ms, axis=0))\n",
    "h.create_dataset('test/response/firing_rate_20ms', data=np.mean(test_response_20ms, axis=0))\n",
    "h.create_dataset('test/response/firing_rate_5ms', data=np.mean(test_response_5ms, axis=0))\n",
    "for c in range(len(cells)):\n",
    "    dataset_name = 'test/repeats/cell%02d' %(c+1)\n",
    "    h.create_dataset(dataset_name, data=np.vstack(test_repeats[c]))\n",
    "\n",
    "h.close()"
   ]
  },
  {
   "cell_type": "code",
   "execution_count": null,
   "metadata": {
    "collapsed": true,
    "deletable": true,
    "editable": true
   },
   "outputs": [],
   "source": []
  },
  {
   "cell_type": "markdown",
   "metadata": {
    "deletable": true,
    "editable": true
   },
   "source": [
    "# Verify that you can get STAs from the saved h5 files"
   ]
  },
  {
   "cell_type": "code",
   "execution_count": 2,
   "metadata": {
    "collapsed": false,
    "deletable": true,
    "editable": true
   },
   "outputs": [],
   "source": [
    "import numpy as np\n",
    "import h5py\n",
    "from tqdm import tqdm\n",
    "import pyret.filtertools as ft\n",
    "from scipy.stats import zscore\n",
    "import matplotlib.pyplot as plt\n",
    "%matplotlib inline"
   ]
  },
  {
   "cell_type": "code",
   "execution_count": 3,
   "metadata": {
    "collapsed": true,
    "deletable": true,
    "editable": true
   },
   "outputs": [],
   "source": [
    "f = h5py.File('/Users/lmcintosh/experiments/data/15-11-21a/whitenoise_4_6_2017.h5', 'r')"
   ]
  },
  {
   "cell_type": "code",
   "execution_count": 4,
   "metadata": {
    "collapsed": false,
    "deletable": true,
    "editable": true
   },
   "outputs": [
    {
     "data": {
      "text/plain": [
       "['response', 'stimulus', 'time']"
      ]
     },
     "execution_count": 4,
     "metadata": {},
     "output_type": "execute_result"
    }
   ],
   "source": [
    "list(f['train'])"
   ]
  },
  {
   "cell_type": "code",
   "execution_count": 5,
   "metadata": {
    "collapsed": false,
    "deletable": true,
    "editable": true
   },
   "outputs": [
    {
     "data": {
      "text/plain": [
       "['binned', 'firing_rate_10ms', 'firing_rate_20ms', 'firing_rate_5ms']"
      ]
     },
     "execution_count": 5,
     "metadata": {},
     "output_type": "execute_result"
    }
   ],
   "source": [
    "list(f['train/response'])"
   ]
  },
  {
   "cell_type": "code",
   "execution_count": 6,
   "metadata": {
    "collapsed": true,
    "deletable": true,
    "editable": true
   },
   "outputs": [],
   "source": [
    "stimulus = f['train/stimulus']\n",
    "firing_rate = f['train/response/firing_rate_10ms']"
   ]
  },
  {
   "cell_type": "code",
   "execution_count": 7,
   "metadata": {
    "collapsed": false,
    "deletable": true,
    "editable": true
   },
   "outputs": [
    {
     "data": {
      "text/plain": [
       "(359802, 50, 50)"
      ]
     },
     "execution_count": 7,
     "metadata": {},
     "output_type": "execute_result"
    }
   ],
   "source": [
    "stimulus.shape"
   ]
  },
  {
   "cell_type": "code",
   "execution_count": 8,
   "metadata": {
    "collapsed": false
   },
   "outputs": [
    {
     "data": {
      "text/plain": [
       "(14, 359802)"
      ]
     },
     "execution_count": 8,
     "metadata": {},
     "output_type": "execute_result"
    }
   ],
   "source": [
    "firing_rate.shape"
   ]
  },
  {
   "cell_type": "code",
   "execution_count": 9,
   "metadata": {
    "collapsed": false,
    "deletable": true,
    "editable": true
   },
   "outputs": [
    {
     "name": "stderr",
     "output_type": "stream",
     "text": []
    }
   ],
   "source": [
    "cell_idx = 0\n",
    "stim = zscore(stimulus)\n",
    "sta = np.zeros((40,50,50))\n",
    "for idx, response in tqdm(enumerate(firing_rate[cell_idx])):\n",
    "    if idx >= 40:\n",
    "        sta += response * stim[idx-40:idx]"
   ]
  },
  {
   "cell_type": "code",
   "execution_count": 10,
   "metadata": {
    "collapsed": false,
    "deletable": true,
    "editable": true
   },
   "outputs": [
    {
     "data": {
      "text/plain": [
       "<matplotlib.image.AxesImage at 0x10fc6c0f0>"
      ]
     },
     "execution_count": 10,
     "metadata": {},
     "output_type": "execute_result"
    },
    {
     "data": {
      "image/png": "[encoded data removed]",
      "text/plain": [
       "<matplotlib.figure.Figure at 0x10e3f99e8>"
      ]
     },
     "metadata": {},
     "output_type": "display_data"
    }
   ],
   "source": [
    "space, time = ft.decompose(sta)\n",
    "plt.imshow(space)"
   ]
  },
  {
   "cell_type": "code",
   "execution_count": 11,
   "metadata": {
    "collapsed": false,
    "deletable": true,
    "editable": true
   },
   "outputs": [
    {
     "data": {
      "text/plain": [
       "[<matplotlib.lines.Line2D at 0x10fcf7b70>]"
      ]
     },
     "execution_count": 11,
     "metadata": {},
     "output_type": "execute_result"
    },
    {
     "data": {
      "image/png": "[encoded data removed]",
      "text/plain": [
       "<matplotlib.figure.Figure at 0x10fc3f080>"
      ]
     },
     "metadata": {},
     "output_type": "display_data"
    }
   ],
   "source": [
    "%matplotlib inline\n",
    "plt.plot(time)"
   ]
  },
  {
   "cell_type": "code",
   "execution_count": 12,
   "metadata": {
    "collapsed": true,
    "deletable": true,
    "editable": true
   },
   "outputs": [],
   "source": [
    "f.close()"
   ]
  },
  {
   "cell_type": "code",
   "execution_count": null,
   "metadata": {
    "collapsed": true,
    "deletable": true,
    "editable": true
   },
   "outputs": [],
   "source": []
  }
 ],
 "metadata": {
  "kernelspec": {
   "display_name": "Python 3",
   "language": "python",
   "name": "python3"
  },
  "language_info": {
   "codemirror_mode": {
    "name": "ipython",
    "version": 3
   },
   "file_extension": ".py",
   "mimetype": "text/x-python",
   "name": "python",
   "nbconvert_exporter": "python",
   "pygments_lexer": "ipython3",
   "version": "3.5.1"
  }
 },
 "nbformat": 4,
 "nbformat_minor": 0
}
