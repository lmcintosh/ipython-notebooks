{
 "cells": [
  {
   "cell_type": "code",
   "execution_count": 1,
   "metadata": {
    "collapsed": false,
    "deletable": true,
    "editable": true
   },
   "outputs": [
    {
     "name": "stderr",
     "output_type": "stream",
     "text": [
      "/home/lane/.local/lib/python3.5/site-packages/matplotlib-2.0.0-py3.5-linux-x86_64.egg/matplotlib/__init__.py:917: UserWarning: axes.hold is deprecated. Please remove it from your matplotlibrc and/or style files.\n",
      "  warnings.warn(self.msg_depr_set % key)\n",
      "/home/lane/.local/lib/python3.5/site-packages/matplotlib-2.0.0-py3.5-linux-x86_64.egg/matplotlib/rcsetup.py:152: UserWarning: axes.hold is deprecated, will be removed in 3.0\n",
      "  warnings.warn(\"axes.hold is deprecated, will be removed in 3.0\")\n",
      "/home/lane/.local/lib/python3.5/site-packages/matplotlib-2.0.0-py3.5-linux-x86_64.egg/matplotlib/style/core.py:53: UserWarning: Style includes a parameter, 'timezone', that is not related to style.  Ignoring\n",
      "  \"to style.  Ignoring\".format(key))\n",
      "/home/lane/.local/lib/python3.5/site-packages/matplotlib-2.0.0-py3.5-linux-x86_64.egg/matplotlib/style/core.py:53: UserWarning: Style includes a parameter, 'interactive', that is not related to style.  Ignoring\n",
      "  \"to style.  Ignoring\".format(key))\n",
      "/home/lane/.local/lib/python3.5/site-packages/matplotlib-2.0.0-py3.5-linux-x86_64.egg/matplotlib/__init__.py:917: UserWarning: axes.hold is deprecated. Please remove it from your matplotlibrc and/or style files.\n",
      "  warnings.warn(self.msg_depr_set % key)\n",
      "/home/lane/.local/lib/python3.5/site-packages/matplotlib-2.0.0-py3.5-linux-x86_64.egg/matplotlib/rcsetup.py:152: UserWarning: axes.hold is deprecated, will be removed in 3.0\n",
      "  warnings.warn(\"axes.hold is deprecated, will be removed in 3.0\")\n"
     ]
    }
   ],
   "source": [
    "import matplotlib\n",
    "matplotlib.use('Agg')\n",
    "\n",
    "import numpy as np\n",
    "import collections\n",
    "from functools import partial\n",
    "from os.path import expanduser\n",
    "from tqdm import tqdm\n",
    "import h5py\n",
    "\n",
    "from surround.image_processing import *\n",
    "from surround.data_handling import *\n",
    "from surround.efficient_coding import *\n",
    "from aesthetics.plotting import *\n",
    "from surround.modeling import gaussian, difference_of_gaussians\n",
    "\n",
    "import pyret.filtertools as ft\n",
    "from sklearn.decomposition import PCA\n",
    "from scipy.stats import sem\n",
    "from scipy.optimize import curve_fit, minimize\n",
    "from scipy.interpolate import interp1d\n",
    "\n",
    "# This is a bit of magic to make matplotlib figures appear inline in the\n",
    "# notebook rather than in a new window.\n",
    "%matplotlib inline\n",
    "import matplotlib.pyplot as plt\n",
    "from matplotlib.ticker import MultipleLocator, FormatStrFormatter\n",
    "\n",
    "plt.style.use('deepretina')\n",
    "\n",
    "# Some more magic so that the notebook will reload external python modules;\n",
    "# see http://stackoverflow.com/questions/1907993/autoreload-of-modules-in-ipython\n",
    "%load_ext autoreload\n",
    "%autoreload 2"
   ]
  },
  {
   "cell_type": "markdown",
   "metadata": {
    "deletable": true,
    "editable": true
   },
   "source": [
    "Changes from previous versions:\n",
    "- Constrain spacing by photoreceptor spacing\n",
    "- Constrain width by visual field of salamander retina  \n",
    "- Constrain output power instead of output variance"
   ]
  },
  {
   "cell_type": "code",
   "execution_count": 2,
   "metadata": {
    "collapsed": false,
    "deletable": true,
    "editable": true
   },
   "outputs": [
    {
     "name": "stderr",
     "output_type": "stream",
     "text": [
      "/usr/local/lib/python3.5/dist-packages/ipykernel/__main__.py:8: DeprecationWarning: object of type <class 'float'> cannot be safely interpreted as an integer.\n",
      "/usr/local/lib/python3.5/dist-packages/ipykernel/__main__.py:9: DeprecationWarning: object of type <class 'float'> cannot be safely interpreted as an integer.\n"
     ]
    }
   ],
   "source": [
    "microns_per_degree = 50.0 # depends on species; this is for salamander\n",
    "photoreceptor_width = 10.0/microns_per_degree # salamander photoreceptors have width of 10-20 microns\n",
    "retina_width = 4000.0/microns_per_degree # salamander retina is about 4 mm\n",
    "frequency_spacing = 1./retina_width # this is the lowest non-DC frequency we can estimate\n",
    "highest_frequency = 0.5/photoreceptor_width # this is the highest frequency we can estimate (Nyquist freq.)\n",
    "\n",
    "N = retina_width//photoreceptor_width\n",
    "freqs = np.linspace(0, highest_frequency, N//2 + 1)\n",
    "space = np.concatenate([np.linspace(-0.5*retina_width, 0, N//2 + 1)[:-1], np.linspace(0, 0.5*retina_width, N//2 + 1)])"
   ]
  },
  {
   "cell_type": "markdown",
   "metadata": {
    "deletable": true,
    "editable": true
   },
   "source": [
    "### Load receptive fields"
   ]
  },
  {
   "cell_type": "code",
   "execution_count": 3,
   "metadata": {
    "collapsed": true,
    "deletable": true,
    "editable": true
   },
   "outputs": [],
   "source": [
    "# These are loaded as (space, receptive) field tuples\n",
    "cells = {}\n",
    "cells['ganglion'] = load_ganglion_cells(space_mode='peak')\n",
    "cells['bipolar'] = load_bipolar_cells(space_mode='peak')\n",
    "cells['amacrine'] = load_amacrine_cells(space_mode='peak')\n",
    "cells['horizontal'] = load_horizontal_cells(space_mode='peak')"
   ]
  },
  {
   "cell_type": "code",
   "execution_count": 4,
   "metadata": {
    "collapsed": true,
    "deletable": true,
    "editable": true
   },
   "outputs": [],
   "source": [
    "receptive_fields = collections.defaultdict(list)\n",
    "for c in cells.keys():\n",
    "    for s, rf in cells[c]:\n",
    "        this_cell_interp = interp1d(s, rf, kind='slinear', bounds_error=False, fill_value=[0])\n",
    "        receptive_fields[c].append(this_cell_interp(space))\n",
    "        \n",
    "average_ganglion_rf = np.mean(receptive_fields['ganglion'], axis=0)"
   ]
  },
  {
   "cell_type": "markdown",
   "metadata": {
    "deletable": true,
    "editable": true
   },
   "source": [
    "### Compute projective fields"
   ]
  },
  {
   "cell_type": "code",
   "execution_count": 5,
   "metadata": {
    "collapsed": false,
    "deletable": true,
    "editable": true
   },
   "outputs": [],
   "source": [
    "horz_pfs_full = get_horizontal_projective_field(conv_mode='full')\n",
    "horz_pfs_same = get_horizontal_projective_field(conv_mode='same')\n",
    "ama_pfs_full = get_amacrine_projective_field(conv_mode='full')\n",
    "ama_pfs_same = get_amacrine_projective_field(conv_mode='same')\n",
    "\n",
    "space_h_full, horz_pf_full, horz_sem_full = get_mean(horz_pfs_full)\n",
    "space_h_same, horz_pf_same, horz_sem_same = get_mean(horz_pfs_same)\n",
    "space_a_full, ama_pf_full, ama_sem_full = get_mean(ama_pfs_full)\n",
    "space_a_same, ama_pf_same, ama_sem_same = get_mean(ama_pfs_same)"
   ]
  },
  {
   "cell_type": "code",
   "execution_count": 6,
   "metadata": {
    "collapsed": true,
    "deletable": true,
    "editable": true
   },
   "outputs": [],
   "source": [
    "horz_pf_interp = interp1d(space_h_full, horz_pf_full, kind='slinear', bounds_error=False, fill_value=[0])\n",
    "ama_pf_interp = interp1d(space_a_full, ama_pf_full, kind='slinear', bounds_error=False, fill_value=[0])\n",
    "\n",
    "horz_pf = horz_pf_interp(space)\n",
    "ama_pf = ama_pf_interp(space)"
   ]
  },
  {
   "cell_type": "markdown",
   "metadata": {
    "deletable": true,
    "editable": true
   },
   "source": [
    "### Signal"
   ]
  },
  {
   "cell_type": "code",
   "execution_count": 7,
   "metadata": {
    "collapsed": false,
    "deletable": true,
    "editable": true
   },
   "outputs": [
    {
     "name": "stdout",
     "output_type": "stream",
     "text": [
      "Only 70 files in directory.\n"
     ]
    }
   ],
   "source": [
    "# choose an image path from cd13A (flood plain, water, horizon) or cd01A (baboons, trees, bushes)\n",
    "im_path     = expanduser('~/data/images/Tkacik/cd01A')\n",
    "num_images  = 100\n",
    "patch_size  = None\n",
    "pixelsToDeg = 92./2 # or 2./92 degrees per pixel (spacing)\n",
    "spacing     = 1./pixelsToDeg # number of degree spacing between pixels\n",
    "normalize   = 'divisive'\n",
    "contrast    = 0.35\n",
    "patches     = load_images(im_path, num_images, patch_size, square=True, \n",
    "                          normalize=normalize, effective_contrast=contrast)\n",
    "signal_amps, signal_freqs, signal_sem = averageAmplitudeSpectrum2d(patches, spacing=spacing)"
   ]
  },
  {
   "cell_type": "code",
   "execution_count": 8,
   "metadata": {
    "collapsed": false,
    "deletable": true,
    "editable": true
   },
   "outputs": [
    {
     "name": "stdout",
     "output_type": "stream",
     "text": [
      "[ 0.0056951   1.01550079]\n"
     ]
    },
    {
     "name": "stderr",
     "output_type": "stream",
     "text": [
      "/usr/local/lib/python3.5/dist-packages/ipykernel/__main__.py:2: RuntimeWarning: divide by zero encountered in true_divide\n",
      "  from ipykernel import kernelapp as app\n"
     ]
    }
   ],
   "source": [
    "def func(x, a, b):\n",
    "    return a/(x**b) # adding a constant tends to make moreSpectra have negative numbers\n",
    "\n",
    "popt_signal, pcov  = curve_fit(func, signal_freqs[1:], signal_amps[1:])\n",
    "print(popt_signal)\n",
    "signal = func(freqs, *popt_signal)\n",
    "signal[0] = np.sqrt(np.sum(signal[1:]))"
   ]
  },
  {
   "cell_type": "markdown",
   "metadata": {
    "deletable": true,
    "editable": true
   },
   "source": [
    "### Noise  \n",
    "Note that the amplitude of the average_ganglion_fft will change the SNR. As the amplitude $\\rightarrow \\infty$, we get $$\\rm{SNR} \\rightarrow \\frac{\\sum (\\rm{filter}_{1:f} \\times \\rm{signal}_{1:f})^2}{\\sum (\\rm{filter}_{1:f} \\times N_{\\rm{in}})^2}$$.  \n",
    "\n",
    "Since the scale of the ganglion fft is arbitrary, we can look at the SNR in this limit."
   ]
  },
  {
   "cell_type": "code",
   "execution_count": 9,
   "metadata": {
    "collapsed": true,
    "deletable": true,
    "editable": true
   },
   "outputs": [],
   "source": [
    "input_noise = 0.098762200628786892\n",
    "output_noise = 0.35\n",
    "target_power = 54.131410989171826"
   ]
  },
  {
   "cell_type": "code",
   "execution_count": 10,
   "metadata": {
    "collapsed": false,
    "deletable": true,
    "editable": true
   },
   "outputs": [
    {
     "name": "stdout",
     "output_type": "stream",
     "text": [
      "1.92576130327\n"
     ]
    },
    {
     "data": {
      "text/plain": [
       "<matplotlib.text.Text at 0x7efdf08acfd0>"
      ]
     },
     "execution_count": 10,
     "metadata": {},
     "output_type": "execute_result"
    },
    {
     "name": "stderr",
     "output_type": "stream",
     "text": [
      "/home/lane/.local/lib/python3.5/site-packages/matplotlib-2.0.0-py3.5-linux-x86_64.egg/matplotlib/font_manager.py:1297: UserWarning: findfont: Font family ['sans-serif'] not found. Falling back to DejaVu Sans\n",
      "  (prop.get_family(), self.defaultFamily[fontext]))\n"
     ]
    },
    {
     "data": {
      "image/png": "[encoded data removed]",
      "text/plain": [
       "<matplotlib.figure.Figure at 0x7efe3c627f98>"
      ]
     },
     "metadata": {},
     "output_type": "display_data"
    }
   ],
   "source": [
    "fig = plt.gcf()\n",
    "fig.set_size_inches((2,2))\n",
    "average_ganglion_fft = abs(np.fft.rfft(average_ganglion_rf))\n",
    "print(get_snr(input_noise, output_noise, signal, 1000*average_ganglion_fft, mode='variance'))\n",
    "snrs = [get_snr(input_noise, output_noise, signal, c*average_ganglion_fft) for c in np.linspace(0,50,100)]\n",
    "plt.plot(np.linspace(0,50,100), snrs)\n",
    "adjust_spines(plt.gca())\n",
    "plt.xlabel('Arbitrary scaling of ganglion cell filter')\n",
    "plt.ylabel('SNR')"
   ]
  },
  {
   "cell_type": "code",
   "execution_count": 11,
   "metadata": {
    "collapsed": false,
    "deletable": true,
    "editable": true
   },
   "outputs": [
    {
     "name": "stdout",
     "output_type": "stream",
     "text": [
      "0.269124689452\n"
     ]
    }
   ],
   "source": [
    "# SNR = 0.269 is total SNR from ganglion recordings of 112 repeats to 30 seconds natural scenes\n",
    "def find_filt_const(filt_const):\n",
    "    this_snr = get_snr(input_noise, output_noise, signal, filt_const*average_ganglion_fft, mode='variance')\n",
    "    return (this_snr - 0.26912469)**2\n",
    "\n",
    "filt_const_opt = scipy.optimize.minimize_scalar(find_filt_const)\n",
    "\n",
    "print(get_snr(input_noise, output_noise, signal, filt_const_opt.x*average_ganglion_fft, mode='variance'))"
   ]
  },
  {
   "cell_type": "markdown",
   "metadata": {
    "deletable": true,
    "editable": true
   },
   "source": [
    "### Ideal filter"
   ]
  },
  {
   "cell_type": "code",
   "execution_count": 12,
   "metadata": {
    "collapsed": false,
    "deletable": true,
    "editable": true
   },
   "outputs": [
    {
     "name": "stdout",
     "output_type": "stream",
     "text": [
      "The relative error from this choice of Lagrangian multiplier is 2.44689914079e-07.\n"
     ]
    }
   ],
   "source": [
    "ideal_filter = unique_soln(signal**2, input_noise, output_noise)"
   ]
  },
  {
   "cell_type": "markdown",
   "metadata": {
    "deletable": true,
    "editable": true
   },
   "source": [
    "### Model of Horizontal Projective Field + Amacrine Projective Field + Center"
   ]
  },
  {
   "cell_type": "code",
   "execution_count": 13,
   "metadata": {
    "collapsed": true,
    "deletable": true,
    "editable": true
   },
   "outputs": [],
   "source": [
    "horz_pf /= np.sum(horz_pf)\n",
    "ama_pf /= np.sum(ama_pf)"
   ]
  },
  {
   "cell_type": "markdown",
   "metadata": {
    "deletable": true,
    "editable": true
   },
   "source": [
    "Load David's 1721 ganglion cells"
   ]
  },
  {
   "cell_type": "code",
   "execution_count": 14,
   "metadata": {
    "collapsed": true,
    "deletable": true,
    "editable": true
   },
   "outputs": [],
   "source": [
    "data_path = expanduser('~/data/kastner/receptive_fields/')\n",
    "spatialDelta = 0.05 # mm\n",
    "micronsPerDeg = 50.\n",
    "ganglion_rfs = {\n",
    "    'fast_on': np.loadtxt(data_path + 'linesRF1.txt').reshape((126, 101, -1)),\n",
    "    'fast_off_adapting': np.loadtxt(data_path + 'linesRF19.txt').reshape((-1, 101, 96)),\n",
    "    'fast_off_sensitizing': np.loadtxt(data_path + 'linesRF8.txt').reshape((-1, 101, 96)),\n",
    "    'medium_off_adapting': np.loadtxt(data_path + 'linesRF29.txt').reshape((-1, 101, 96)),\n",
    "    'slow_off': np.loadtxt(data_path + 'linesRF17.txt').reshape((-1, 101, 96)),\n",
    "}"
   ]
  },
  {
   "cell_type": "code",
   "execution_count": 15,
   "metadata": {
    "collapsed": true,
    "deletable": true,
    "editable": true
   },
   "outputs": [],
   "source": [
    "for celltype in ganglion_rfs.keys():\n",
    "    for rf in ganglion_rfs[celltype]:\n",
    "        # since receptive fields are noisy, use PCA\n",
    "        pca = PCA(n_components=2)\n",
    "        pca.fit(rf)\n",
    "        g_pca = pca.components_[0]\n",
    "\n",
    "        sign_of_pc = -1 * np.sign(g_pca[abs(g_pca) == np.max(abs(g_pca))])\n",
    "        this_space = get_space(g_pca, spatialDelta, micronsPerDeg, kind='peak')\n",
    "        \n",
    "        rf_interp = interp1d(this_space, sign_of_pc*g_pca, kind='slinear', bounds_error=False, fill_value=[0])\n",
    "\n",
    "        receptive_fields[celltype].append(rf_interp(space))"
   ]
  },
  {
   "cell_type": "markdown",
   "metadata": {
    "deletable": true,
    "editable": true
   },
   "source": [
    "Get center widths for each celltype"
   ]
  },
  {
   "cell_type": "code",
   "execution_count": 16,
   "metadata": {
    "collapsed": true,
    "deletable": true,
    "editable": true
   },
   "outputs": [],
   "source": [
    "diff_of_gauss_mu0 = partial(difference_of_gaussians, mu=0)"
   ]
  },
  {
   "cell_type": "code",
   "execution_count": 17,
   "metadata": {
    "collapsed": true,
    "deletable": true,
    "editable": true
   },
   "outputs": [],
   "source": [
    "def center_and_surround(space, center_width, surround_width, center_strength, surround_strength):\n",
    "    return diff_of_gauss_mu0(space, abs(center_width), abs(surround_width),\n",
    "                            -abs(center_strength), abs(surround_strength))"
   ]
  },
  {
   "cell_type": "code",
   "execution_count": 18,
   "metadata": {
    "collapsed": false,
    "deletable": true,
    "editable": true
   },
   "outputs": [
    {
     "name": "stderr",
     "output_type": "stream",
     "text": [
      "772it [01:34, 11.70it/s]\n",
      "253it [01:51,  5.42it/s]\n",
      "321it [00:49,  8.50it/s]\n",
      "249it [00:55,  5.97it/s]\n",
      "28it [00:09,  1.13it/s]\n",
      "126it [00:32,  5.31it/s]\n"
     ]
    }
   ],
   "source": [
    "center_widths = collections.defaultdict(list)\n",
    "surround_widths = collections.defaultdict(list)\n",
    "center_strengths = collections.defaultdict(list)\n",
    "surround_strengths = collections.defaultdict(list)\n",
    "fit_failures = collections.defaultdict(list)\n",
    "\n",
    "for celltype in receptive_fields.keys():\n",
    "    if celltype in ['ganglion', 'fast_on', 'fast_off_adapting', 'fast_off_sensitizing', \n",
    "                    'medium_off_adapting', 'slow_off']:\n",
    "        \n",
    "        for idg, g in tqdm(enumerate(receptive_fields[celltype])):\n",
    "            try:\n",
    "                popt_this, pcov = curve_fit(center_and_surround, space, g, p0=[1.5, 3.5, -10, 30])\n",
    "                center_id = np.argmin(abs(popt_this[:2]))\n",
    "                surround_id = 1 ^ center_id\n",
    "                center_widths[celltype].append(abs(popt_this[center_id]))\n",
    "                surround_widths[celltype].append(abs(popt_this[surround_id]))\n",
    "                center_strengths[celltype].append(popt_this[center_id+2])\n",
    "                surround_strengths[celltype].append(popt_this[surround_id+2])\n",
    "#                 plt.plot(space, diff_of_gauss_mu0(space, *popt_this), color=np.random.rand(3), alpha=0.6)\n",
    "            except:\n",
    "                fit_failures[celltype].append(idg)\n",
    "            \n",
    "                # just set params to median across cells\n",
    "                # this way the params are still aligned with the receptive field id\n",
    "                center_widths[celltype].append(np.median(center_widths[celltype]))\n",
    "                surround_widths[celltype].append(np.median(surround_widths[celltype]))\n",
    "                center_strengths[celltype].append(np.median(center_strengths[celltype]))\n",
    "                surround_strengths[celltype].append(np.median(surround_strengths[celltype]))\n",
    "                \n",
    "#                 print(\"Couldn't fit cell %d\" %idg)"
   ]
  },
  {
   "cell_type": "code",
   "execution_count": 19,
   "metadata": {
    "collapsed": false,
    "deletable": true,
    "editable": true
   },
   "outputs": [
    {
     "name": "stdout",
     "output_type": "stream",
     "text": [
      "couldn't fit 31 in slow_off\n",
      "couldn't fit 7 in medium_off_adapting\n",
      "couldn't fit 5 in fast_on\n",
      "couldn't fit 4 in fast_off_adapting\n",
      "couldn't fit 5 in fast_off_sensitizing\n",
      "couldn't fit 3 in ganglion\n"
     ]
    }
   ],
   "source": [
    "for f in fit_failures.keys():\n",
    "    print(\"couldn't fit %d in %s\" %(len(fit_failures[f]), f))"
   ]
  },
  {
   "cell_type": "markdown",
   "metadata": {
    "deletable": true,
    "editable": true
   },
   "source": [
    "Plot the average profile across celltypes"
   ]
  },
  {
   "cell_type": "code",
   "execution_count": 20,
   "metadata": {
    "collapsed": false,
    "deletable": true,
    "editable": true
   },
   "outputs": [],
   "source": [
    "median_center_widths = {}\n",
    "for celltype in center_widths.keys():\n",
    "    cws = np.array(center_widths[celltype])\n",
    "    sws = np.array(surround_widths[celltype])\n",
    "    css = np.array(center_strengths[celltype])\n",
    "    sss = np.array(surround_strengths[celltype])\n",
    "#     mean_center_widths[celltype] = np.mean(cws[cws < 500])\n",
    "#     mean_surround_width = np.mean(sws[sws < 500])\n",
    "#     mean_center_strength = np.mean(css[abs(css) < 500])\n",
    "#     mean_surround_strength = np.mean(sss[abs(sss) < 500])\n",
    "    \n",
    "    median_center_widths[celltype] = np.median(abs(cws))\n",
    "    median_surround_width = np.median(abs(sws))\n",
    "    median_center_strength = np.median(-abs(css))\n",
    "    median_surround_strength = np.median(abs(sss))\n",
    "#     plt.plot(space, diff_of_gauss_mu0(space, median_center_widths[celltype], median_surround_width,\n",
    "#                                      median_center_strength, median_surround_strength), label=celltype)\n",
    "# plt.legend(frameon=False, fontsize=9, loc='lower left')\n",
    "# adjust_spines(plt.gca())"
   ]
  },
  {
   "cell_type": "code",
   "execution_count": 21,
   "metadata": {
    "collapsed": false,
    "deletable": true,
    "editable": true
   },
   "outputs": [
    {
     "data": {
      "text/plain": [
       "{'fast_off_adapting': 1.6921005209471627,\n",
       " 'fast_off_sensitizing': 2.0511624440316076,\n",
       " 'fast_on': 1.9647399410647877,\n",
       " 'ganglion': 1.3731413963691115,\n",
       " 'medium_off_adapting': 1.5794333469897559,\n",
       " 'slow_off': 1.5642116399679997}"
      ]
     },
     "execution_count": 21,
     "metadata": {},
     "output_type": "execute_result"
    }
   ],
   "source": [
    "median_center_widths"
   ]
  },
  {
   "cell_type": "markdown",
   "metadata": {
    "deletable": true,
    "editable": true
   },
   "source": [
    "Bar charts to visualize diversity"
   ]
  },
  {
   "cell_type": "markdown",
   "metadata": {
    "deletable": true,
    "editable": true
   },
   "source": [
    "## Run info maps"
   ]
  },
  {
   "cell_type": "code",
   "execution_count": 22,
   "metadata": {
    "collapsed": true,
    "deletable": true,
    "editable": true
   },
   "outputs": [],
   "source": [
    "resolution = 150\n",
    "horz_weights = np.linspace(0,1,resolution)\n",
    "center_weights = np.linspace(0,1,resolution)"
   ]
  },
  {
   "cell_type": "code",
   "execution_count": 23,
   "metadata": {
    "collapsed": false,
    "deletable": true,
    "editable": true
   },
   "outputs": [
    {
     "name": "stderr",
     "output_type": "stream",
     "text": [
      "150it [00:31,  4.85it/s]\n",
      "150it [00:31,  4.81it/s]\n",
      "150it [00:31,  4.90it/s]\n",
      "150it [00:31,  4.76it/s]\n",
      "150it [00:31,  4.83it/s]\n",
      "150it [00:31,  4.81it/s]\n"
     ]
    }
   ],
   "source": [
    "init_filt_const = 10.9\n",
    "info_maps = collections.defaultdict(list) # one info map per celltype (since they will be a function of center width)\n",
    "failures = collections.defaultdict(list)\n",
    "detailed_failures = collections.defaultdict(list)\n",
    "for celltype in receptive_fields.keys():\n",
    "    if celltype in ['ganglion', 'fast_on', 'fast_off_adapting', 'fast_off_sensitizing', \n",
    "                    'medium_off_adapting', 'slow_off']:\n",
    "        center = gaussian(x=space, sigma=median_center_widths[celltype], mu=0.)\n",
    "        center /= -np.sum(center) # make center unit vector like horz_pf and ama_pf\n",
    "        \n",
    "        def rf_model(horz_weight, center_weight):\n",
    "            return center_weight*center + (1-center_weight)*(horz_weight*horz_pf + (1-horz_weight)*ama_pf)\n",
    "        \n",
    "#         print('Information map for %s cells.' %celltype)\n",
    "        \n",
    "        infomap = np.zeros((resolution, resolution))\n",
    "        for idh,hw in tqdm(enumerate(horz_weights)):\n",
    "            for idc,cw in enumerate(center_weights):\n",
    "                rf = rf_model(hw, cw)\n",
    "                rf_filt = abs(np.fft.rfft(rf))\n",
    "                \n",
    "                # constrain model\n",
    "                def constrain_filt_power(filt_const):\n",
    "                    size = len(rf_filt)\n",
    "                    output_power = np.sum((signal*filt_const*rf_filt)**2 \n",
    "                                          + (input_noise*filt_const*rf_filt)**2\n",
    "                                          + output_noise**2)\n",
    "                    \n",
    "                    return (target_power - output_power)**2\n",
    "\n",
    "                filt_const_opt = scipy.optimize.minimize(constrain_filt_power, init_filt_const)\n",
    "                iterations = 0\n",
    "                new_init_filt_const = init_filt_const\n",
    "                while not filt_const_opt.success:\n",
    "                    iterations += 1\n",
    "                    new_init_filt_const *= 10\n",
    "                    filt_const_opt = scipy.optimize.minimize(constrain_filt_power, new_init_filt_const)\n",
    "                    if iterations > 10:\n",
    "                        detailed_failures[celltype] = filt_const_opt\n",
    "                        break\n",
    "                \n",
    "                filt_const = abs(filt_const_opt['x'])\n",
    "                \n",
    "                if not filt_const_opt.success:\n",
    "                    failures[celltype].append([hw, cw])\n",
    "\n",
    "                signal_power = (filt_const * rf_filt * signal)**2\n",
    "                noise_power = (filt_const * rf_filt * input_noise)**2 + output_noise**2\n",
    "                infomap[idh,idc] = 0.5*np.sum(np.log2(1 + signal_power/noise_power))\n",
    "        info_maps[celltype] = infomap"
   ]
  },
  {
   "cell_type": "markdown",
   "metadata": {
    "deletable": true,
    "editable": true
   },
   "source": [
    "## Fit cells to rf_model"
   ]
  },
  {
   "cell_type": "code",
   "execution_count": 24,
   "metadata": {
    "collapsed": false,
    "deletable": true,
    "editable": true
   },
   "outputs": [],
   "source": [
    "colorscheme = {\n",
    "    'ganglion': 'k',\n",
    "    'fast_off_sensitizing': 'r',\n",
    "    'fast_off_adapting': 'g',\n",
    "    'slow_off': 'y',\n",
    "    'fast_on': 'b',\n",
    "    'medium_off_adapting': 'c'\n",
    "}"
   ]
  },
  {
   "cell_type": "markdown",
   "metadata": {
    "collapsed": true,
    "deletable": true,
    "editable": true
   },
   "source": [
    "## Fit cells"
   ]
  },
  {
   "cell_type": "code",
   "execution_count": null,
   "metadata": {
    "collapsed": false,
    "deletable": true,
    "editable": true
   },
   "outputs": [
    {
     "name": "stderr",
     "output_type": "stream",
     "text": [
      "\n",
      "0it [00:00, ?it/s]\u001b[A\n",
      "80it [32:00, 23.54s/it]/usr/local/lib/python3.5/dist-packages/ipykernel/__main__.py:22: RuntimeWarning: invalid value encountered in true_divide\n",
      "/usr/local/lib/python3.5/dist-packages/ipykernel/__main__.py:22: RuntimeWarning: invalid value encountered in true_divide\n",
      "89it [35:27, 23.64s/it]/usr/local/lib/python3.5/dist-packages/ipykernel/__main__.py:22: RuntimeWarning: invalid value encountered in true_divide\n",
      "/usr/local/lib/python3.5/dist-packages/ipykernel/__main__.py:22: RuntimeWarning: invalid value encountered in true_divide\n",
      "134it [53:53, 23.29s/it]"
     ]
    }
   ],
   "source": [
    "iterations = 25\n",
    "\n",
    "fits = collections.defaultdict(list)\n",
    "mean_squared_errors = collections.defaultdict(list)\n",
    "abs_errors = collections.defaultdict(list)\n",
    "variances = collections.defaultdict(list)\n",
    "\n",
    "for celltype in receptive_fields.keys():\n",
    "    if celltype in ['ganglion', 'fast_on', 'fast_off_adapting', 'fast_off_sensitizing', \n",
    "                    'medium_off_adapting', 'slow_off']: \n",
    "                \n",
    "        popts = []\n",
    "        \n",
    "#         print('Fitting ganglion celltype %s.' %celltype)\n",
    "        for i,rf in tqdm(enumerate(receptive_fields[celltype])):\n",
    "\n",
    "            def rf_model(width, mean, horz_weight, center_weight):\n",
    "                horz_weight = np.min([1.0, abs(horz_weight)])\n",
    "                center_weight = np.min([1.0, abs(center_weight)])\n",
    "                \n",
    "                center = gaussian(x=space, sigma=abs(width), mu=mean)\n",
    "                center /= -np.sum(center) # make center unit vector like horz_pf and ama_pf\n",
    "                \n",
    "                return center_weight*center + (1-center_weight)*(horz_weight*horz_pf + (1-horz_weight)*ama_pf)\n",
    "            \n",
    "            def model_error_to_ganglion_cells(weights):\n",
    "                width, mean = weights[:2]\n",
    "                hw, cw = weights[-2:]\n",
    "                modeled_rf = rf_model(width, mean, hw, cw)\n",
    "                normed_rf = np.max(abs(rf))*modeled_rf/np.max(abs(modeled_rf))\n",
    "                return sum(abs(normed_rf - rf))\n",
    "\n",
    "            best_fit_err = np.inf\n",
    "            for itr in range(iterations):\n",
    "                this_popt = minimize(model_error_to_ganglion_cells, np.hstack([center_widths[celltype][i],\n",
    "                                                                               0.01,\n",
    "                                                                               np.random.rand(2)]))\n",
    "                if this_popt.fun < best_fit_err:\n",
    "                    best_fit_err = this_popt.fun\n",
    "                    popt = this_popt\n",
    "            \n",
    "            # get mean squared error\n",
    "            modeled_rf = rf_model(*popt.x)\n",
    "            normed_rf = np.max(abs(rf))*modeled_rf/np.max(abs(modeled_rf))\n",
    "            mse = np.mean((normed_rf - rf)**2)\n",
    "\n",
    "            # truncate params between 0 and 1\n",
    "#             x = np.where(popt.x < 0, 0, popt.x) # this actually is wrong, since I'm abs(params) in rf_model\n",
    "#             x = np.where(x > 1, 1, x)\n",
    "            x = np.where(abs(popt.x) > 1, 1, abs(popt.x))\n",
    "\n",
    "            popts.append(x)\n",
    "            abs_errors[celltype].append(popt.fun)\n",
    "            mean_squared_errors[celltype].append(mse)\n",
    "            variances[celltype].append(np.var(rf))\n",
    "\n",
    "        fits[celltype] = np.stack(popts)"
   ]
  },
  {
   "cell_type": "code",
   "execution_count": null,
   "metadata": {
    "collapsed": true
   },
   "outputs": [],
   "source": []
  }
 ],
 "metadata": {
  "kernelspec": {
   "display_name": "Python 3",
   "language": "python",
   "name": "python3"
  },
  "language_info": {
   "codemirror_mode": {
    "name": "ipython",
    "version": 3
   },
   "file_extension": ".py",
   "mimetype": "text/x-python",
   "name": "python",
   "nbconvert_exporter": "python",
   "pygments_lexer": "ipython3",
   "version": "3.5.2"
  }
 },
 "nbformat": 4,
 "nbformat_minor": 0
}
