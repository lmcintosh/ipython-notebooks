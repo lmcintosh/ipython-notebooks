{
 "cells": [
  {
   "cell_type": "code",
   "execution_count": 1,
   "metadata": {
    "collapsed": true
   },
   "outputs": [],
   "source": [
    "import matplotlib\n",
    "matplotlib.use('Agg')\n",
    "\n",
    "import numpy as np\n",
    "import collections\n",
    "from functools import partial\n",
    "from os.path import expanduser\n",
    "from tqdm import tqdm\n",
    "import h5py\n",
    "\n",
    "from surround.image_processing import *\n",
    "from surround.data_handling import *\n",
    "from surround.efficient_coding import *\n",
    "from aesthetics.plotting import *\n",
    "from surround.modeling import gaussian, difference_of_gaussians\n",
    "\n",
    "import pyret.filtertools as ft\n",
    "from sklearn.decomposition import PCA\n",
    "from scipy.stats import sem\n",
    "from scipy.optimize import curve_fit, minimize\n",
    "from scipy.interpolate import interp1d\n",
    "from scipy.stats import pearsonr\n",
    "\n",
    "from mpl_toolkits.axes_grid1 import make_axes_locatable\n",
    "from scipy.signal import convolve2d\n",
    "from scipy.misc import imresize\n",
    "\n",
    "import shannon\n",
    "\n",
    "# import tensorflow as tf\n",
    "\n",
    "# This is a bit of magic to make matplotlib figures appear inline in the\n",
    "# notebook rather than in a new window.\n",
    "%matplotlib inline\n",
    "import matplotlib.pyplot as plt\n",
    "from matplotlib.ticker import MultipleLocator, FormatStrFormatter\n",
    "\n",
    "# plt.style.use('deepretina')\n",
    "\n",
    "# Some more magic so that the notebook will reload external python modules;\n",
    "# see http://stackoverflow.com/questions/1907993/autoreload-of-modules-in-ipython\n",
    "%load_ext autoreload\n",
    "%autoreload 2"
   ]
  },
  {
   "cell_type": "code",
   "execution_count": 2,
   "metadata": {
    "collapsed": true
   },
   "outputs": [],
   "source": [
    "constants = np.load(os.path.expanduser('~/data/surround/2017_10_9_diversity_constants.npy')).item()\n",
    "signal = np.array(np.load(os.path.expanduser('~/data/surround/signal_3_23.npy')))"
   ]
  },
  {
   "cell_type": "code",
   "execution_count": 3,
   "metadata": {},
   "outputs": [
    {
     "data": {
      "text/plain": [
       "dict_keys(['microns_per_degree', 'pixelsToDeg', 'photoreceptor_width', 'retina_width', 'frequency_spacing', 'highest_frequency', 'receptive_fields', 'N', 'freqs', 'space', 'spacing', 'contrast', 'center_widths', 'surround_widths', 'center_strengths', 'surround_strengths', 'fit_failures', 'median_center_widths', 'horz_pf', 'ama_pf', 'target_power', 'resolution', 'info_maps', 'failures', 'detailed_failures', 'celltype', 'center', 'input_noise', 'output_noise', 'target_snr'])"
      ]
     },
     "execution_count": 3,
     "metadata": {},
     "output_type": "execute_result"
    }
   ],
   "source": [
    "constants.keys()"
   ]
  },
  {
   "cell_type": "markdown",
   "metadata": {},
   "source": [
    "# Information analysis  \n",
    "  \n",
    "  Still some aspects of this analysis are counter-intuitive. For instance, the horizontal weight should presumably be much lower for such a high SNR. And why don't we see diverse horizontal weights? Let's move to an analysis where we specifically compute the mutual information."
   ]
  },
  {
   "cell_type": "code",
   "execution_count": 4,
   "metadata": {
    "collapsed": true
   },
   "outputs": [],
   "source": [
    "def rf_model(horz_weight, center_weight):\n",
    "    return center_weight*constants['center'] + (1-center_weight)*(\n",
    "        horz_weight*constants['horz_pf'] + (1-horz_weight)*constants['ama_pf'])"
   ]
  },
  {
   "cell_type": "code",
   "execution_count": 5,
   "metadata": {
    "collapsed": true
   },
   "outputs": [],
   "source": [
    "def generate_spatial_signals(batch_size, signal=signal):\n",
    "    # We generate white noise sequences, then multiply their frequency spectra\n",
    "    # by the signal frequency spectra to make it look like a natural sequence.\n",
    "    random_seq = [np.random.randn(2 * len(signal) - 1) for b in range(batch_size)]\n",
    "    spatial_seq = [np.fft.irfft(np.fft.rfft(s) * signal) for s in random_seq]\n",
    "    return np.stack(spatial_seq)"
   ]
  },
  {
   "cell_type": "code",
   "execution_count": 6,
   "metadata": {
    "collapsed": true
   },
   "outputs": [],
   "source": [
    "blah = generate_spatial_signals(10000)"
   ]
  },
  {
   "cell_type": "code",
   "execution_count": 7,
   "metadata": {},
   "outputs": [
    {
     "data": {
      "text/plain": [
       "(10000, 398)"
      ]
     },
     "execution_count": 7,
     "metadata": {},
     "output_type": "execute_result"
    }
   ],
   "source": [
    "blah.shape"
   ]
  },
  {
   "cell_type": "code",
   "execution_count": 21,
   "metadata": {},
   "outputs": [
    {
     "data": {
      "text/plain": [
       "<matplotlib.collections.LineCollection at 0x7f7fe22bec88>"
      ]
     },
     "execution_count": 21,
     "metadata": {},
     "output_type": "execute_result"
    },
    {
     "data": {
      "image/png": "[encoded data removed]",
      "text/plain": [
       "<matplotlib.figure.Figure at 0x7f7fe23676d8>"
      ]
     },
     "metadata": {},
     "output_type": "display_data"
    }
   ],
   "source": [
    "plt.plot(rf_model(0.5, 0.5))\n",
    "plt.vlines(176, -0.015, 0.0025)\n",
    "plt.vlines(222, -0.015, 0.0025)"
   ]
  },
  {
   "cell_type": "code",
   "execution_count": 34,
   "metadata": {
    "collapsed": true
   },
   "outputs": [],
   "source": [
    "t = scipy.linalg.toeplitz(np.zeros(400), r=rf_model(0.5, 0.5))\n",
    "t_rev = scipy.linalg.toeplitz(np.zeros(400), r=rf_model(0.5, 0.5)[::-1])\n",
    "t2 = t_rev[::-1, ::-1]"
   ]
  },
  {
   "cell_type": "code",
   "execution_count": 35,
   "metadata": {},
   "outputs": [
    {
     "data": {
      "text/plain": [
       "<matplotlib.image.AxesImage at 0x7f7fe1d79dd8>"
      ]
     },
     "execution_count": 35,
     "metadata": {},
     "output_type": "execute_result"
    },
    {
     "data": {
      "image/png": "[encoded data removed]",
      "text/plain": [
       "<matplotlib.figure.Figure at 0x7f7fe1d97f98>"
      ]
     },
     "metadata": {},
     "output_type": "display_data"
    }
   ],
   "source": [
    "plt.imshow(t2)"
   ]
  },
  {
   "cell_type": "code",
   "execution_count": 23,
   "metadata": {},
   "outputs": [
    {
     "data": {
      "text/plain": [
       "<matplotlib.image.AxesImage at 0x7f7fe222a828>"
      ]
     },
     "execution_count": 23,
     "metadata": {},
     "output_type": "execute_result"
    },
    {
     "data": {
      "image/png": "[encoded data removed]",
      "text/plain": [
       "<matplotlib.figure.Figure at 0x7f7fe2277eb8>"
      ]
     },
     "metadata": {},
     "output_type": "display_data"
    }
   ],
   "source": [
    "plt.imshow(t)"
   ]
  },
  {
   "cell_type": "code",
   "execution_count": 40,
   "metadata": {
    "collapsed": true
   },
   "outputs": [],
   "source": [
    "filters = np.vstack([t2, t])[200:-200]"
   ]
  },
  {
   "cell_type": "code",
   "execution_count": 41,
   "metadata": {},
   "outputs": [
    {
     "data": {
      "text/plain": [
       "<matplotlib.image.AxesImage at 0x7f7fe1bd0358>"
      ]
     },
     "execution_count": 41,
     "metadata": {},
     "output_type": "execute_result"
    },
    {
     "data": {
      "image/png": "[encoded data removed]",
      "text/plain": [
       "<matplotlib.figure.Figure at 0x7f7fe1c77128>"
      ]
     },
     "metadata": {},
     "output_type": "display_data"
    }
   ],
   "source": [
    "plt.imshow(filters)"
   ]
  },
  {
   "cell_type": "code",
   "execution_count": 53,
   "metadata": {
    "collapsed": true
   },
   "outputs": [],
   "source": [
    "filters_sparse = filters[25:-25:50]"
   ]
  },
  {
   "cell_type": "code",
   "execution_count": 54,
   "metadata": {},
   "outputs": [
    {
     "data": {
      "text/plain": [
       "(7, 399)"
      ]
     },
     "execution_count": 54,
     "metadata": {},
     "output_type": "execute_result"
    }
   ],
   "source": [
    "filters_sparse.shape"
   ]
  },
  {
   "cell_type": "code",
   "execution_count": 55,
   "metadata": {},
   "outputs": [
    {
     "data": {
      "text/plain": [
       "[<matplotlib.lines.Line2D at 0x7f7fe1493f98>]"
      ]
     },
     "execution_count": 55,
     "metadata": {},
     "output_type": "execute_result"
    },
    {
     "data": {
      "image/png": "[encoded data removed]",
      "text/plain": [
       "<matplotlib.figure.Figure at 0x7f7fe1600a20>"
      ]
     },
     "metadata": {},
     "output_type": "display_data"
    }
   ],
   "source": [
    "plt.plot(filters[150])\n",
    "plt.plot(filters[200])\n",
    "plt.plot(filters[250])"
   ]
  },
  {
   "cell_type": "code",
   "execution_count": 56,
   "metadata": {
    "collapsed": true
   },
   "outputs": [],
   "source": [
    "sigma_f = np.cov(filters_sparse)"
   ]
  },
  {
   "cell_type": "code",
   "execution_count": 57,
   "metadata": {},
   "outputs": [
    {
     "data": {
      "text/plain": [
       "<matplotlib.image.AxesImage at 0x7f7fe13c4b38>"
      ]
     },
     "execution_count": 57,
     "metadata": {},
     "output_type": "execute_result"
    },
    {
     "data": {
      "image/png": "[encoded data removed]",
      "text/plain": [
       "<matplotlib.figure.Figure at 0x7f7fe1447f60>"
      ]
     },
     "metadata": {},
     "output_type": "display_data"
    }
   ],
   "source": [
    "plt.imshow(sigma_f)"
   ]
  },
  {
   "cell_type": "code",
   "execution_count": 31,
   "metadata": {},
   "outputs": [
    {
     "data": {
      "text/plain": [
       "[<matplotlib.lines.Line2D at 0x7f7fe1e445f8>]"
      ]
     },
     "execution_count": 31,
     "metadata": {},
     "output_type": "execute_result"
    },
    {
     "data": {
      "image/png": "[encoded data removed]",
      "text/plain": [
       "<matplotlib.figure.Figure at 0x7f7fe1ec86a0>"
      ]
     },
     "metadata": {},
     "output_type": "display_data"
    }
   ],
   "source": [
    "plt.plot(t[60])"
   ]
  },
  {
   "cell_type": "code",
   "execution_count": 78,
   "metadata": {
    "collapsed": true
   },
   "outputs": [],
   "source": [
    "def filter_bank(hws, cws):\n",
    "    filters_sparse = []\n",
    "    for hw, cw in zip(hws, cws):\n",
    "        rf_1d = rf_model(hw, cw)\n",
    "        t = scipy.linalg.toeplitz(np.zeros(400), r=rf_1d)\n",
    "        t_rev = scipy.linalg.toeplitz(np.zeros(400), r=rf_1d[::-1])[::-1, ::-1]\n",
    "        filters = np.vstack([t_rev, t])[200:-200]\n",
    "        filters_sparse.append(filters[40:-30:50])\n",
    "    return np.vstack(filters_sparse)"
   ]
  },
  {
   "cell_type": "code",
   "execution_count": 79,
   "metadata": {
    "collapsed": true
   },
   "outputs": [],
   "source": [
    "f = filter_bank([0.2, 0.5], [0.6, 0.5])"
   ]
  },
  {
   "cell_type": "code",
   "execution_count": 80,
   "metadata": {},
   "outputs": [
    {
     "data": {
      "text/plain": [
       "(14, 399)"
      ]
     },
     "execution_count": 80,
     "metadata": {},
     "output_type": "execute_result"
    }
   ],
   "source": [
    "f.shape"
   ]
  },
  {
   "cell_type": "code",
   "execution_count": 81,
   "metadata": {},
   "outputs": [
    {
     "data": {
      "text/plain": [
       "<matplotlib.image.AxesImage at 0x7f7fe0feea20>"
      ]
     },
     "execution_count": 81,
     "metadata": {},
     "output_type": "execute_result"
    },
    {
     "data": {
      "image/png": "[encoded data removed]",
      "text/plain": [
       "<matplotlib.figure.Figure at 0x7f7fe111add8>"
      ]
     },
     "metadata": {},
     "output_type": "display_data"
    }
   ],
   "source": [
    "plt.imshow(f, aspect='auto')"
   ]
  },
  {
   "cell_type": "code",
   "execution_count": 83,
   "metadata": {},
   "outputs": [
    {
     "data": {
      "text/plain": [
       "<matplotlib.image.AxesImage at 0x7f7fe0f875f8>"
      ]
     },
     "execution_count": 83,
     "metadata": {},
     "output_type": "execute_result"
    },
    {
     "data": {
      "image/png": "[encoded data removed]",
      "text/plain": [
       "<matplotlib.figure.Figure at 0x7f7fe101a7f0>"
      ]
     },
     "metadata": {},
     "output_type": "display_data"
    }
   ],
   "source": [
    "plt.imshow(np.cov(f))"
   ]
  },
  {
   "cell_type": "code",
   "execution_count": 90,
   "metadata": {},
   "outputs": [
    {
     "data": {
      "text/plain": [
       "(14, 399)"
      ]
     },
     "execution_count": 90,
     "metadata": {},
     "output_type": "execute_result"
    }
   ],
   "source": [
    "f.shape"
   ]
  },
  {
   "cell_type": "code",
   "execution_count": 91,
   "metadata": {},
   "outputs": [
    {
     "data": {
      "text/plain": [
       "(1000, 398)"
      ]
     },
     "execution_count": 91,
     "metadata": {},
     "output_type": "execute_result"
    }
   ],
   "source": [
    "spatial_signals = generate_spatial_signals(1000)\n",
    "spatial_signals.shape"
   ]
  },
  {
   "cell_type": "code",
   "execution_count": 95,
   "metadata": {},
   "outputs": [
    {
     "data": {
      "text/plain": [
       "(14, 14)"
      ]
     },
     "execution_count": 95,
     "metadata": {},
     "output_type": "execute_result"
    }
   ],
   "source": [
    "np.cov(np.dot(f[:, :-1], spatial_signals.T)).shape"
   ]
  },
  {
   "cell_type": "code",
   "execution_count": 96,
   "metadata": {},
   "outputs": [
    {
     "data": {
      "text/plain": [
       "<matplotlib.image.AxesImage at 0x7f7fe1b932b0>"
      ]
     },
     "execution_count": 96,
     "metadata": {},
     "output_type": "execute_result"
    },
    {
     "data": {
      "image/png": "[encoded data removed]",
      "text/plain": [
       "<matplotlib.figure.Figure at 0x7f7fe0f9b438>"
      ]
     },
     "metadata": {},
     "output_type": "display_data"
    }
   ],
   "source": [
    "plt.imshow(np.cov(np.dot(f[:, :-1], spatial_signals.T)))"
   ]
  },
  {
   "cell_type": "code",
   "execution_count": 108,
   "metadata": {
    "collapsed": true
   },
   "outputs": [],
   "source": [
    "sigma_s = np.cov(np.dot(f[:, :-1], spatial_signals.T))\n",
    "sigma_n = np.cov(f)"
   ]
  },
  {
   "cell_type": "code",
   "execution_count": 109,
   "metadata": {
    "collapsed": true
   },
   "outputs": [],
   "source": [
    "sigma_t = sigma_s + sigma_n"
   ]
  },
  {
   "cell_type": "code",
   "execution_count": 110,
   "metadata": {},
   "outputs": [
    {
     "data": {
      "text/plain": [
       "<matplotlib.colorbar.Colorbar at 0x7f7fd1e50ba8>"
      ]
     },
     "execution_count": 110,
     "metadata": {},
     "output_type": "execute_result"
    },
    {
     "data": {
      "image/png": "[encoded data removed]",
      "text/plain": [
       "<matplotlib.figure.Figure at 0x7f7fd1f09860>"
      ]
     },
     "metadata": {},
     "output_type": "display_data"
    }
   ],
   "source": [
    "plt.imshow(sigma_t)\n",
    "plt.colorbar()"
   ]
  },
  {
   "cell_type": "code",
   "execution_count": 111,
   "metadata": {
    "collapsed": true
   },
   "outputs": [],
   "source": [
    "chol_t = np.sum(np.log(np.diag(np.linalg.cholesky(sigma_t))))\n",
    "chol_n = np.sum(np.log(np.diag(np.linalg.cholesky(sigma_n))))"
   ]
  },
  {
   "cell_type": "code",
   "execution_count": 112,
   "metadata": {},
   "outputs": [
    {
     "data": {
      "text/plain": [
       "-77.127643867654484"
      ]
     },
     "execution_count": 112,
     "metadata": {},
     "output_type": "execute_result"
    }
   ],
   "source": [
    "chol_t"
   ]
  },
  {
   "cell_type": "code",
   "execution_count": 113,
   "metadata": {},
   "outputs": [
    {
     "data": {
      "text/plain": [
       "-96.296504612616431"
      ]
     },
     "execution_count": 113,
     "metadata": {},
     "output_type": "execute_result"
    }
   ],
   "source": [
    "chol_n"
   ]
  },
  {
   "cell_type": "code",
   "execution_count": 114,
   "metadata": {},
   "outputs": [
    {
     "data": {
      "text/plain": [
       "19.168860744961947"
      ]
     },
     "execution_count": 114,
     "metadata": {},
     "output_type": "execute_result"
    }
   ],
   "source": [
    "chol_t - chol_n"
   ]
  },
  {
   "cell_type": "code",
   "execution_count": 115,
   "metadata": {
    "collapsed": true
   },
   "outputs": [],
   "source": [
    "? scipy.optimize.minimize"
   ]
  },
  {
   "cell_type": "code",
   "execution_count": 120,
   "metadata": {
    "collapsed": true
   },
   "outputs": [],
   "source": [
    "def mutual_information(hws, cws, samples=1000, target_snr=7.5, input_noise=0.1, output_noise=0.3):\n",
    "    '''Mutual information between a spatial signal and the output of a bank of filters.\n",
    "    \n",
    "    Args:\n",
    "        hws: horizontal weightings for the filter bank.\n",
    "        cws: center weightings for the filter bank.\n",
    "        samples: number of observations to generate.\n",
    "        target_snr: signal-to-noise ratio to constrain the filter banks.\n",
    "    Returns:\n",
    "        info: Mutual information between x and y in nats.\n",
    "    '''\n",
    "    spatial_signals = generate_spatial_signals(samples)\n",
    "    filters = filter_bank(hws, cws)\n",
    "    sigma_f = np.cov(filters)\n",
    "    sigma_s = np.cov(np.dot(filters[:, :-1], spatial_signals.T))\n",
    "    \n",
    "    def sigmas(filter_constants, return_snr=False):\n",
    "        ff_const = np.outer(filter_constants, filter_constants)\n",
    "        sigma_n = input_noise**2 * ff_const * sigma_f + output_noise**2\n",
    "        sigma_signal = ff_const * sigma_s\n",
    "        sigma_t = sigma_signal + sigma_n\n",
    "        \n",
    "        signal_var = np.diag(sigma_signal)\n",
    "        noise_var = np.diag(sigma_n)\n",
    "        snr = signal_var/noise_var\n",
    "        if return_snr:\n",
    "            return snr\n",
    "        else:\n",
    "            return sigma_t, sigma_n\n",
    "        \n",
    "    def mse(filter_constants):\n",
    "        snr = sigmas(filter_constants, return_snr=True)\n",
    "        return np.mean((snr - target_snr)**2)\n",
    "    \n",
    "    res = scipy.optimize.minimize(mse, np.random.rand(sigma_f.shape[0], 1))\n",
    "    opt_filter_const = res.x\n",
    "    \n",
    "    sigma_t, sigma_n = sigmas(opt_filter_const)\n",
    "    chol_t = np.sum(np.log(np.diag(np.linalg.cholesky(2 * np.pi * np.exp(1) * sigma_t))))\n",
    "    chol_n = np.sum(np.log(np.diag(np.linalg.cholesky(2 * np.pi * np.exp(1) * sigma_n))))\n",
    "    return 0.5 * (chol_t - chol_n)"
   ]
  },
  {
   "cell_type": "code",
   "execution_count": 133,
   "metadata": {
    "collapsed": true
   },
   "outputs": [],
   "source": [
    "mi = mutual_information([0.5], [1.0])"
   ]
  },
  {
   "cell_type": "code",
   "execution_count": 134,
   "metadata": {},
   "outputs": [
    {
     "data": {
      "text/plain": [
       "11.371541023160821"
      ]
     },
     "execution_count": 134,
     "metadata": {},
     "output_type": "execute_result"
    }
   ],
   "source": [
    "mi"
   ]
  },
  {
   "cell_type": "code",
   "execution_count": 148,
   "metadata": {},
   "outputs": [
    {
     "name": "stderr",
     "output_type": "stream",
     "text": [
      "\n",
      "0it [00:00, ?it/s]\u001b[A\n",
      "1it [00:04,  4.73s/it]\u001b[A\n",
      "20it [01:31,  4.50s/it]\n"
     ]
    }
   ],
   "source": [
    "all_hws = np.linspace(0, 1, 20)\n",
    "all_cws = np.linspace(0, 1, 30)\n",
    "info_map = np.zeros((20, 30))\n",
    "for idh, hw in tqdm(enumerate(all_hws)):\n",
    "    for idc, cw in enumerate(all_cws):\n",
    "        hws = [hw]\n",
    "        cws = [cw]\n",
    "        samples = 1000\n",
    "        target_snr = 10.5\n",
    "        input_noise = 0.1\n",
    "        output_noise = 0.35\n",
    "        spatial_signals = generate_spatial_signals(samples)\n",
    "        filters = filter_bank(hws, cws)\n",
    "        sigma_f = np.cov(filters)\n",
    "        sigma_s = np.cov(np.dot(filters[:, :-1], spatial_signals.T))\n",
    "\n",
    "        def sigmas(filter_constants, return_snr=False):\n",
    "            ff_const = np.outer(filter_constants, filter_constants)\n",
    "            sigma_n = input_noise**2 * ff_const * sigma_f + output_noise**2\n",
    "            sigma_signal = ff_const * sigma_s\n",
    "            sigma_t = sigma_signal + sigma_n\n",
    "\n",
    "            signal_var = np.diag(sigma_signal)\n",
    "            noise_var = np.diag(sigma_n)\n",
    "            snr = signal_var/noise_var\n",
    "            if return_snr:\n",
    "                return snr\n",
    "            else:\n",
    "                return sigma_t, sigma_n\n",
    "\n",
    "        def mse(filter_constants):\n",
    "            snr = sigmas(filter_constants, return_snr=True)\n",
    "            return np.mean((snr - target_snr)**2)\n",
    "\n",
    "        res = scipy.optimize.minimize(mse, np.random.rand(sigma_f.shape[0], 1))\n",
    "        opt_filter_const = res.x\n",
    "\n",
    "        sigma_t, sigma_n = sigmas(opt_filter_const)\n",
    "        chol_t = np.sum(np.log(np.diag(np.linalg.cholesky(2 * np.pi * np.exp(1) * sigma_t))))\n",
    "        chol_n = np.sum(np.log(np.diag(np.linalg.cholesky(2 * np.pi * np.exp(1) * sigma_n))))\n",
    "        mi =  0.5 * (chol_t - chol_n)\n",
    "        info_map[idh, idc] = mi"
   ]
  },
  {
   "cell_type": "code",
   "execution_count": 151,
   "metadata": {},
   "outputs": [
    {
     "data": {
      "text/plain": [
       "<matplotlib.colorbar.Colorbar at 0x7f7fd125dcc0>"
      ]
     },
     "execution_count": 151,
     "metadata": {},
     "output_type": "execute_result"
    },
    {
     "data": {
      "image/png": "[encoded data removed]",
      "text/plain": [
       "<matplotlib.figure.Figure at 0x7f7fd130bf28>"
      ]
     },
     "metadata": {},
     "output_type": "display_data"
    }
   ],
   "source": [
    "plt.imshow(info_map[:20, :30])\n",
    "plt.colorbar()"
   ]
  },
  {
   "cell_type": "code",
   "execution_count": 215,
   "metadata": {},
   "outputs": [
    {
     "data": {
      "text/plain": [
       "[<matplotlib.lines.Line2D at 0x7f7fca0ad908>]"
      ]
     },
     "execution_count": 215,
     "metadata": {},
     "output_type": "execute_result"
    },
    {
     "data": {
      "image/png": "[encoded data removed]",
      "text/plain": [
       "<matplotlib.figure.Figure at 0x7f7fca13bef0>"
      ]
     },
     "metadata": {},
     "output_type": "display_data"
    }
   ],
   "source": [
    "plt.plot(info_map[:20, :30][10])"
   ]
  },
  {
   "cell_type": "code",
   "execution_count": 221,
   "metadata": {
    "collapsed": true
   },
   "outputs": [],
   "source": [
    "input_noise = 0.0469253741641 #0.098762200628786892\n",
    "output_noise = 0.35\n",
    "# target_power = 48.053365503112332 #54.131410989171826\n",
    "target_power = 100.\n",
    "target_snr = 0.5"
   ]
  },
  {
   "cell_type": "code",
   "execution_count": 195,
   "metadata": {
    "collapsed": true
   },
   "outputs": [],
   "source": [
    "old_info_map = info_map"
   ]
  },
  {
   "cell_type": "code",
   "execution_count": 222,
   "metadata": {
    "collapsed": true
   },
   "outputs": [],
   "source": [
    "def filter_bank(hws, cws):\n",
    "    filters_sparse = []\n",
    "    for hw, cw in zip(hws, cws):\n",
    "        rf_1d = rf_model(hw, cw)\n",
    "        t = scipy.linalg.toeplitz(np.zeros(400), r=rf_1d)\n",
    "        t_rev = scipy.linalg.toeplitz(np.zeros(400), r=rf_1d[::-1])[::-1, ::-1]\n",
    "        filters = np.vstack([t_rev, t])[200:-200]\n",
    "        filters_sparse.append(filters[40:-30:50])\n",
    "    return np.vstack(filters_sparse)"
   ]
  },
  {
   "cell_type": "code",
   "execution_count": 229,
   "metadata": {},
   "outputs": [
    {
     "data": {
      "text/plain": [
       "(7,)"
      ]
     },
     "execution_count": 229,
     "metadata": {},
     "output_type": "execute_result"
    }
   ],
   "source": [
    "opt_filter_const.shape"
   ]
  },
  {
   "cell_type": "code",
   "execution_count": 228,
   "metadata": {},
   "outputs": [
    {
     "data": {
      "text/plain": [
       "(7, 399)"
      ]
     },
     "execution_count": 228,
     "metadata": {},
     "output_type": "execute_result"
    }
   ],
   "source": [
    "filters.shape"
   ]
  },
  {
   "cell_type": "code",
   "execution_count": 233,
   "metadata": {},
   "outputs": [
    {
     "data": {
      "text/plain": [
       "(7, 399)"
      ]
     },
     "execution_count": 233,
     "metadata": {},
     "output_type": "execute_result"
    }
   ],
   "source": [
    "(filters.T * opt_filter_const).T"
   ]
  },
  {
   "cell_type": "code",
   "execution_count": 238,
   "metadata": {},
   "outputs": [
    {
     "data": {
      "text/plain": [
       "array([[  2.48243046e-004,   7.26720132e-009,   1.90912053e-022,\n",
       "          4.24544234e-045,   4.23904261e-076,   1.08270742e-116,\n",
       "          2.32805720e-166],\n",
       "       [  7.26720132e-009,   2.45295605e-004,   7.42999287e-009,\n",
       "          1.90506795e-022,   1.44494439e-044,   4.25526821e-076,\n",
       "          1.05497446e-116],\n",
       "       [  1.90912053e-022,   7.42999287e-009,   2.59489329e-004,\n",
       "          7.67138982e-009,   4.41988060e-022,   1.50078617e-044,\n",
       "          4.29008898e-076],\n",
       "       [  4.24544234e-045,   1.90506795e-022,   7.67138982e-009,\n",
       "          2.61493607e-004,   1.14444094e-008,   4.48057903e-022,\n",
       "          1.47677420e-044],\n",
       "       [  4.23904261e-076,   1.44494439e-044,   4.41988060e-022,\n",
       "          1.14444094e-008,   2.52760732e-004,   7.51702832e-009,\n",
       "          1.88201018e-022],\n",
       "       [  1.08270742e-116,   4.25526821e-076,   1.50078617e-044,\n",
       "          4.48057903e-022,   7.51702832e-009,   2.57759833e-004,\n",
       "          7.44086624e-009],\n",
       "       [  2.32805720e-166,   1.05497446e-116,   4.29008898e-076,\n",
       "          1.47677420e-044,   1.88201018e-022,   7.44086624e-009,\n",
       "          2.47664767e-004]])"
      ]
     },
     "execution_count": 238,
     "metadata": {},
     "output_type": "execute_result"
    }
   ],
   "source": [
    "(np.dot((filters.T * opt_filter_const).T, (filters.T * opt_filter_const)))"
   ]
  },
  {
   "cell_type": "code",
   "execution_count": 240,
   "metadata": {},
   "outputs": [],
   "source": [
    "residual = (np.outer(opt_filter_const, opt_filter_const) * np.dot(filters, filters.T)) - (\n",
    "    np.dot((filters.T * opt_filter_const).T, (filters.T * opt_filter_const)))"
   ]
  },
  {
   "cell_type": "code",
   "execution_count": 242,
   "metadata": {},
   "outputs": [
    {
     "data": {
      "text/plain": [
       "<matplotlib.colorbar.Colorbar at 0x7f7fc9e96f60>"
      ]
     },
     "execution_count": 242,
     "metadata": {},
     "output_type": "execute_result"
    },
    {
     "data": {
      "image/png": "[encoded data removed]",
      "text/plain": [
       "<matplotlib.figure.Figure at 0x7f7fd0435240>"
      ]
     },
     "metadata": {},
     "output_type": "display_data"
    }
   ],
   "source": [
    "plt.imshow(residual)\n",
    "plt.colorbar()"
   ]
  },
  {
   "cell_type": "code",
   "execution_count": 244,
   "metadata": {},
   "outputs": [
    {
     "name": "stderr",
     "output_type": "stream",
     "text": [
      "20it [07:23, 22.19s/it]\n"
     ]
    }
   ],
   "source": [
    "all_hws = np.linspace(0, 1, 20)\n",
    "all_cws = np.linspace(0, 1, 30)\n",
    "info_map = np.zeros((20, 30))\n",
    "samples = 1000\n",
    "spatial_signals = generate_spatial_signals(samples)\n",
    "for idh, hw in tqdm(enumerate(all_hws)):\n",
    "    for idc, cw in enumerate(all_cws):\n",
    "        hws = [hw]\n",
    "        cws = [cw]\n",
    "        filters = filter_bank(hws, cws)\n",
    "#         sigma_f = np.cov(filters)\n",
    "#         sigma_s = np.cov(np.dot(filters[:, :-1], spatial_signals.T))\n",
    "        sigma_f = np.dot(filters, filters.T)\n",
    "        fs = np.dot(filters[:, :-1], spatial_signals.T)\n",
    "        sigma_s = np.dot(fs, fs.T)\n",
    "\n",
    "        def sigmas(filter_constants, return_flag='sigmas'):\n",
    "            normed_filters = (filters.T * filter_constants).T\n",
    "            sigma_f = np.dot(normed_filters, normed_filters.T)\n",
    "            fs = np.dot(normed_filters[:, :-1], spatial_signals.T)\n",
    "            sigma_s = np.dot(fs, fs.T)\n",
    "            sigma_n = input_noise**2 * sigma_f + output_noise**2\n",
    "            sigma_signal = sigma_s\n",
    "            sigma_t = sigma_signal + sigma_n\n",
    "\n",
    "            signal_var = np.diag(sigma_signal)\n",
    "            noise_var = np.diag(sigma_n)\n",
    "            snr = signal_var/noise_var\n",
    "            if return_flag == 'snr':\n",
    "                return snr\n",
    "            elif return_flag == 'sigmas':\n",
    "                return sigma_t, sigma_n\n",
    "            elif return_flag == 'power':\n",
    "                return np.diag(sigma_t)\n",
    "\n",
    "        def mse_snr(filter_constants):\n",
    "            snr = sigmas(filter_constants, return_flag='snr')\n",
    "            return np.mean((snr - target_snr)**2)\n",
    "        \n",
    "        def mse_power(filter_constants):\n",
    "            power = sigmas(filter_constants, return_flag='power')\n",
    "            return np.mean((power - target_power)**2)\n",
    "\n",
    "        res = scipy.optimize.minimize(mse_snr, 10.9 * np.random.rand(sigma_f.shape[0], 1))\n",
    "        opt_filter_const = abs(res.x)\n",
    "\n",
    "        sigma_t, sigma_n = sigmas(opt_filter_const)\n",
    "        chol_t = np.sum(np.log(np.diag(np.linalg.cholesky(2 * np.pi * np.exp(1) * sigma_t))))\n",
    "        chol_n = np.sum(np.log(np.diag(np.linalg.cholesky(2 * np.pi * np.exp(1) * sigma_n))))\n",
    "        mi =  0.5 * (chol_t - chol_n)\n",
    "        info_map[idh, idc] = mi"
   ]
  },
  {
   "cell_type": "code",
   "execution_count": 245,
   "metadata": {},
   "outputs": [
    {
     "data": {
      "text/plain": [
       "<matplotlib.image.AxesImage at 0x7f7fc9ba2c88>"
      ]
     },
     "execution_count": 245,
     "metadata": {},
     "output_type": "execute_result"
    },
    {
     "data": {
      "image/png": "[encoded data removed]",
      "text/plain": [
       "<matplotlib.figure.Figure at 0x7f7fc9c1b710>"
      ]
     },
     "metadata": {},
     "output_type": "display_data"
    }
   ],
   "source": [
    "plt.imshow(info_map)"
   ]
  },
  {
   "cell_type": "code",
   "execution_count": 246,
   "metadata": {},
   "outputs": [
    {
     "data": {
      "text/plain": [
       "[<matplotlib.lines.Line2D at 0x7f7fc9ace780>]"
      ]
     },
     "execution_count": 246,
     "metadata": {},
     "output_type": "execute_result"
    },
    {
     "data": {
      "image/png": "[encoded data removed]",
      "text/plain": [
       "<matplotlib.figure.Figure at 0x7f7fc9e79a20>"
      ]
     },
     "metadata": {},
     "output_type": "display_data"
    }
   ],
   "source": [
    "plt.plot(all_cws, info_map[10])"
   ]
  },
  {
   "cell_type": "code",
   "execution_count": 208,
   "metadata": {},
   "outputs": [
    {
     "data": {
      "text/plain": [
       "array([ 0.26524031,  0.26468666,  0.26464395,  0.26577139,  0.26682344,\n",
       "        0.26668593,  0.2666665 ,  0.26680907,  0.26746812,  0.26836537,\n",
       "        0.2681388 ,  0.26698288,  0.26549933,  0.26370305,  0.26200921,\n",
       "        0.26105021,  0.26125551,  0.2611477 ,  0.26059371,  0.26171866,\n",
       "        0.26283978,  0.26325091,  0.26560934,  0.26787841,  0.26776197,\n",
       "        0.2672891 ,  0.26826093,  0.26971129,  0.27065419,  0.27046716,\n",
       "        0.26911687,  0.2675315 ,  0.26616221])"
      ]
     },
     "execution_count": 208,
     "metadata": {},
     "output_type": "execute_result"
    }
   ],
   "source": [
    "opt_filter_const"
   ]
  },
  {
   "cell_type": "code",
   "execution_count": 209,
   "metadata": {},
   "outputs": [
    {
     "data": {
      "text/plain": [
       "(33, 399)"
      ]
     },
     "execution_count": 209,
     "metadata": {},
     "output_type": "execute_result"
    }
   ],
   "source": [
    "filters.shape"
   ]
  },
  {
   "cell_type": "code",
   "execution_count": 220,
   "metadata": {},
   "outputs": [
    {
     "data": {
      "image/png": "[encoded data removed]",
      "text/plain": [
       "<matplotlib.figure.Figure at 0x7f7fc9f20a58>"
      ]
     },
     "metadata": {},
     "output_type": "display_data"
    }
   ],
   "source": [
    "plt.plot(filters.T);"
   ]
  },
  {
   "cell_type": "code",
   "execution_count": 217,
   "metadata": {},
   "outputs": [
    {
     "data": {
      "text/plain": [
       "3.2812191530202504"
      ]
     },
     "execution_count": 217,
     "metadata": {},
     "output_type": "execute_result"
    }
   ],
   "source": [
    "chol_t"
   ]
  },
  {
   "cell_type": "code",
   "execution_count": 218,
   "metadata": {},
   "outputs": [
    {
     "data": {
      "text/plain": [
       "-26.600321246701611"
      ]
     },
     "execution_count": 218,
     "metadata": {},
     "output_type": "execute_result"
    }
   ],
   "source": [
    "chol_n"
   ]
  },
  {
   "cell_type": "code",
   "execution_count": 248,
   "metadata": {
    "collapsed": true
   },
   "outputs": [],
   "source": [
    "input_noise = 0.0469253741641 #0.098762200628786892\n",
    "output_noise = 0.35\n",
    "target_power = 48.053365503112332 #54.131410989171826\n",
    "# target_power = 100.\n",
    "# target_snr = 0.5"
   ]
  },
  {
   "cell_type": "code",
   "execution_count": 266,
   "metadata": {},
   "outputs": [
    {
     "name": "stderr",
     "output_type": "stream",
     "text": [
      "20it [00:20,  1.04s/it]\n"
     ]
    }
   ],
   "source": [
    "all_hws = np.linspace(0, 1, 20)\n",
    "all_cws = np.linspace(0, 1, 30)\n",
    "info_map = np.zeros((20, 30))\n",
    "snr_map = np.zeros((20, 30))\n",
    "spatial_signals = 10. * generate_spatial_signals(samples)\n",
    "for idh, hw in tqdm(enumerate(all_hws)):\n",
    "    for idc, cw in enumerate(all_cws):\n",
    "        filters = filter_bank([hw], [cw])\n",
    "#         sigma_f = np.cov(filters)\n",
    "#         sigma_s = np.cov(np.dot(filters[:, :-1], spatial_signals.T))\n",
    "        sigma_f = np.dot(filters, filters.T)\n",
    "        fs = np.dot(filters[:, :-1], spatial_signals.T)\n",
    "        sigma_s = np.dot(fs, fs.T)\n",
    "\n",
    "        def sigmas(filter_constants, return_flag='sigmas'):\n",
    "            ff_const = np.outer(filter_constants, filter_constants)\n",
    "            sigma_n = input_noise**2 * ff_const * sigma_f + output_noise**2 * np.eye(ff_const.shape[0])\n",
    "            sigma_signal = ff_const * sigma_s\n",
    "            sigma_t = sigma_signal + sigma_n\n",
    "\n",
    "            signal_var = np.diag(sigma_signal)\n",
    "            noise_var = np.diag(sigma_n)\n",
    "            snr = signal_var/noise_var\n",
    "            if return_flag == 'snr':\n",
    "                return snr\n",
    "            elif return_flag == 'sigmas':\n",
    "                return sigma_t, sigma_n\n",
    "            elif return_flag == 'power':\n",
    "                return np.diag(sigma_t)\n",
    "\n",
    "        def mse_snr(filter_constants):\n",
    "            snr = sigmas(filter_constants, return_flag='snr')\n",
    "            return np.mean((snr - target_snr)**2)\n",
    "        \n",
    "        def mse_power(filter_constants):\n",
    "            power = sigmas(filter_constants, return_flag='power')\n",
    "            return np.mean((power - target_power)**2)\n",
    "\n",
    "        res = scipy.optimize.minimize(mse_power, np.random.rand(sigma_f.shape[0], 1))\n",
    "        opt_filter_const = abs(res.x)\n",
    "        \n",
    "        snr = sigmas(opt_filter_const, return_flag='snr')\n",
    "        sigma_t, sigma_n = sigmas(opt_filter_const)\n",
    "        chol_t = np.sum(np.log(np.diag(np.linalg.cholesky(2 * np.pi * np.exp(1) * sigma_t))))\n",
    "        chol_n = np.sum(np.log(np.diag(np.linalg.cholesky(2 * np.pi * np.exp(1) * sigma_n))))\n",
    "        mi =  0.5 * (chol_t - chol_n)\n",
    "        info_map[idh, idc] = mi\n",
    "        snr_map[idh, idc] = np.mean(snr)"
   ]
  },
  {
   "cell_type": "code",
   "execution_count": 274,
   "metadata": {},
   "outputs": [
    {
     "data": {
      "text/plain": [
       "<matplotlib.colorbar.Colorbar at 0x7f7fc91365f8>"
      ]
     },
     "execution_count": 274,
     "metadata": {},
     "output_type": "execute_result"
    },
    {
     "data": {
      "image/png": "[encoded data removed]",
      "text/plain": [
       "<matplotlib.figure.Figure at 0x7f7fc925c4e0>"
      ]
     },
     "metadata": {},
     "output_type": "display_data"
    }
   ],
   "source": [
    "plt.imshow(info_map)\n",
    "plt.colorbar()"
   ]
  },
  {
   "cell_type": "code",
   "execution_count": 269,
   "metadata": {},
   "outputs": [
    {
     "data": {
      "text/plain": [
       "[<matplotlib.lines.Line2D at 0x7f7fc93bebe0>]"
      ]
     },
     "execution_count": 269,
     "metadata": {},
     "output_type": "execute_result"
    },
    {
     "data": {
      "image/png": "[encoded data removed]",
      "text/plain": [
       "<matplotlib.figure.Figure at 0x7f7fc944abe0>"
      ]
     },
     "metadata": {},
     "output_type": "display_data"
    }
   ],
   "source": [
    "plt.plot(all_cws, info_map[10])"
   ]
  },
  {
   "cell_type": "code",
   "execution_count": 271,
   "metadata": {},
   "outputs": [
    {
     "data": {
      "text/plain": [
       "<matplotlib.colorbar.Colorbar at 0x7f7fc930b780>"
      ]
     },
     "execution_count": 271,
     "metadata": {},
     "output_type": "execute_result"
    },
    {
     "data": {
      "image/png": "[encoded data removed]",
      "text/plain": [
       "<matplotlib.figure.Figure at 0x7f7fc92fd710>"
      ]
     },
     "metadata": {},
     "output_type": "display_data"
    }
   ],
   "source": [
    "plt.imshow(snr_map)\n",
    "plt.colorbar()"
   ]
  },
  {
   "cell_type": "code",
   "execution_count": 272,
   "metadata": {},
   "outputs": [],
   "source": [
    "filters = filter_bank([0.5], [0.7])"
   ]
  },
  {
   "cell_type": "code",
   "execution_count": 273,
   "metadata": {},
   "outputs": [
    {
     "data": {
      "text/plain": [
       "[<matplotlib.lines.Line2D at 0x7f7fc918aac8>]"
      ]
     },
     "execution_count": 273,
     "metadata": {},
     "output_type": "execute_result"
    },
    {
     "data": {
      "image/png": "[encoded data removed]",
      "text/plain": [
       "<matplotlib.figure.Figure at 0x7f7fc9272eb8>"
      ]
     },
     "metadata": {},
     "output_type": "display_data"
    }
   ],
   "source": [
    "plt.plot(filters[3])"
   ]
  },
  {
   "cell_type": "code",
   "execution_count": 278,
   "metadata": {},
   "outputs": [
    {
     "data": {
      "text/plain": [
       "<matplotlib.colorbar.Colorbar at 0x7f7fc8ff9978>"
      ]
     },
     "execution_count": 278,
     "metadata": {},
     "output_type": "execute_result"
    },
    {
     "data": {
      "image/png": "[encoded data removed]",
      "text/plain": [
       "<matplotlib.figure.Figure at 0x7f7fc8e1cb38>"
      ]
     },
     "metadata": {},
     "output_type": "display_data"
    }
   ],
   "source": [
    "plt.imshow(sigma_n)\n",
    "plt.colorbar()"
   ]
  },
  {
   "cell_type": "code",
   "execution_count": 277,
   "metadata": {},
   "outputs": [
    {
     "data": {
      "text/plain": [
       "<matplotlib.colorbar.Colorbar at 0x7f7fc8fd77b8>"
      ]
     },
     "execution_count": 277,
     "metadata": {},
     "output_type": "execute_result"
    },
    {
     "data": {
      "image/png": "[encoded data removed]",
      "text/plain": [
       "<matplotlib.figure.Figure at 0x7f7fc8f09630>"
      ]
     },
     "metadata": {},
     "output_type": "display_data"
    }
   ],
   "source": [
    "plt.imshow(sigma_t)\n",
    "plt.colorbar()"
   ]
  },
  {
   "cell_type": "code",
   "execution_count": 279,
   "metadata": {},
   "outputs": [
    {
     "name": "stderr",
     "output_type": "stream",
     "text": [
      "20it [02:18,  6.49s/it]\n"
     ]
    }
   ],
   "source": [
    "all_hws = np.linspace(0, 1, 20)\n",
    "all_cws = np.linspace(0, 1, 30)\n",
    "info_map = np.zeros((20, 30))\n",
    "snr_map = np.zeros((20, 30))\n",
    "spatial_signals = 10. * generate_spatial_signals(samples)\n",
    "for idh, hw in tqdm(enumerate(all_hws)):\n",
    "    for idc, cw in enumerate(all_cws):\n",
    "        filters = filter_bank([hw], [cw])\n",
    "#         sigma_f = np.cov(filters)\n",
    "#         sigma_s = np.cov(np.dot(filters[:, :-1], spatial_signals.T))\n",
    "        sigma_f = np.dot(filters, filters.T)\n",
    "        fs = np.dot(filters[:, :-1], spatial_signals.T)\n",
    "        sigma_s = np.dot(fs, fs.T)\n",
    "\n",
    "        def sigmas(filter_constants, return_flag='sigmas'):\n",
    "            ff_const = np.outer(filter_constants, filter_constants)\n",
    "#             sigma_n = input_noise**2 * ff_const * sigma_f + output_noise**2 * np.eye(ff_const.shape[0])\n",
    "            nn = input_noise**2 * np.eye(filters.shape[-1])\n",
    "            fn = np.dot(np.dot(filters, nn), filters.T)\n",
    "            sigma_n = fn + output_noise**2 * np.eye(ff_const.shape[0])\n",
    "            sigma_signal = ff_const * sigma_s\n",
    "            sigma_t = sigma_signal + sigma_n\n",
    "\n",
    "            signal_var = np.diag(sigma_signal)\n",
    "            noise_var = np.diag(sigma_n)\n",
    "            snr = signal_var/noise_var\n",
    "            if return_flag == 'snr':\n",
    "                return snr\n",
    "            elif return_flag == 'sigmas':\n",
    "                return sigma_t, sigma_n\n",
    "            elif return_flag == 'power':\n",
    "                return np.diag(sigma_t)\n",
    "\n",
    "        def mse_snr(filter_constants):\n",
    "            snr = sigmas(filter_constants, return_flag='snr')\n",
    "            return np.mean((snr - target_snr)**2)\n",
    "        \n",
    "        def mse_power(filter_constants):\n",
    "            power = sigmas(filter_constants, return_flag='power')\n",
    "            return np.mean((power - target_power)**2)\n",
    "\n",
    "        res = scipy.optimize.minimize(mse_power, np.random.rand(sigma_f.shape[0], 1))\n",
    "        opt_filter_const = abs(res.x)\n",
    "        \n",
    "        snr = sigmas(opt_filter_const, return_flag='snr')\n",
    "        sigma_t, sigma_n = sigmas(opt_filter_const)\n",
    "        chol_t = np.sum(np.log(np.diag(np.linalg.cholesky(2 * np.pi * np.exp(1) * sigma_t))))\n",
    "        chol_n = np.sum(np.log(np.diag(np.linalg.cholesky(2 * np.pi * np.exp(1) * sigma_n))))\n",
    "        mi =  0.5 * (chol_t - chol_n)\n",
    "        info_map[idh, idc] = mi\n",
    "        snr_map[idh, idc] = np.mean(snr)"
   ]
  },
  {
   "cell_type": "code",
   "execution_count": 280,
   "metadata": {},
   "outputs": [
    {
     "data": {
      "text/plain": [
       "<matplotlib.colorbar.Colorbar at 0x7f7fc9b6f518>"
      ]
     },
     "execution_count": 280,
     "metadata": {},
     "output_type": "execute_result"
    },
    {
     "data": {
      "image/png": "[encoded data removed]",
      "text/plain": [
       "<matplotlib.figure.Figure at 0x7f7fc8d70ef0>"
      ]
     },
     "metadata": {},
     "output_type": "display_data"
    }
   ],
   "source": [
    "plt.imshow(info_map)\n",
    "plt.colorbar()"
   ]
  },
  {
   "cell_type": "markdown",
   "metadata": {},
   "source": [
    "# Okay we've settled on the following:"
   ]
  },
  {
   "cell_type": "code",
   "execution_count": 281,
   "metadata": {
    "collapsed": true
   },
   "outputs": [],
   "source": [
    "def filter_bank(hws, cws):\n",
    "    filters_sparse = []\n",
    "    for hw, cw in zip(hws, cws):\n",
    "        rf_1d = rf_model(hw, cw)\n",
    "        t = scipy.linalg.toeplitz(np.zeros(400), r=rf_1d)\n",
    "        t_rev = scipy.linalg.toeplitz(np.zeros(400), r=rf_1d[::-1])[::-1, ::-1]\n",
    "        filters = np.vstack([t_rev, t])[200:-200]\n",
    "        filters_sparse.append(filters[40:-30:50])\n",
    "    return np.vstack(filters_sparse)"
   ]
  },
  {
   "cell_type": "code",
   "execution_count": 282,
   "metadata": {
    "collapsed": true
   },
   "outputs": [],
   "source": [
    "input_noise = 0.0469253741641 #0.098762200628786892\n",
    "output_noise = 0.35\n",
    "target_power = 48.053365503112332 #54.131410989171826\n",
    "# target_power = 100.\n",
    "# target_snr = 0.5"
   ]
  },
  {
   "cell_type": "code",
   "execution_count": 285,
   "metadata": {},
   "outputs": [
    {
     "name": "stderr",
     "output_type": "stream",
     "text": [
      "60it [01:43,  1.79s/it]\n"
     ]
    }
   ],
   "source": [
    "hw_res = 60\n",
    "cw_res = 80\n",
    "all_hws = np.linspace(0, 1, hw_res)\n",
    "all_cws = np.linspace(0, 1, cw_res)\n",
    "info_map = np.zeros((hw_res, cw_res))\n",
    "spatial_signals = generate_spatial_signals(samples)\n",
    "for idh, hw in tqdm(enumerate(all_hws)):\n",
    "    for idc, cw in enumerate(all_cws):\n",
    "        filters = filter_bank([hw], [cw])\n",
    "        sigma_f = np.dot(filters, filters.T)\n",
    "        fs = np.dot(filters[:, :-1], spatial_signals.T)\n",
    "        sigma_s = np.dot(fs, fs.T)\n",
    "\n",
    "        def sigmas(filter_constants, return_flag='sigmas'):\n",
    "            ff_const = np.outer(filter_constants, filter_constants)\n",
    "            sigma_n = input_noise**2 * ff_const * sigma_f + output_noise**2 * np.eye(ff_const.shape[0])\n",
    "            sigma_signal = ff_const * sigma_s\n",
    "            sigma_t = sigma_signal + sigma_n\n",
    "\n",
    "            signal_var = np.diag(sigma_signal)\n",
    "            noise_var = np.diag(sigma_n)\n",
    "            snr = signal_var/noise_var\n",
    "            if return_flag == 'snr':\n",
    "                return snr\n",
    "            elif return_flag == 'sigmas':\n",
    "                return sigma_t, sigma_n\n",
    "            elif return_flag == 'power':\n",
    "                return np.diag(sigma_t)\n",
    "\n",
    "        def mse_snr(filter_constants):\n",
    "            snr = sigmas(filter_constants, return_flag='snr')\n",
    "            return np.mean((snr - target_snr)**2)\n",
    "        \n",
    "        def mse_power(filter_constants):\n",
    "            power = sigmas(filter_constants, return_flag='power')\n",
    "            return np.mean((power - target_power)**2)\n",
    "\n",
    "        res = scipy.optimize.minimize(mse_power, np.random.rand(sigma_f.shape[0], 1))\n",
    "        opt_filter_const = abs(res.x)\n",
    "        \n",
    "        sigma_t, sigma_n = sigmas(opt_filter_const)\n",
    "        chol_t = np.sum(np.log(np.diag(np.linalg.cholesky(2 * np.pi * np.exp(1) * sigma_t))))\n",
    "        chol_n = np.sum(np.log(np.diag(np.linalg.cholesky(2 * np.pi * np.exp(1) * sigma_n))))\n",
    "        mi =  0.5 * (chol_t - chol_n)\n",
    "        info_map[idh, idc] = mi"
   ]
  },
  {
   "cell_type": "code",
   "execution_count": 290,
   "metadata": {},
   "outputs": [
    {
     "data": {
      "text/plain": [
       "(0, 1)"
      ]
     },
     "execution_count": 290,
     "metadata": {},
     "output_type": "execute_result"
    },
    {
     "data": {
      "image/png": "[encoded data removed]",
      "text/plain": [
       "<matplotlib.figure.Figure at 0x7f7fc87cf5c0>"
      ]
     },
     "metadata": {},
     "output_type": "display_data"
    }
   ],
   "source": [
    "min_info = info_map.min()\n",
    "max_info = info_map.max()\n",
    "plt.imshow(info_map, cmap='gray', extent=(all_cws[0], all_cws[-1], all_hws[-1], all_hws[0]),\n",
    "              aspect='auto', clim=[min_info, max_info])\n",
    "cbar = plt.colorbar()\n",
    "# cbar.set_ticks([6,7,8,9])\n",
    "cbar.set_ticks([6, 8, 10, 12])\n",
    "# plt.clim(0,np.max(info_color_map))\n",
    "cbar.ax.set_ylabel('Mutual information (bits)', fontsize=18)\n",
    "plt.ylim([0,1])"
   ]
  },
  {
   "cell_type": "code",
   "execution_count": null,
   "metadata": {
    "collapsed": true
   },
   "outputs": [],
   "source": []
  }
 ],
 "metadata": {
  "kernelspec": {
   "display_name": "Python 3",
   "language": "python",
   "name": "python3"
  },
  "language_info": {
   "codemirror_mode": {
    "name": "ipython",
    "version": 3
   },
   "file_extension": ".py",
   "mimetype": "text/x-python",
   "name": "python",
   "nbconvert_exporter": "python",
   "pygments_lexer": "ipython3",
   "version": "3.6.3"
  }
 },
 "nbformat": 4,
 "nbformat_minor": 1
}
