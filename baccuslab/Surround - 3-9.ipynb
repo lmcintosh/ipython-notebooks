{
 "cells": [
  {
   "cell_type": "code",
   "execution_count": 1,
   "metadata": {
    "collapsed": false,
    "deletable": true,
    "editable": true
   },
   "outputs": [
    {
     "name": "stderr",
     "output_type": "stream",
     "text": [
      "/home/lane/.local/lib/python3.5/site-packages/matplotlib-2.0.0-py3.5-linux-x86_64.egg/matplotlib/__init__.py:917: UserWarning: axes.hold is deprecated. Please remove it from your matplotlibrc and/or style files.\n",
      "  warnings.warn(self.msg_depr_set % key)\n",
      "/home/lane/.local/lib/python3.5/site-packages/matplotlib-2.0.0-py3.5-linux-x86_64.egg/matplotlib/rcsetup.py:152: UserWarning: axes.hold is deprecated, will be removed in 3.0\n",
      "  warnings.warn(\"axes.hold is deprecated, will be removed in 3.0\")\n",
      "/home/lane/.local/lib/python3.5/site-packages/matplotlib-2.0.0-py3.5-linux-x86_64.egg/matplotlib/style/core.py:53: UserWarning: Style includes a parameter, 'interactive', that is not related to style.  Ignoring\n",
      "  \"to style.  Ignoring\".format(key))\n",
      "/home/lane/.local/lib/python3.5/site-packages/matplotlib-2.0.0-py3.5-linux-x86_64.egg/matplotlib/style/core.py:53: UserWarning: Style includes a parameter, 'timezone', that is not related to style.  Ignoring\n",
      "  \"to style.  Ignoring\".format(key))\n",
      "/home/lane/.local/lib/python3.5/site-packages/matplotlib-2.0.0-py3.5-linux-x86_64.egg/matplotlib/__init__.py:917: UserWarning: axes.hold is deprecated. Please remove it from your matplotlibrc and/or style files.\n",
      "  warnings.warn(self.msg_depr_set % key)\n",
      "/home/lane/.local/lib/python3.5/site-packages/matplotlib-2.0.0-py3.5-linux-x86_64.egg/matplotlib/rcsetup.py:152: UserWarning: axes.hold is deprecated, will be removed in 3.0\n",
      "  warnings.warn(\"axes.hold is deprecated, will be removed in 3.0\")\n"
     ]
    }
   ],
   "source": [
    "import matplotlib\n",
    "matplotlib.use('Agg')\n",
    "\n",
    "import numpy as np\n",
    "import collections\n",
    "from functools import partial\n",
    "from os.path import expanduser\n",
    "from tqdm import tqdm\n",
    "\n",
    "from surround.image_processing import *\n",
    "from surround.data_handling import *\n",
    "from surround.efficient_coding import *\n",
    "from aesthetics.plotting import *\n",
    "from surround.modeling import gaussian, difference_of_gaussians\n",
    "\n",
    "import pyret.filtertools as ft\n",
    "from sklearn.decomposition import PCA\n",
    "from scipy.stats import sem\n",
    "from scipy.optimize import curve_fit, minimize\n",
    "from scipy.interpolate import interp1d\n",
    "\n",
    "# This is a bit of magic to make matplotlib figures appear inline in the\n",
    "# notebook rather than in a new window.\n",
    "%matplotlib inline\n",
    "import matplotlib.pyplot as plt\n",
    "from matplotlib.ticker import MultipleLocator, FormatStrFormatter\n",
    "\n",
    "plt.style.use('deepretina')\n",
    "\n",
    "# Some more magic so that the notebook will reload external python modules;\n",
    "# see http://stackoverflow.com/questions/1907993/autoreload-of-modules-in-ipython\n",
    "%load_ext autoreload\n",
    "%autoreload 2"
   ]
  },
  {
   "cell_type": "markdown",
   "metadata": {
    "deletable": true,
    "editable": true
   },
   "source": [
    "Changes from previous versions:\n",
    "- Constrain spacing by photoreceptor spacing\n",
    "- Constrain width by visual field of salamander retina  \n",
    "- Constrain output power instead of output variance"
   ]
  },
  {
   "cell_type": "code",
   "execution_count": 2,
   "metadata": {
    "collapsed": false,
    "deletable": true,
    "editable": true
   },
   "outputs": [
    {
     "name": "stderr",
     "output_type": "stream",
     "text": [
      "/usr/local/lib/python3.5/dist-packages/ipykernel/__main__.py:8: DeprecationWarning: object of type <class 'float'> cannot be safely interpreted as an integer.\n",
      "/usr/local/lib/python3.5/dist-packages/ipykernel/__main__.py:9: DeprecationWarning: object of type <class 'float'> cannot be safely interpreted as an integer.\n"
     ]
    }
   ],
   "source": [
    "microns_per_degree = 50.0 # depends on species; this is for salamander\n",
    "photoreceptor_width = 10.0/microns_per_degree # salamander photoreceptors have width of 10-20 microns\n",
    "retina_width = 4000.0/microns_per_degree # salamander retina is about 4 mm\n",
    "frequency_spacing = 1./retina_width # this is the lowest non-DC frequency we can estimate\n",
    "highest_frequency = 0.5/photoreceptor_width # this is the highest frequency we can estimate (Nyquist freq.)\n",
    "\n",
    "N = retina_width//photoreceptor_width\n",
    "freqs = np.linspace(0, highest_frequency, N//2 + 1)\n",
    "space = np.concatenate([np.linspace(-0.5*retina_width, 0, N//2 + 1)[:-1], np.linspace(0, 0.5*retina_width, N//2 + 1)])"
   ]
  },
  {
   "cell_type": "markdown",
   "metadata": {
    "deletable": true,
    "editable": true
   },
   "source": [
    "### Load receptive fields"
   ]
  },
  {
   "cell_type": "code",
   "execution_count": 3,
   "metadata": {
    "collapsed": true,
    "deletable": true,
    "editable": true
   },
   "outputs": [],
   "source": [
    "# These are loaded as (space, receptive) field tuples\n",
    "cells = {}\n",
    "cells['ganglion'] = load_ganglion_cells(space_mode='peak')\n",
    "cells['bipolar'] = load_bipolar_cells(space_mode='peak')\n",
    "cells['amacrine'] = load_amacrine_cells(space_mode='peak')\n",
    "cells['horizontal'] = load_horizontal_cells(space_mode='peak')"
   ]
  },
  {
   "cell_type": "code",
   "execution_count": 4,
   "metadata": {
    "collapsed": true,
    "deletable": true,
    "editable": true
   },
   "outputs": [],
   "source": [
    "receptive_fields = collections.defaultdict(list)\n",
    "for c in cells.keys():\n",
    "    for s, rf in cells[c]:\n",
    "        this_cell_interp = interp1d(s, rf, kind='slinear', bounds_error=False, fill_value=[0])\n",
    "        receptive_fields[c].append(this_cell_interp(space))\n",
    "        \n",
    "average_ganglion_rf = np.mean(receptive_fields['ganglion'], axis=0)"
   ]
  },
  {
   "cell_type": "markdown",
   "metadata": {
    "deletable": true,
    "editable": true
   },
   "source": [
    "### Compute projective fields"
   ]
  },
  {
   "cell_type": "code",
   "execution_count": 5,
   "metadata": {
    "collapsed": false,
    "deletable": true,
    "editable": true
   },
   "outputs": [],
   "source": [
    "horz_pfs_full = get_horizontal_projective_field(conv_mode='full')\n",
    "horz_pfs_same = get_horizontal_projective_field(conv_mode='same')\n",
    "ama_pfs_full = get_amacrine_projective_field(conv_mode='full')\n",
    "ama_pfs_same = get_amacrine_projective_field(conv_mode='same')\n",
    "\n",
    "space_h_full, horz_pf_full, horz_sem_full = get_mean(horz_pfs_full)\n",
    "space_h_same, horz_pf_same, horz_sem_same = get_mean(horz_pfs_same)\n",
    "space_a_full, ama_pf_full, ama_sem_full = get_mean(ama_pfs_full)\n",
    "space_a_same, ama_pf_same, ama_sem_same = get_mean(ama_pfs_same)"
   ]
  },
  {
   "cell_type": "code",
   "execution_count": 6,
   "metadata": {
    "collapsed": true,
    "deletable": true,
    "editable": true
   },
   "outputs": [],
   "source": [
    "horz_pf_interp = interp1d(space_h_full, horz_pf_full, kind='slinear', bounds_error=False, fill_value=[0])\n",
    "ama_pf_interp = interp1d(space_a_full, ama_pf_full, kind='slinear', bounds_error=False, fill_value=[0])\n",
    "\n",
    "horz_pf = horz_pf_interp(space)\n",
    "ama_pf = ama_pf_interp(space)"
   ]
  },
  {
   "cell_type": "markdown",
   "metadata": {
    "deletable": true,
    "editable": true
   },
   "source": [
    "### Signal"
   ]
  },
  {
   "cell_type": "code",
   "execution_count": null,
   "metadata": {
    "collapsed": false,
    "deletable": true,
    "editable": true
   },
   "outputs": [
    {
     "name": "stdout",
     "output_type": "stream",
     "text": [
      "Only 70 files in directory.\n"
     ]
    }
   ],
   "source": [
    "# choose an image path from cd13A (flood plain, water, horizon) or cd01A (baboons, trees, bushes)\n",
    "im_path     = expanduser('~/data/images/Tkacik/cd01A')\n",
    "num_images  = 100\n",
    "patch_size  = None\n",
    "pixelsToDeg = 92./2 # or 2./92 degrees per pixel (spacing)\n",
    "spacing     = 1./pixelsToDeg # number of degree spacing between pixels\n",
    "normalize   = 'divisive'\n",
    "contrast    = 0.35\n",
    "patches     = load_images(im_path, num_images, patch_size, square=True, \n",
    "                          normalize=normalize, effective_contrast=contrast)\n",
    "signal_amps, signal_freqs, signal_sem = averageAmplitudeSpectrum2d(patches, spacing=spacing)"
   ]
  },
  {
   "cell_type": "code",
   "execution_count": null,
   "metadata": {
    "collapsed": false,
    "deletable": true,
    "editable": true
   },
   "outputs": [],
   "source": [
    "def func(x, a, b):\n",
    "    return a/(x**b) # adding a constant tends to make moreSpectra have negative numbers\n",
    "\n",
    "popt_signal, pcov  = curve_fit(func, signal_freqs[1:], signal_amps[1:])\n",
    "print(popt_signal)\n",
    "signal = func(freqs, *popt_signal)\n",
    "signal[0] = np.sqrt(np.sum(signal[1:]))"
   ]
  },
  {
   "cell_type": "markdown",
   "metadata": {
    "deletable": true,
    "editable": true
   },
   "source": [
    "### Noise  \n",
    "Note that the amplitude of the average_ganglion_fft will change the SNR. As the amplitude $\\rightarrow \\infty$, we get $$\\rm{SNR} \\rightarrow \\frac{\\sum (\\rm{filter}_{1:f} \\times \\rm{signal}_{1:f})^2}{\\sum (\\rm{filter}_{1:f} \\times N_{\\rm{in}})^2}$$.  \n",
    "\n",
    "Since the scale of the ganglion fft is arbitrary, we can look at the SNR in this limit."
   ]
  },
  {
   "cell_type": "code",
   "execution_count": null,
   "metadata": {
    "collapsed": true,
    "deletable": true,
    "editable": true
   },
   "outputs": [],
   "source": [
    "input_noise = 0.098762200628786892\n",
    "output_noise = 0.35\n",
    "target_power = 54.131410989171826"
   ]
  },
  {
   "cell_type": "code",
   "execution_count": null,
   "metadata": {
    "collapsed": false,
    "deletable": true,
    "editable": true
   },
   "outputs": [],
   "source": [
    "fig = plt.gcf()\n",
    "fig.set_size_inches((2,2))\n",
    "average_ganglion_fft = abs(np.fft.rfft(average_ganglion_rf))\n",
    "print(get_snr(input_noise, output_noise, signal, 1000*average_ganglion_fft, mode='variance'))\n",
    "snrs = [get_snr(input_noise, output_noise, signal, c*average_ganglion_fft) for c in np.linspace(0,50,100)]\n",
    "plt.plot(np.linspace(0,50,100), snrs)\n",
    "adjust_spines(plt.gca())\n",
    "plt.xlabel('Arbitrary scaling of ganglion cell filter')\n",
    "plt.ylabel('SNR')"
   ]
  },
  {
   "cell_type": "code",
   "execution_count": null,
   "metadata": {
    "collapsed": false,
    "deletable": true,
    "editable": true
   },
   "outputs": [],
   "source": [
    "# SNR = 0.269 is total SNR from ganglion recordings of 112 repeats to 30 seconds natural scenes\n",
    "def find_filt_const(filt_const):\n",
    "    this_snr = get_snr(input_noise, output_noise, signal, filt_const*average_ganglion_fft, mode='variance')\n",
    "    return (this_snr - 0.26912469)**2\n",
    "\n",
    "filt_const_opt = scipy.optimize.minimize_scalar(find_filt_const)\n",
    "\n",
    "print(get_snr(input_noise, output_noise, signal, filt_const_opt.x*average_ganglion_fft, mode='variance'))"
   ]
  },
  {
   "cell_type": "markdown",
   "metadata": {
    "deletable": true,
    "editable": true
   },
   "source": [
    "### Ideal filter"
   ]
  },
  {
   "cell_type": "code",
   "execution_count": null,
   "metadata": {
    "collapsed": false,
    "deletable": true,
    "editable": true
   },
   "outputs": [],
   "source": [
    "ideal_filter = unique_soln(signal**2, input_noise, output_noise)"
   ]
  },
  {
   "cell_type": "markdown",
   "metadata": {
    "deletable": true,
    "editable": true
   },
   "source": [
    "### Model of Horizontal Projective Field + Amacrine Projective Field + Center"
   ]
  },
  {
   "cell_type": "code",
   "execution_count": null,
   "metadata": {
    "collapsed": true,
    "deletable": true,
    "editable": true
   },
   "outputs": [],
   "source": [
    "horz_pf /= np.sum(horz_pf)\n",
    "ama_pf /= np.sum(ama_pf)"
   ]
  },
  {
   "cell_type": "markdown",
   "metadata": {
    "deletable": true,
    "editable": true
   },
   "source": [
    "Load David's 1721 ganglion cells"
   ]
  },
  {
   "cell_type": "code",
   "execution_count": null,
   "metadata": {
    "collapsed": true,
    "deletable": true,
    "editable": true
   },
   "outputs": [],
   "source": [
    "data_path = expanduser('~/data/kastner/receptive_fields/')\n",
    "spatialDelta = 0.05 # mm\n",
    "micronsPerDeg = 50.\n",
    "ganglion_rfs = {\n",
    "    'fast_on': np.loadtxt(data_path + 'linesRF1.txt').reshape((126, 101, -1)),\n",
    "    'fast_off_adapting': np.loadtxt(data_path + 'linesRF19.txt').reshape((-1, 101, 96)),\n",
    "    'fast_off_sensitizing': np.loadtxt(data_path + 'linesRF8.txt').reshape((-1, 101, 96)),\n",
    "    'medium_off_adapting': np.loadtxt(data_path + 'linesRF29.txt').reshape((-1, 101, 96)),\n",
    "    'slow_off': np.loadtxt(data_path + 'linesRF17.txt').reshape((-1, 101, 96)),\n",
    "}"
   ]
  },
  {
   "cell_type": "code",
   "execution_count": null,
   "metadata": {
    "collapsed": true,
    "deletable": true,
    "editable": true
   },
   "outputs": [],
   "source": [
    "for celltype in ganglion_rfs.keys():\n",
    "    for rf in ganglion_rfs[celltype]:\n",
    "        # since receptive fields are noisy, use PCA\n",
    "        pca = PCA(n_components=2)\n",
    "        pca.fit(rf)\n",
    "        g_pca = pca.components_[0]\n",
    "\n",
    "        sign_of_pc = -1 * np.sign(g_pca[abs(g_pca) == np.max(abs(g_pca))])\n",
    "        this_space = get_space(g_pca, spatialDelta, micronsPerDeg, kind='peak')\n",
    "        \n",
    "        rf_interp = interp1d(this_space, sign_of_pc*g_pca, kind='slinear', bounds_error=False, fill_value=[0])\n",
    "\n",
    "        receptive_fields[celltype].append(rf_interp(space))"
   ]
  },
  {
   "cell_type": "markdown",
   "metadata": {
    "deletable": true,
    "editable": true
   },
   "source": [
    "Get center widths for each celltype"
   ]
  },
  {
   "cell_type": "code",
   "execution_count": null,
   "metadata": {
    "collapsed": true,
    "deletable": true,
    "editable": true
   },
   "outputs": [],
   "source": [
    "diff_of_gauss_mu0 = partial(difference_of_gaussians, mu=0)"
   ]
  },
  {
   "cell_type": "code",
   "execution_count": null,
   "metadata": {
    "collapsed": true,
    "deletable": true,
    "editable": true
   },
   "outputs": [],
   "source": [
    "def center_and_surround(space, center_width, surround_width, center_strength, surround_strength):\n",
    "    return diff_of_gauss_mu0(space, abs(center_width), abs(surround_width),\n",
    "                            -abs(center_strength), abs(surround_strength))"
   ]
  },
  {
   "cell_type": "code",
   "execution_count": null,
   "metadata": {
    "collapsed": false,
    "deletable": true,
    "editable": true
   },
   "outputs": [],
   "source": [
    "center_widths = collections.defaultdict(list)\n",
    "surround_widths = collections.defaultdict(list)\n",
    "center_strengths = collections.defaultdict(list)\n",
    "surround_strengths = collections.defaultdict(list)\n",
    "fit_failures = collections.defaultdict(list)\n",
    "\n",
    "for celltype in receptive_fields.keys():\n",
    "    if celltype in ['ganglion', 'fast_on', 'fast_off_adapting', 'fast_off_sensitizing', \n",
    "                    'medium_off_adapting', 'slow_off']:\n",
    "        \n",
    "        for idg, g in tqdm(enumerate(receptive_fields[celltype])):\n",
    "            try:\n",
    "                popt_this, pcov = curve_fit(center_and_surround, space, g, p0=[1.5, 3.5, -10, 30])\n",
    "                center_id = np.argmin(abs(popt_this[:2]))\n",
    "                surround_id = 1 ^ center_id\n",
    "                center_widths[celltype].append(abs(popt_this[center_id]))\n",
    "                surround_widths[celltype].append(abs(popt_this[surround_id]))\n",
    "                center_strengths[celltype].append(popt_this[center_id+2])\n",
    "                surround_strengths[celltype].append(popt_this[surround_id+2])\n",
    "#                 plt.plot(space, diff_of_gauss_mu0(space, *popt_this), color=np.random.rand(3), alpha=0.6)\n",
    "            except:\n",
    "                fit_failures[celltype].append(idg)\n",
    "            \n",
    "                # just set params to median across cells\n",
    "                # this way the params are still aligned with the receptive field id\n",
    "                center_widths[celltype].append(np.median(center_widths[celltype]))\n",
    "                surround_widths[celltype].append(np.median(surround_widths[celltype]))\n",
    "                center_strengths[celltype].append(np.median(center_strengths[celltype]))\n",
    "                surround_strengths[celltype].append(np.median(surround_strengths[celltype]))\n",
    "                \n",
    "#                 print(\"Couldn't fit cell %d\" %idg)"
   ]
  },
  {
   "cell_type": "code",
   "execution_count": null,
   "metadata": {
    "collapsed": false,
    "deletable": true,
    "editable": true
   },
   "outputs": [],
   "source": [
    "for f in fit_failures.keys():\n",
    "    print(\"couldn't fit %d in %s\" %(len(fit_failures[f]), f))"
   ]
  },
  {
   "cell_type": "markdown",
   "metadata": {
    "deletable": true,
    "editable": true
   },
   "source": [
    "Plot the average profile across celltypes"
   ]
  },
  {
   "cell_type": "code",
   "execution_count": null,
   "metadata": {
    "collapsed": false,
    "deletable": true,
    "editable": true
   },
   "outputs": [],
   "source": [
    "median_center_widths = {}\n",
    "for celltype in center_widths.keys():\n",
    "    cws = np.array(center_widths[celltype])\n",
    "    sws = np.array(surround_widths[celltype])\n",
    "    css = np.array(center_strengths[celltype])\n",
    "    sss = np.array(surround_strengths[celltype])\n",
    "#     mean_center_widths[celltype] = np.mean(cws[cws < 500])\n",
    "#     mean_surround_width = np.mean(sws[sws < 500])\n",
    "#     mean_center_strength = np.mean(css[abs(css) < 500])\n",
    "#     mean_surround_strength = np.mean(sss[abs(sss) < 500])\n",
    "    \n",
    "    median_center_widths[celltype] = np.median(abs(cws))\n",
    "    median_surround_width = np.median(abs(sws))\n",
    "    median_center_strength = np.median(-abs(css))\n",
    "    median_surround_strength = np.median(abs(sss))\n",
    "#     plt.plot(space, diff_of_gauss_mu0(space, median_center_widths[celltype], median_surround_width,\n",
    "#                                      median_center_strength, median_surround_strength), label=celltype)\n",
    "# plt.legend(frameon=False, fontsize=9, loc='lower left')\n",
    "# adjust_spines(plt.gca())"
   ]
  },
  {
   "cell_type": "code",
   "execution_count": null,
   "metadata": {
    "collapsed": false,
    "deletable": true,
    "editable": true
   },
   "outputs": [],
   "source": [
    "median_center_widths"
   ]
  },
  {
   "cell_type": "markdown",
   "metadata": {
    "deletable": true,
    "editable": true
   },
   "source": [
    "Bar charts to visualize diversity"
   ]
  },
  {
   "cell_type": "markdown",
   "metadata": {
    "deletable": true,
    "editable": true
   },
   "source": [
    "## Run info maps"
   ]
  },
  {
   "cell_type": "code",
   "execution_count": null,
   "metadata": {
    "collapsed": true,
    "deletable": true,
    "editable": true
   },
   "outputs": [],
   "source": [
    "resolution = 150\n",
    "horz_weights = np.linspace(0,1,resolution)\n",
    "center_weights = np.linspace(0,1,resolution)"
   ]
  },
  {
   "cell_type": "code",
   "execution_count": null,
   "metadata": {
    "collapsed": false,
    "deletable": true,
    "editable": true
   },
   "outputs": [],
   "source": [
    "init_filt_const = 10.9\n",
    "info_maps = collections.defaultdict(list) # one info map per celltype (since they will be a function of center width)\n",
    "failures = collections.defaultdict(list)\n",
    "detailed_failures = collections.defaultdict(list)\n",
    "for celltype in receptive_fields.keys():\n",
    "    if celltype in ['ganglion', 'fast_on', 'fast_off_adapting', 'fast_off_sensitizing', \n",
    "                    'medium_off_adapting', 'slow_off']:\n",
    "        center = gaussian(x=space, sigma=median_center_widths[celltype], mu=0.)\n",
    "        center /= -np.sum(center) # make center unit vector like horz_pf and ama_pf\n",
    "        \n",
    "        def rf_model(horz_weight, center_weight):\n",
    "            return center_weight*center + (1-center_weight)*(horz_weight*horz_pf + (1-horz_weight)*ama_pf)\n",
    "        \n",
    "#         print('Information map for %s cells.' %celltype)\n",
    "        \n",
    "        infomap = np.zeros((resolution, resolution))\n",
    "        for idh,hw in tqdm(enumerate(horz_weights)):\n",
    "            for idc,cw in enumerate(center_weights):\n",
    "                rf = rf_model(hw, cw)\n",
    "                rf_filt = abs(np.fft.rfft(rf))\n",
    "                \n",
    "                # constrain model\n",
    "                def constrain_filt_power(filt_const):\n",
    "                    size = len(rf_filt)\n",
    "                    output_power = np.sum((signal*filt_const*rf_filt)**2 \n",
    "                                          + (input_noise*filt_const*rf_filt)**2\n",
    "                                          + output_noise**2)\n",
    "                    \n",
    "                    return (target_power - output_power)**2\n",
    "\n",
    "                filt_const_opt = scipy.optimize.minimize(constrain_filt_power, init_filt_const)\n",
    "                iterations = 0\n",
    "                new_init_filt_const = init_filt_const\n",
    "                while not filt_const_opt.success:\n",
    "                    iterations += 1\n",
    "                    new_init_filt_const *= 10\n",
    "                    filt_const_opt = scipy.optimize.minimize(constrain_filt_power, new_init_filt_const)\n",
    "                    if iterations > 10:\n",
    "                        detailed_failures[celltype] = filt_const_opt\n",
    "                        break\n",
    "                \n",
    "                filt_const = abs(filt_const_opt['x'])\n",
    "                \n",
    "                if not filt_const_opt.success:\n",
    "                    failures[celltype].append([hw, cw])\n",
    "\n",
    "                signal_power = (filt_const * rf_filt * signal)**2\n",
    "                noise_power = (filt_const * rf_filt * input_noise)**2 + output_noise**2\n",
    "                infomap[idh,idc] = 0.5*np.sum(np.log2(1 + signal_power/noise_power))\n",
    "        info_maps[celltype] = infomap"
   ]
  },
  {
   "cell_type": "markdown",
   "metadata": {
    "deletable": true,
    "editable": true
   },
   "source": [
    "## Fit cells to rf_model"
   ]
  },
  {
   "cell_type": "code",
   "execution_count": null,
   "metadata": {
    "collapsed": false,
    "deletable": true,
    "editable": true
   },
   "outputs": [],
   "source": [
    "colorscheme = {\n",
    "    'ganglion': 'k',\n",
    "    'fast_off_sensitizing': 'r',\n",
    "    'fast_off_adapting': 'g',\n",
    "    'slow_off': 'y',\n",
    "    'fast_on': 'b',\n",
    "    'medium_off_adapting': 'c'\n",
    "}"
   ]
  },
  {
   "cell_type": "code",
   "execution_count": null,
   "metadata": {
    "collapsed": true
   },
   "outputs": [],
   "source": []
  },
  {
   "cell_type": "markdown",
   "metadata": {},
   "source": [
    "# Try fitting in spatial frequency"
   ]
  },
  {
   "cell_type": "code",
   "execution_count": null,
   "metadata": {
    "collapsed": true
   },
   "outputs": [],
   "source": [
    "iterations = 1\n",
    "penalty = 80.0\n",
    "\n",
    "fits_fft = collections.defaultdict(list)\n",
    "mean_squared_errors_fft = collections.defaultdict(list)\n",
    "abs_errors_fft = collections.defaultdict(list)\n",
    "variances_fft = collections.defaultdict(list)\n",
    "fft_centers = collections.defaultdict(list)\n",
    "# normed_receptive_fields = collections.defaultdict(list)\n",
    "\n",
    "for celltype in receptive_fields.keys():\n",
    "    if celltype in ['ganglion', 'fast_on', 'fast_off_adapting', 'fast_off_sensitizing', \n",
    "                    'medium_off_adapting', 'slow_off']: \n",
    "                \n",
    "        popts = []\n",
    "        \n",
    "#         print('Fitting ganglion celltype %s.' %celltype)\n",
    "        for i,rf in tqdm(enumerate(receptive_fields[celltype])):\n",
    "            center = gaussian(x=space, sigma=center_widths[celltype][i], mu=0.)\n",
    "#             center = np.where(rf < 0.0, rf, 0.0)\n",
    "            center /= -np.sum(center) # make center unit vector like horz_pf and ama_pf\n",
    "\n",
    "            def rf_model(center, horz_weight, center_weight):\n",
    "                # do the same transformation that happens in model_error_to_ganglion_cells\n",
    "                center = np.where(center < 0, center, 0)\n",
    "                center /= abs(np.sum(center))\n",
    "                \n",
    "                horz_weight = np.min([1.0, abs(horz_weight)])\n",
    "                center_weight = np.min([1.0, abs(center_weight)])\n",
    "                return center_weight*center + (1-center_weight)*(horz_weight*horz_pf + (1-horz_weight)*ama_pf)\n",
    "            \n",
    "            def model_error_to_ganglion_cells(weights):\n",
    "                # constrain to be negative\n",
    "                center = np.where(weights[:-2] < 0, weights[:-2], 0)\n",
    "                # normalize to be unit vector for interpreting center weights\n",
    "                center /= abs(np.sum(center))\n",
    "                \n",
    "                hw, cw = weights[-2:]\n",
    "                modeled_rf = rf_model(center, hw, cw)\n",
    "                normed_rf = np.max(abs(rf))*modeled_rf/np.max(abs(modeled_rf))\n",
    "                \n",
    "                lhs = center[:200]\n",
    "                rhs = center[199:]\n",
    "                lhs_derivatives = np.diff(lhs)\n",
    "                rhs_derivatives = np.diff(rhs)\n",
    "                \n",
    "                # opposite of what you'd expect since center is negative for off cells\n",
    "                lhs_violations = np.sum(np.where(lhs_derivatives > 0, abs(lhs_derivatives), 0))\n",
    "                rhs_violations = np.sum(np.where(rhs_derivatives < 0, abs(rhs_derivatives), 0))\n",
    "                \n",
    "                y = abs(np.fft.rfft(rf))\n",
    "                y_hat = abs(np.fft.rfft(normed_rf))\n",
    "                \n",
    "                return sum(abs(y - y_hat)) + penalty*(lhs_violations + rhs_violations)                \n",
    "\n",
    "            best_fit_err = np.inf\n",
    "            for itr in range(iterations):\n",
    "                this_popt = minimize(model_error_to_ganglion_cells, np.hstack([center, np.random.rand(2)]))\n",
    "                if this_popt.fun < best_fit_err:\n",
    "                    best_fit_err = this_popt.fun\n",
    "                    popt = this_popt\n",
    "            \n",
    "            # get mean squared error\n",
    "            weights = popt.x\n",
    "            center = np.where(weights[:-2] < 0, weights[:-2], 0)\n",
    "            center /= abs(np.sum(center))\n",
    "            \n",
    "            modeled_rf = rf_model(popt.x[:-2], popt.x[-2], popt.x[-1])\n",
    "            normed_rf = np.max(abs(rf))*modeled_rf/np.max(abs(modeled_rf))\n",
    "            mse = np.mean((normed_rf - rf)**2)\n",
    "\n",
    "            # truncate params between 0 and 1\n",
    "#             x = np.where(popt.x < 0, 0, popt.x) # this actually is wrong, since I'm abs(params) in rf_model\n",
    "#             x = np.where(x > 1, 1, x)\n",
    "            x = np.where(abs(popt.x[-2:]) > 1, 1, abs(popt.x[-2:]))\n",
    "            popts.append(x)\n",
    "        \n",
    "            abs_errors_fft[celltype].append(popt.fun)\n",
    "            mean_squared_errors_fft[celltype].append(mse)\n",
    "            variances_fft[celltype].append(np.var(rf))\n",
    "            fft_centers[celltype].append(center)\n",
    "#             normed_receptive_fields[celltype].append(normed_rf)\n",
    "\n",
    "        fits_fft[celltype] = np.stack(popts)"
   ]
  },
  {
   "cell_type": "markdown",
   "metadata": {},
   "source": [
    "#### Example cell fit"
   ]
  },
  {
   "cell_type": "code",
   "execution_count": null,
   "metadata": {
    "collapsed": true
   },
   "outputs": [],
   "source": [
    "idx = 1\n",
    "plt.plot(space, fft_centers['medium_off_adapting'][idx]/np.max(abs(fft_centers['medium_off_adapting'][idx])))\n",
    "plt.plot(space, receptive_fields['medium_off_adapting'][idx]/np.max(abs(receptive_fields['medium_off_adapting'][idx])))\n",
    "plt.xlabel('Space (degrees)')\n",
    "plt.title('Example fast off adapting cell with center', fontsize=15)"
   ]
  },
  {
   "cell_type": "markdown",
   "metadata": {},
   "source": [
    "#### Scatter of parameters"
   ]
  },
  {
   "cell_type": "code",
   "execution_count": null,
   "metadata": {
    "collapsed": true
   },
   "outputs": [],
   "source": [
    "plt.scatter(np.stack(popts)[:,1], np.stack(popts)[:,0])"
   ]
  },
  {
   "cell_type": "markdown",
   "metadata": {},
   "source": [
    "## Fig 4D with new spatial frequency fitting procedure"
   ]
  },
  {
   "cell_type": "code",
   "execution_count": null,
   "metadata": {
    "collapsed": true
   },
   "outputs": [],
   "source": [
    "plt.imshow(info_maps['medium_off_adapting'], extent=(center_weights[0], center_weights[-1], horz_weights[-1], horz_weights[0]),\n",
    "              aspect='auto', clim=[min_info, max_info])\n",
    "cbar = plt.colorbar()\n",
    "cbar.set_ticks([6,7,8,9])\n",
    "# plt.clim(0,np.max(info_color_map))\n",
    "cbar.ax.set_ylabel('Mutual information (bits)', fontsize=18)\n",
    "\n",
    "for idc, celltype in enumerate([k for k in info_maps.keys() if k != 'ganglion']):\n",
    "    # make the points lying on the edges more visible\n",
    "    adjusted_fits1 = np.where(fits_fft[celltype] == 1, 0.995, fits_fft[celltype])\n",
    "    adjusted_fits = np.where(adjusted_fits1 < 0.001, 0.005, adjusted_fits1)\n",
    "    plt.scatter(adjusted_fits[:,1], adjusted_fits[:,0],\n",
    "                c=colorscheme[celltype], edgecolor='w', s=10, alpha=0.5, label=' '.join(celltype.split('_')),\n",
    "                linewidth=0.3)\n",
    "#     plt.scatter(adjusted_fits[example_ids[celltype]][:nexamples_for_this_plot,1],\n",
    "#                adjusted_fits[example_ids[celltype]][:nexamples_for_this_plot,0],\n",
    "#                c=colorscheme[celltype], edgecolor='k', s=60, marker='*', linewidth=0.7)\n",
    "\n",
    "\n",
    "plt.quiver(ideal_fit[1], ideal_fit[0], average_variance_direction[0], average_variance_direction[1],\n",
    "           angles='xy', scale_units='xy', scale=2.5, color='k', edgecolor='w', width=0.012, linewidth=1,\n",
    "          alpha=0.9)\n",
    "# plt.quiver(ideal_fit[1], ideal_fit[0], -average_variance_direction[0], -average_variance_direction[1],\n",
    "#            angles='xy', scale_units='xy', scale=5, color='k', edgecolor='k', width=0.012, linewidth=1,\n",
    "#           alpha=0.9)\n",
    "\n",
    "\n",
    "plt.quiver(ideal_fit[1], ideal_fit[0], average_least_info_direction[0], average_least_info_direction[1],\n",
    "           angles='xy', scale_units='xy', scale=2.5, color='w', edgecolor='k',\n",
    "          alpha=0.7, width=.012, linewidth=1.2)\n",
    "# plt.quiver(ideal_fit[1], ideal_fit[0], -average_least_info_direction[0], -average_least_info_direction[1],\n",
    "#            angles='xy', scale_units='xy', scale=5, color='w', edgecolor='k',\n",
    "#           alpha=0.7, width=.012, linewidth=1.2)\n",
    "\n",
    "plt.scatter(ideal_fit[1], ideal_fit[0], c='k', edgecolor='k', s=150, marker='*', linewidth=0.7)\n",
    "\n",
    "# l = plt.legend(loc='upper left', frameon=False, fontsize=8)\n",
    "# for text in l.get_texts():\n",
    "#     text.set_color(\"white\")\n",
    "plt.ylim([0,1])\n",
    "plt.xlim([center_weights[0], center_weights[-1]])\n",
    "\n",
    "\n",
    "# specify ticks\n",
    "# plt.xticks([0, 0.25, 0.5, 0.75, 1])\n",
    "# plt.yticks([0, 0.25, 0.5, 0.75, 1])\n",
    "majorLocator = MultipleLocator(0.5)\n",
    "majorFormatter = FormatStrFormatter('%0.1f')\n",
    "minorLocator = MultipleLocator(0.25)\n",
    "\n",
    "ax = plt.gca()\n",
    "ax.xaxis.set_major_locator(majorLocator)\n",
    "ax.xaxis.set_major_formatter(majorFormatter)\n",
    "ax.xaxis.set_minor_locator(minorLocator)\n",
    "ax.yaxis.set_major_locator(majorLocator)\n",
    "ax.yaxis.set_major_formatter(majorFormatter)\n",
    "ax.yaxis.set_minor_locator(minorLocator)\n",
    "\n",
    "# plt.title('Total information of various models \\n with fitted ganglion cells', fontsize=16)\n",
    "plt.xlabel('Center (1 - Surround) Weight', fontsize=16)\n",
    "plt.ylabel('Horizontal (1 - Amacrine) Weight', fontsize=16)\n",
    "ax.xaxis.set_ticks_position('bottom')\n",
    "ax.yaxis.set_ticks_position('left')\n",
    "# plt.savefig('Figures for Steve IV.png')"
   ]
  },
  {
   "cell_type": "code",
   "execution_count": null,
   "metadata": {
    "collapsed": true
   },
   "outputs": [],
   "source": []
  }
 ],
 "metadata": {
  "kernelspec": {
   "display_name": "Python 3",
   "language": "python",
   "name": "python3"
  },
  "language_info": {
   "codemirror_mode": {
    "name": "ipython",
    "version": 3
   },
   "file_extension": ".py",
   "mimetype": "text/x-python",
   "name": "python",
   "nbconvert_exporter": "python",
   "pygments_lexer": "ipython3",
   "version": "3.5.2"
  }
 },
 "nbformat": 4,
 "nbformat_minor": 0
}
